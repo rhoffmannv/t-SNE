{
 "cells": [
  {
   "cell_type": "markdown",
   "id": "034f648c",
   "metadata": {},
   "source": [
    "# Importación de librerias y de datos"
   ]
  },
  {
   "cell_type": "code",
   "execution_count": 1,
   "id": "c09624c0",
   "metadata": {},
   "outputs": [],
   "source": [
    "import numpy as np\n",
    "import pandas as pd\n",
    "import plotly.express as px"
   ]
  },
  {
   "cell_type": "code",
   "execution_count": 17,
   "id": "c62c460d",
   "metadata": {},
   "outputs": [],
   "source": [
    "pokemons = pd.read_csv(\"Pokemon.csv\")"
   ]
  },
  {
   "cell_type": "markdown",
   "id": "fbcd3a04",
   "metadata": {},
   "source": [
    "Se puede ver que la única columna con valores NaN es **Type 2**"
   ]
  },
  {
   "cell_type": "code",
   "execution_count": 18,
   "id": "5e4a295a",
   "metadata": {
    "collapsed": true
   },
   "outputs": [
    {
     "name": "stdout",
     "output_type": "stream",
     "text": [
      "<class 'pandas.core.frame.DataFrame'>\n",
      "RangeIndex: 800 entries, 0 to 799\n",
      "Data columns (total 13 columns):\n",
      " #   Column      Non-Null Count  Dtype \n",
      "---  ------      --------------  ----- \n",
      " 0   #           800 non-null    int64 \n",
      " 1   Name        800 non-null    object\n",
      " 2   Type 1      800 non-null    object\n",
      " 3   Type 2      414 non-null    object\n",
      " 4   Total       800 non-null    int64 \n",
      " 5   HP          800 non-null    int64 \n",
      " 6   Attack      800 non-null    int64 \n",
      " 7   Defense     800 non-null    int64 \n",
      " 8   Sp. Atk     800 non-null    int64 \n",
      " 9   Sp. Def     800 non-null    int64 \n",
      " 10  Speed       800 non-null    int64 \n",
      " 11  Generation  800 non-null    int64 \n",
      " 12  Legendary   800 non-null    bool  \n",
      "dtypes: bool(1), int64(9), object(3)\n",
      "memory usage: 75.9+ KB\n"
     ]
    },
    {
     "data": {
      "text/html": [
       "<div>\n",
       "<style scoped>\n",
       "    .dataframe tbody tr th:only-of-type {\n",
       "        vertical-align: middle;\n",
       "    }\n",
       "\n",
       "    .dataframe tbody tr th {\n",
       "        vertical-align: top;\n",
       "    }\n",
       "\n",
       "    .dataframe thead th {\n",
       "        text-align: right;\n",
       "    }\n",
       "</style>\n",
       "<table border=\"1\" class=\"dataframe\">\n",
       "  <thead>\n",
       "    <tr style=\"text-align: right;\">\n",
       "      <th></th>\n",
       "      <th>#</th>\n",
       "      <th>Name</th>\n",
       "      <th>Type 1</th>\n",
       "      <th>Type 2</th>\n",
       "      <th>Total</th>\n",
       "      <th>HP</th>\n",
       "      <th>Attack</th>\n",
       "      <th>Defense</th>\n",
       "      <th>Sp. Atk</th>\n",
       "      <th>Sp. Def</th>\n",
       "      <th>Speed</th>\n",
       "      <th>Generation</th>\n",
       "      <th>Legendary</th>\n",
       "    </tr>\n",
       "  </thead>\n",
       "  <tbody>\n",
       "    <tr>\n",
       "      <th>0</th>\n",
       "      <td>1</td>\n",
       "      <td>Bulbasaur</td>\n",
       "      <td>Grass</td>\n",
       "      <td>Poison</td>\n",
       "      <td>318</td>\n",
       "      <td>45</td>\n",
       "      <td>49</td>\n",
       "      <td>49</td>\n",
       "      <td>65</td>\n",
       "      <td>65</td>\n",
       "      <td>45</td>\n",
       "      <td>1</td>\n",
       "      <td>False</td>\n",
       "    </tr>\n",
       "    <tr>\n",
       "      <th>1</th>\n",
       "      <td>2</td>\n",
       "      <td>Ivysaur</td>\n",
       "      <td>Grass</td>\n",
       "      <td>Poison</td>\n",
       "      <td>405</td>\n",
       "      <td>60</td>\n",
       "      <td>62</td>\n",
       "      <td>63</td>\n",
       "      <td>80</td>\n",
       "      <td>80</td>\n",
       "      <td>60</td>\n",
       "      <td>1</td>\n",
       "      <td>False</td>\n",
       "    </tr>\n",
       "    <tr>\n",
       "      <th>2</th>\n",
       "      <td>3</td>\n",
       "      <td>Venusaur</td>\n",
       "      <td>Grass</td>\n",
       "      <td>Poison</td>\n",
       "      <td>525</td>\n",
       "      <td>80</td>\n",
       "      <td>82</td>\n",
       "      <td>83</td>\n",
       "      <td>100</td>\n",
       "      <td>100</td>\n",
       "      <td>80</td>\n",
       "      <td>1</td>\n",
       "      <td>False</td>\n",
       "    </tr>\n",
       "    <tr>\n",
       "      <th>3</th>\n",
       "      <td>3</td>\n",
       "      <td>VenusaurMega Venusaur</td>\n",
       "      <td>Grass</td>\n",
       "      <td>Poison</td>\n",
       "      <td>625</td>\n",
       "      <td>80</td>\n",
       "      <td>100</td>\n",
       "      <td>123</td>\n",
       "      <td>122</td>\n",
       "      <td>120</td>\n",
       "      <td>80</td>\n",
       "      <td>1</td>\n",
       "      <td>False</td>\n",
       "    </tr>\n",
       "    <tr>\n",
       "      <th>4</th>\n",
       "      <td>4</td>\n",
       "      <td>Charmander</td>\n",
       "      <td>Fire</td>\n",
       "      <td>NaN</td>\n",
       "      <td>309</td>\n",
       "      <td>39</td>\n",
       "      <td>52</td>\n",
       "      <td>43</td>\n",
       "      <td>60</td>\n",
       "      <td>50</td>\n",
       "      <td>65</td>\n",
       "      <td>1</td>\n",
       "      <td>False</td>\n",
       "    </tr>\n",
       "    <tr>\n",
       "      <th>...</th>\n",
       "      <td>...</td>\n",
       "      <td>...</td>\n",
       "      <td>...</td>\n",
       "      <td>...</td>\n",
       "      <td>...</td>\n",
       "      <td>...</td>\n",
       "      <td>...</td>\n",
       "      <td>...</td>\n",
       "      <td>...</td>\n",
       "      <td>...</td>\n",
       "      <td>...</td>\n",
       "      <td>...</td>\n",
       "      <td>...</td>\n",
       "    </tr>\n",
       "    <tr>\n",
       "      <th>795</th>\n",
       "      <td>719</td>\n",
       "      <td>Diancie</td>\n",
       "      <td>Rock</td>\n",
       "      <td>Fairy</td>\n",
       "      <td>600</td>\n",
       "      <td>50</td>\n",
       "      <td>100</td>\n",
       "      <td>150</td>\n",
       "      <td>100</td>\n",
       "      <td>150</td>\n",
       "      <td>50</td>\n",
       "      <td>6</td>\n",
       "      <td>True</td>\n",
       "    </tr>\n",
       "    <tr>\n",
       "      <th>796</th>\n",
       "      <td>719</td>\n",
       "      <td>DiancieMega Diancie</td>\n",
       "      <td>Rock</td>\n",
       "      <td>Fairy</td>\n",
       "      <td>700</td>\n",
       "      <td>50</td>\n",
       "      <td>160</td>\n",
       "      <td>110</td>\n",
       "      <td>160</td>\n",
       "      <td>110</td>\n",
       "      <td>110</td>\n",
       "      <td>6</td>\n",
       "      <td>True</td>\n",
       "    </tr>\n",
       "    <tr>\n",
       "      <th>797</th>\n",
       "      <td>720</td>\n",
       "      <td>HoopaHoopa Confined</td>\n",
       "      <td>Psychic</td>\n",
       "      <td>Ghost</td>\n",
       "      <td>600</td>\n",
       "      <td>80</td>\n",
       "      <td>110</td>\n",
       "      <td>60</td>\n",
       "      <td>150</td>\n",
       "      <td>130</td>\n",
       "      <td>70</td>\n",
       "      <td>6</td>\n",
       "      <td>True</td>\n",
       "    </tr>\n",
       "    <tr>\n",
       "      <th>798</th>\n",
       "      <td>720</td>\n",
       "      <td>HoopaHoopa Unbound</td>\n",
       "      <td>Psychic</td>\n",
       "      <td>Dark</td>\n",
       "      <td>680</td>\n",
       "      <td>80</td>\n",
       "      <td>160</td>\n",
       "      <td>60</td>\n",
       "      <td>170</td>\n",
       "      <td>130</td>\n",
       "      <td>80</td>\n",
       "      <td>6</td>\n",
       "      <td>True</td>\n",
       "    </tr>\n",
       "    <tr>\n",
       "      <th>799</th>\n",
       "      <td>721</td>\n",
       "      <td>Volcanion</td>\n",
       "      <td>Fire</td>\n",
       "      <td>Water</td>\n",
       "      <td>600</td>\n",
       "      <td>80</td>\n",
       "      <td>110</td>\n",
       "      <td>120</td>\n",
       "      <td>130</td>\n",
       "      <td>90</td>\n",
       "      <td>70</td>\n",
       "      <td>6</td>\n",
       "      <td>True</td>\n",
       "    </tr>\n",
       "  </tbody>\n",
       "</table>\n",
       "<p>800 rows × 13 columns</p>\n",
       "</div>"
      ],
      "text/plain": [
       "       #                   Name   Type 1  Type 2  Total  HP  Attack  Defense  \\\n",
       "0      1              Bulbasaur    Grass  Poison    318  45      49       49   \n",
       "1      2                Ivysaur    Grass  Poison    405  60      62       63   \n",
       "2      3               Venusaur    Grass  Poison    525  80      82       83   \n",
       "3      3  VenusaurMega Venusaur    Grass  Poison    625  80     100      123   \n",
       "4      4             Charmander     Fire     NaN    309  39      52       43   \n",
       "..   ...                    ...      ...     ...    ...  ..     ...      ...   \n",
       "795  719                Diancie     Rock   Fairy    600  50     100      150   \n",
       "796  719    DiancieMega Diancie     Rock   Fairy    700  50     160      110   \n",
       "797  720    HoopaHoopa Confined  Psychic   Ghost    600  80     110       60   \n",
       "798  720     HoopaHoopa Unbound  Psychic    Dark    680  80     160       60   \n",
       "799  721              Volcanion     Fire   Water    600  80     110      120   \n",
       "\n",
       "     Sp. Atk  Sp. Def  Speed  Generation  Legendary  \n",
       "0         65       65     45           1      False  \n",
       "1         80       80     60           1      False  \n",
       "2        100      100     80           1      False  \n",
       "3        122      120     80           1      False  \n",
       "4         60       50     65           1      False  \n",
       "..       ...      ...    ...         ...        ...  \n",
       "795      100      150     50           6       True  \n",
       "796      160      110    110           6       True  \n",
       "797      150      130     70           6       True  \n",
       "798      170      130     80           6       True  \n",
       "799      130       90     70           6       True  \n",
       "\n",
       "[800 rows x 13 columns]"
      ]
     },
     "execution_count": 18,
     "metadata": {},
     "output_type": "execute_result"
    }
   ],
   "source": [
    "pokemons.info()\n",
    "pokemons"
   ]
  },
  {
   "cell_type": "markdown",
   "id": "8dba2aaa",
   "metadata": {},
   "source": [
    "# Preprocesamiento de datos"
   ]
  },
  {
   "cell_type": "markdown",
   "id": "64d95ea4",
   "metadata": {},
   "source": [
    "- Se usan solo los pokemons de la primera generación.\n",
    "- Se extraen los pokemons normales (base viene con estadisticas de versiones Mega)."
   ]
  },
  {
   "cell_type": "code",
   "execution_count": 19,
   "id": "4f5e4663",
   "metadata": {},
   "outputs": [],
   "source": [
    "primera_gen = pokemons[pokemons[\"Generation\"]==1]\n",
    "primera_gen = primera_gen[~primera_gen[\"Name\"].str.contains(\"Mega\")]\n",
    "primera_gen_inicial = primera_gen.copy()\n",
    "primera_gen = primera_gen.drop([\"Generation\"], axis=1)"
   ]
  },
  {
   "cell_type": "markdown",
   "id": "a9dba227",
   "metadata": {},
   "source": [
    "- Se aplica normalización Min-Max sobre los datos númericos."
   ]
  },
  {
   "cell_type": "code",
   "execution_count": 20,
   "id": "453dfa34",
   "metadata": {},
   "outputs": [],
   "source": [
    "from sklearn.preprocessing import MinMaxScaler\n",
    "\n",
    "numerical_cols = [\"Total\", \"HP\", \"Attack\", \"Defense\", \"Sp. Atk\", \"Sp. Def\", \"Speed\"]\n",
    "\n",
    "scaler = MinMaxScaler()\n",
    "scaled = scaler.fit_transform(primera_gen[numerical_cols])\n",
    "primera_gen[numerical_cols] = scaled\n"
   ]
  },
  {
   "cell_type": "markdown",
   "id": "f06f1a16",
   "metadata": {},
   "source": [
    "- Se transforman los valores booleanos a 0 y 1.\n",
    "- Se rellena los valores NaN en la columna de **Type 2** con el string \"None\"."
   ]
  },
  {
   "cell_type": "code",
   "execution_count": 21,
   "id": "51a16423",
   "metadata": {},
   "outputs": [],
   "source": [
    "primera_gen[\"Legendary\"] = primera_gen[\"Legendary\"].replace({True: 1, False: 0})\n",
    "primera_gen[\"Type 2\"] = primera_gen[\"Type 2\"].fillna(\"None\")"
   ]
  },
  {
   "cell_type": "markdown",
   "id": "9ba603cc",
   "metadata": {},
   "source": [
    "### Preprocesamiento de categorias (Types)\n",
    "- Por cada tipo distinto se asocia un número.\n",
    "- Se codifica usando One-Hot.\n",
    "- Se genera así una nueva columna ie. *feature* por cada tipo distinto que toma valores binarios\n",
    "- Se hace tanto para **Type 1** como para **Type 2**."
   ]
  },
  {
   "cell_type": "code",
   "execution_count": 22,
   "id": "68d47b39",
   "metadata": {},
   "outputs": [],
   "source": [
    "from sklearn.preprocessing import LabelBinarizer\n",
    "\n",
    "encoder_1 = LabelBinarizer()\n",
    "type_1_encoded = encoder_1.fit_transform(primera_gen[\"Type 1\"])\n",
    "encoder_2 = LabelBinarizer()\n",
    "type_2_encoded = encoder_2.fit_transform(primera_gen[\"Type 2\"])\n",
    "\n",
    "# Se agrega \" 2\" a los types 2 para distinguirlos de los type 1\n",
    "cols_names_type_2 = np.char.add(encoder_2.classes_, \" 2\")\n",
    "\n",
    "#Se agregan las codificaciones One-Hot al DataFrame\n",
    "primera_gen[encoder_1.classes_] = type_1_encoded\n",
    "primera_gen[cols_names_type_2] = type_2_encoded"
   ]
  },
  {
   "cell_type": "markdown",
   "id": "216bf74f",
   "metadata": {},
   "source": [
    "- Se eliminan las columnas que no se van a usar"
   ]
  },
  {
   "cell_type": "code",
   "execution_count": 23,
   "id": "de2401bf",
   "metadata": {},
   "outputs": [
    {
     "data": {
      "text/html": [
       "<div>\n",
       "<style scoped>\n",
       "    .dataframe tbody tr th:only-of-type {\n",
       "        vertical-align: middle;\n",
       "    }\n",
       "\n",
       "    .dataframe tbody tr th {\n",
       "        vertical-align: top;\n",
       "    }\n",
       "\n",
       "    .dataframe thead th {\n",
       "        text-align: right;\n",
       "    }\n",
       "</style>\n",
       "<table border=\"1\" class=\"dataframe\">\n",
       "  <thead>\n",
       "    <tr style=\"text-align: right;\">\n",
       "      <th></th>\n",
       "      <th>Total</th>\n",
       "      <th>HP</th>\n",
       "      <th>Attack</th>\n",
       "      <th>Defense</th>\n",
       "      <th>Sp. Atk</th>\n",
       "      <th>Sp. Def</th>\n",
       "      <th>Speed</th>\n",
       "      <th>Legendary</th>\n",
       "      <th>Bug</th>\n",
       "      <th>Dragon</th>\n",
       "      <th>...</th>\n",
       "      <th>Flying 2</th>\n",
       "      <th>Grass 2</th>\n",
       "      <th>Ground 2</th>\n",
       "      <th>Ice 2</th>\n",
       "      <th>None 2</th>\n",
       "      <th>Poison 2</th>\n",
       "      <th>Psychic 2</th>\n",
       "      <th>Rock 2</th>\n",
       "      <th>Steel 2</th>\n",
       "      <th>Water 2</th>\n",
       "    </tr>\n",
       "  </thead>\n",
       "  <tbody>\n",
       "    <tr>\n",
       "      <th>0</th>\n",
       "      <td>0.253608</td>\n",
       "      <td>0.145833</td>\n",
       "      <td>0.341085</td>\n",
       "      <td>0.251429</td>\n",
       "      <td>0.359712</td>\n",
       "      <td>0.428571</td>\n",
       "      <td>0.24</td>\n",
       "      <td>0</td>\n",
       "      <td>0</td>\n",
       "      <td>0</td>\n",
       "      <td>...</td>\n",
       "      <td>0</td>\n",
       "      <td>0</td>\n",
       "      <td>0</td>\n",
       "      <td>0</td>\n",
       "      <td>0</td>\n",
       "      <td>1</td>\n",
       "      <td>0</td>\n",
       "      <td>0</td>\n",
       "      <td>0</td>\n",
       "      <td>0</td>\n",
       "    </tr>\n",
       "    <tr>\n",
       "      <th>1</th>\n",
       "      <td>0.432990</td>\n",
       "      <td>0.208333</td>\n",
       "      <td>0.441860</td>\n",
       "      <td>0.331429</td>\n",
       "      <td>0.467626</td>\n",
       "      <td>0.571429</td>\n",
       "      <td>0.36</td>\n",
       "      <td>0</td>\n",
       "      <td>0</td>\n",
       "      <td>0</td>\n",
       "      <td>...</td>\n",
       "      <td>0</td>\n",
       "      <td>0</td>\n",
       "      <td>0</td>\n",
       "      <td>0</td>\n",
       "      <td>0</td>\n",
       "      <td>1</td>\n",
       "      <td>0</td>\n",
       "      <td>0</td>\n",
       "      <td>0</td>\n",
       "      <td>0</td>\n",
       "    </tr>\n",
       "    <tr>\n",
       "      <th>2</th>\n",
       "      <td>0.680412</td>\n",
       "      <td>0.291667</td>\n",
       "      <td>0.596899</td>\n",
       "      <td>0.445714</td>\n",
       "      <td>0.611511</td>\n",
       "      <td>0.761905</td>\n",
       "      <td>0.52</td>\n",
       "      <td>0</td>\n",
       "      <td>0</td>\n",
       "      <td>0</td>\n",
       "      <td>...</td>\n",
       "      <td>0</td>\n",
       "      <td>0</td>\n",
       "      <td>0</td>\n",
       "      <td>0</td>\n",
       "      <td>0</td>\n",
       "      <td>1</td>\n",
       "      <td>0</td>\n",
       "      <td>0</td>\n",
       "      <td>0</td>\n",
       "      <td>0</td>\n",
       "    </tr>\n",
       "    <tr>\n",
       "      <th>3</th>\n",
       "      <td>0.235052</td>\n",
       "      <td>0.120833</td>\n",
       "      <td>0.364341</td>\n",
       "      <td>0.217143</td>\n",
       "      <td>0.323741</td>\n",
       "      <td>0.285714</td>\n",
       "      <td>0.40</td>\n",
       "      <td>0</td>\n",
       "      <td>0</td>\n",
       "      <td>0</td>\n",
       "      <td>...</td>\n",
       "      <td>0</td>\n",
       "      <td>0</td>\n",
       "      <td>0</td>\n",
       "      <td>0</td>\n",
       "      <td>1</td>\n",
       "      <td>0</td>\n",
       "      <td>0</td>\n",
       "      <td>0</td>\n",
       "      <td>0</td>\n",
       "      <td>0</td>\n",
       "    </tr>\n",
       "    <tr>\n",
       "      <th>4</th>\n",
       "      <td>0.432990</td>\n",
       "      <td>0.200000</td>\n",
       "      <td>0.457364</td>\n",
       "      <td>0.302857</td>\n",
       "      <td>0.467626</td>\n",
       "      <td>0.428571</td>\n",
       "      <td>0.52</td>\n",
       "      <td>0</td>\n",
       "      <td>0</td>\n",
       "      <td>0</td>\n",
       "      <td>...</td>\n",
       "      <td>0</td>\n",
       "      <td>0</td>\n",
       "      <td>0</td>\n",
       "      <td>0</td>\n",
       "      <td>1</td>\n",
       "      <td>0</td>\n",
       "      <td>0</td>\n",
       "      <td>0</td>\n",
       "      <td>0</td>\n",
       "      <td>0</td>\n",
       "    </tr>\n",
       "    <tr>\n",
       "      <th>...</th>\n",
       "      <td>...</td>\n",
       "      <td>...</td>\n",
       "      <td>...</td>\n",
       "      <td>...</td>\n",
       "      <td>...</td>\n",
       "      <td>...</td>\n",
       "      <td>...</td>\n",
       "      <td>...</td>\n",
       "      <td>...</td>\n",
       "      <td>...</td>\n",
       "      <td>...</td>\n",
       "      <td>...</td>\n",
       "      <td>...</td>\n",
       "      <td>...</td>\n",
       "      <td>...</td>\n",
       "      <td>...</td>\n",
       "      <td>...</td>\n",
       "      <td>...</td>\n",
       "      <td>...</td>\n",
       "      <td>...</td>\n",
       "      <td>...</td>\n",
       "    </tr>\n",
       "    <tr>\n",
       "      <th>146</th>\n",
       "      <td>0.216495</td>\n",
       "      <td>0.129167</td>\n",
       "      <td>0.457364</td>\n",
       "      <td>0.228571</td>\n",
       "      <td>0.251799</td>\n",
       "      <td>0.285714</td>\n",
       "      <td>0.28</td>\n",
       "      <td>0</td>\n",
       "      <td>0</td>\n",
       "      <td>1</td>\n",
       "      <td>...</td>\n",
       "      <td>0</td>\n",
       "      <td>0</td>\n",
       "      <td>0</td>\n",
       "      <td>0</td>\n",
       "      <td>1</td>\n",
       "      <td>0</td>\n",
       "      <td>0</td>\n",
       "      <td>0</td>\n",
       "      <td>0</td>\n",
       "      <td>0</td>\n",
       "    </tr>\n",
       "    <tr>\n",
       "      <th>147</th>\n",
       "      <td>0.463918</td>\n",
       "      <td>0.212500</td>\n",
       "      <td>0.612403</td>\n",
       "      <td>0.342857</td>\n",
       "      <td>0.395683</td>\n",
       "      <td>0.476190</td>\n",
       "      <td>0.44</td>\n",
       "      <td>0</td>\n",
       "      <td>0</td>\n",
       "      <td>1</td>\n",
       "      <td>...</td>\n",
       "      <td>0</td>\n",
       "      <td>0</td>\n",
       "      <td>0</td>\n",
       "      <td>0</td>\n",
       "      <td>1</td>\n",
       "      <td>0</td>\n",
       "      <td>0</td>\n",
       "      <td>0</td>\n",
       "      <td>0</td>\n",
       "      <td>0</td>\n",
       "    </tr>\n",
       "    <tr>\n",
       "      <th>148</th>\n",
       "      <td>0.835052</td>\n",
       "      <td>0.337500</td>\n",
       "      <td>1.000000</td>\n",
       "      <td>0.514286</td>\n",
       "      <td>0.611511</td>\n",
       "      <td>0.761905</td>\n",
       "      <td>0.52</td>\n",
       "      <td>0</td>\n",
       "      <td>0</td>\n",
       "      <td>1</td>\n",
       "      <td>...</td>\n",
       "      <td>1</td>\n",
       "      <td>0</td>\n",
       "      <td>0</td>\n",
       "      <td>0</td>\n",
       "      <td>0</td>\n",
       "      <td>0</td>\n",
       "      <td>0</td>\n",
       "      <td>0</td>\n",
       "      <td>0</td>\n",
       "      <td>0</td>\n",
       "    </tr>\n",
       "    <tr>\n",
       "      <th>149</th>\n",
       "      <td>1.000000</td>\n",
       "      <td>0.400000</td>\n",
       "      <td>0.813953</td>\n",
       "      <td>0.485714</td>\n",
       "      <td>1.000000</td>\n",
       "      <td>0.666667</td>\n",
       "      <td>0.92</td>\n",
       "      <td>1</td>\n",
       "      <td>0</td>\n",
       "      <td>0</td>\n",
       "      <td>...</td>\n",
       "      <td>0</td>\n",
       "      <td>0</td>\n",
       "      <td>0</td>\n",
       "      <td>0</td>\n",
       "      <td>1</td>\n",
       "      <td>0</td>\n",
       "      <td>0</td>\n",
       "      <td>0</td>\n",
       "      <td>0</td>\n",
       "      <td>0</td>\n",
       "    </tr>\n",
       "    <tr>\n",
       "      <th>150</th>\n",
       "      <td>0.835052</td>\n",
       "      <td>0.375000</td>\n",
       "      <td>0.736434</td>\n",
       "      <td>0.542857</td>\n",
       "      <td>0.611511</td>\n",
       "      <td>0.761905</td>\n",
       "      <td>0.68</td>\n",
       "      <td>0</td>\n",
       "      <td>0</td>\n",
       "      <td>0</td>\n",
       "      <td>...</td>\n",
       "      <td>0</td>\n",
       "      <td>0</td>\n",
       "      <td>0</td>\n",
       "      <td>0</td>\n",
       "      <td>1</td>\n",
       "      <td>0</td>\n",
       "      <td>0</td>\n",
       "      <td>0</td>\n",
       "      <td>0</td>\n",
       "      <td>0</td>\n",
       "    </tr>\n",
       "  </tbody>\n",
       "</table>\n",
       "<p>151 rows × 35 columns</p>\n",
       "</div>"
      ],
      "text/plain": [
       "        Total        HP    Attack   Defense   Sp. Atk   Sp. Def  Speed  \\\n",
       "0    0.253608  0.145833  0.341085  0.251429  0.359712  0.428571   0.24   \n",
       "1    0.432990  0.208333  0.441860  0.331429  0.467626  0.571429   0.36   \n",
       "2    0.680412  0.291667  0.596899  0.445714  0.611511  0.761905   0.52   \n",
       "3    0.235052  0.120833  0.364341  0.217143  0.323741  0.285714   0.40   \n",
       "4    0.432990  0.200000  0.457364  0.302857  0.467626  0.428571   0.52   \n",
       "..        ...       ...       ...       ...       ...       ...    ...   \n",
       "146  0.216495  0.129167  0.457364  0.228571  0.251799  0.285714   0.28   \n",
       "147  0.463918  0.212500  0.612403  0.342857  0.395683  0.476190   0.44   \n",
       "148  0.835052  0.337500  1.000000  0.514286  0.611511  0.761905   0.52   \n",
       "149  1.000000  0.400000  0.813953  0.485714  1.000000  0.666667   0.92   \n",
       "150  0.835052  0.375000  0.736434  0.542857  0.611511  0.761905   0.68   \n",
       "\n",
       "     Legendary  Bug  Dragon  ...  Flying 2  Grass 2  Ground 2  Ice 2  None 2  \\\n",
       "0            0    0       0  ...         0        0         0      0       0   \n",
       "1            0    0       0  ...         0        0         0      0       0   \n",
       "2            0    0       0  ...         0        0         0      0       0   \n",
       "3            0    0       0  ...         0        0         0      0       1   \n",
       "4            0    0       0  ...         0        0         0      0       1   \n",
       "..         ...  ...     ...  ...       ...      ...       ...    ...     ...   \n",
       "146          0    0       1  ...         0        0         0      0       1   \n",
       "147          0    0       1  ...         0        0         0      0       1   \n",
       "148          0    0       1  ...         1        0         0      0       0   \n",
       "149          1    0       0  ...         0        0         0      0       1   \n",
       "150          0    0       0  ...         0        0         0      0       1   \n",
       "\n",
       "     Poison 2  Psychic 2  Rock 2  Steel 2  Water 2  \n",
       "0           1          0       0        0        0  \n",
       "1           1          0       0        0        0  \n",
       "2           1          0       0        0        0  \n",
       "3           0          0       0        0        0  \n",
       "4           0          0       0        0        0  \n",
       "..        ...        ...     ...      ...      ...  \n",
       "146         0          0       0        0        0  \n",
       "147         0          0       0        0        0  \n",
       "148         0          0       0        0        0  \n",
       "149         0          0       0        0        0  \n",
       "150         0          0       0        0        0  \n",
       "\n",
       "[151 rows x 35 columns]"
      ]
     },
     "execution_count": 23,
     "metadata": {},
     "output_type": "execute_result"
    }
   ],
   "source": [
    "primera_gen.reset_index(drop=True, inplace=True)\n",
    "primera_gen_init = primera_gen.copy()\n",
    "\n",
    "primera_gen.drop([\"Type 1\"], axis = 1, inplace=True)\n",
    "primera_gen.drop([\"Type 2\"], axis = 1, inplace=True)\n",
    "primera_gen.drop([\"Name\"], axis = 1, inplace=True)\n",
    "primera_gen.drop([\"#\"], axis = 1, inplace=True)\n",
    "\n",
    "primera_gen"
   ]
  },
  {
   "cell_type": "markdown",
   "id": "f9b6da6d",
   "metadata": {},
   "source": [
    "# T-SNE de Scikit-Learn\n",
    "\n",
    "- Se importa y declara t-SNE con dos componentes para graficar.\n",
    "- Se entrena el modelo con los datos preprocesados."
   ]
  },
  {
   "cell_type": "code",
   "execution_count": 30,
   "id": "1e832f2e",
   "metadata": {},
   "outputs": [],
   "source": [
    "from sklearn.manifold import TSNE\n",
    "\n",
    "tsne = TSNE(n_components=2, init=\"pca\", learning_rate=\"auto\", random_state = 42)\n",
    "primera_gen_2d = tsne.fit_transform(primera_gen.to_numpy())"
   ]
  },
  {
   "cell_type": "markdown",
   "id": "2edcf810",
   "metadata": {},
   "source": [
    "# Visualización de resultados\n",
    "\n",
    "- Se usa la librería Plotly para generar gráficos interactivos.\n",
    "- Se crea DataFrame para visualización, uniendo *primera_gen_inicial* con los componentes extraidos usando t-SNE\n",
    "- Se usa *primera_gen_inicial* porque tiene los valores originales de la primera generación, antes del preprocesamiento.\n",
    "- Se colorea según **tipo primario** del Pokemon."
   ]
  },
  {
   "cell_type": "code",
   "execution_count": 67,
   "id": "6db34c7d",
   "metadata": {},
   "outputs": [
    {
     "data": {
      "application/vnd.plotly.v1+json": {
       "config": {
        "plotlyServerURL": "https://plot.ly"
       },
       "data": [
        {
         "customdata": [
          [
           0,
           0,
           1,
           "Bulbasaur",
           "Grass",
           "Poison",
           318,
           45,
           49,
           49,
           65,
           65,
           45,
           1,
           false
          ],
          [
           1,
           1,
           2,
           "Ivysaur",
           "Grass",
           "Poison",
           405,
           60,
           62,
           63,
           80,
           80,
           60,
           1,
           false
          ],
          [
           2,
           2,
           3,
           "Venusaur",
           "Grass",
           "Poison",
           525,
           80,
           82,
           83,
           100,
           100,
           80,
           1,
           false
          ],
          [
           42,
           48,
           43,
           "Oddish",
           "Grass",
           "Poison",
           320,
           45,
           50,
           55,
           75,
           65,
           30,
           1,
           false
          ],
          [
           43,
           49,
           44,
           "Gloom",
           "Grass",
           "Poison",
           395,
           60,
           65,
           70,
           85,
           75,
           40,
           1,
           false
          ],
          [
           44,
           50,
           45,
           "Vileplume",
           "Grass",
           "Poison",
           490,
           75,
           80,
           85,
           110,
           90,
           50,
           1,
           false
          ],
          [
           68,
           75,
           69,
           "Bellsprout",
           "Grass",
           "Poison",
           300,
           50,
           75,
           35,
           70,
           30,
           40,
           1,
           false
          ],
          [
           69,
           76,
           70,
           "Weepinbell",
           "Grass",
           "Poison",
           390,
           65,
           90,
           50,
           85,
           45,
           55,
           1,
           false
          ],
          [
           70,
           77,
           71,
           "Victreebel",
           "Grass",
           "Poison",
           490,
           80,
           105,
           65,
           100,
           70,
           70,
           1,
           false
          ],
          [
           101,
           110,
           102,
           "Exeggcute",
           "Grass",
           "Psychic",
           325,
           60,
           40,
           80,
           60,
           45,
           40,
           1,
           false
          ],
          [
           102,
           111,
           103,
           "Exeggutor",
           "Grass",
           "Psychic",
           520,
           95,
           95,
           85,
           125,
           65,
           55,
           1,
           false
          ],
          [
           113,
           122,
           114,
           "Tangela",
           "Grass",
           "None",
           435,
           65,
           55,
           115,
           100,
           40,
           60,
           1,
           false
          ]
         ],
         "hovertemplate": "<b>%{hovertext}</b><br><br>Type 1=%{customdata[4]}<br>t-SNE dimension 1=%{x}<br>t-SNE dimension 2=%{y}<br>level_0=%{customdata[0]}<br>index=%{customdata[1]}<br>#=%{customdata[2]}<br>Name=%{customdata[3]}<br>Type 2=%{customdata[5]}<br>Total=%{customdata[6]}<br>HP=%{customdata[7]}<br>Attack=%{customdata[8]}<br>Defense=%{customdata[9]}<br>Sp. Atk=%{customdata[10]}<br>Sp. Def=%{customdata[11]}<br>Speed=%{customdata[12]}<br>Generation=%{customdata[13]}<br>Legendary=%{customdata[14]}<extra></extra>",
         "hovertext": [
          "Bulbasaur",
          "Ivysaur",
          "Venusaur",
          "Oddish",
          "Gloom",
          "Vileplume",
          "Bellsprout",
          "Weepinbell",
          "Victreebel",
          "Exeggcute",
          "Exeggutor",
          "Tangela"
         ],
         "legendgroup": "Grass",
         "marker": {
          "color": "#636efa",
          "symbol": "circle"
         },
         "mode": "markers",
         "name": "Grass",
         "orientation": "v",
         "showlegend": true,
         "type": "scatter",
         "x": [
          9.89006233215332,
          9.952411651611328,
          10.447258949279785,
          9.66016674041748,
          9.641215324401855,
          10.0548095703125,
          10.403642654418945,
          10.591083526611328,
          10.716132164001465,
          8.015301704406738,
          7.9736714363098145,
          3.2849631309509277
         ],
         "xaxis": "x",
         "y": [
          0.18756330013275146,
          0.8458612561225891,
          1.429657220840454,
          0.32538363337516785,
          0.8632476329803467,
          1.3627777099609375,
          0.07250721007585526,
          0.4959731101989746,
          1.0051885843276978,
          2.3437883853912354,
          2.348297595977783,
          4.613425254821777
         ],
         "yaxis": "y"
        },
        {
         "customdata": [
          [
           3,
           4,
           4,
           "Charmander",
           "Fire",
           "None",
           309,
           39,
           52,
           43,
           60,
           50,
           65,
           1,
           false
          ],
          [
           4,
           5,
           5,
           "Charmeleon",
           "Fire",
           "None",
           405,
           58,
           64,
           58,
           80,
           65,
           80,
           1,
           false
          ],
          [
           5,
           6,
           6,
           "Charizard",
           "Fire",
           "Flying",
           534,
           78,
           84,
           78,
           109,
           85,
           100,
           1,
           false
          ],
          [
           36,
           42,
           37,
           "Vulpix",
           "Fire",
           "None",
           299,
           38,
           41,
           40,
           50,
           65,
           65,
           1,
           false
          ],
          [
           37,
           43,
           38,
           "Ninetales",
           "Fire",
           "None",
           505,
           73,
           76,
           75,
           81,
           100,
           100,
           1,
           false
          ],
          [
           57,
           63,
           58,
           "Growlithe",
           "Fire",
           "None",
           350,
           55,
           70,
           45,
           70,
           50,
           60,
           1,
           false
          ],
          [
           58,
           64,
           59,
           "Arcanine",
           "Fire",
           "None",
           555,
           90,
           110,
           80,
           100,
           80,
           95,
           1,
           false
          ],
          [
           76,
           83,
           77,
           "Ponyta",
           "Fire",
           "None",
           410,
           50,
           85,
           55,
           65,
           65,
           90,
           1,
           false
          ],
          [
           77,
           84,
           78,
           "Rapidash",
           "Fire",
           "None",
           500,
           65,
           100,
           70,
           80,
           80,
           105,
           1,
           false
          ],
          [
           125,
           135,
           126,
           "Magmar",
           "Fire",
           "None",
           495,
           65,
           95,
           57,
           100,
           85,
           93,
           1,
           false
          ],
          [
           135,
           147,
           136,
           "Flareon",
           "Fire",
           "None",
           525,
           65,
           130,
           60,
           95,
           110,
           65,
           1,
           false
          ],
          [
           145,
           158,
           146,
           "Moltres",
           "Fire",
           "Flying",
           580,
           90,
           100,
           90,
           125,
           85,
           90,
           1,
           true
          ]
         ],
         "hovertemplate": "<b>%{hovertext}</b><br><br>Type 1=%{customdata[4]}<br>t-SNE dimension 1=%{x}<br>t-SNE dimension 2=%{y}<br>level_0=%{customdata[0]}<br>index=%{customdata[1]}<br>#=%{customdata[2]}<br>Name=%{customdata[3]}<br>Type 2=%{customdata[5]}<br>Total=%{customdata[6]}<br>HP=%{customdata[7]}<br>Attack=%{customdata[8]}<br>Defense=%{customdata[9]}<br>Sp. Atk=%{customdata[10]}<br>Sp. Def=%{customdata[11]}<br>Speed=%{customdata[12]}<br>Generation=%{customdata[13]}<br>Legendary=%{customdata[14]}<extra></extra>",
         "hovertext": [
          "Charmander",
          "Charmeleon",
          "Charizard",
          "Vulpix",
          "Ninetales",
          "Growlithe",
          "Arcanine",
          "Ponyta",
          "Rapidash",
          "Magmar",
          "Flareon",
          "Moltres"
         ],
         "legendgroup": "Fire",
         "marker": {
          "color": "#EF553B",
          "symbol": "circle"
         },
         "mode": "markers",
         "name": "Fire",
         "orientation": "v",
         "showlegend": true,
         "type": "scatter",
         "x": [
          -4.007596969604492,
          -4.413737773895264,
          4.439121723175049,
          -4.317385673522949,
          -3.7533035278320312,
          -3.7862157821655273,
          -4.1909589767456055,
          -3.808382511138916,
          -4.099053382873535,
          -4.600762367248535,
          -4.7239460945129395,
          4.793299198150635
         ],
         "xaxis": "x",
         "y": [
          3.1912777423858643,
          3.7409911155700684,
          -6.94641637802124,
          3.16642165184021,
          4.581401348114014,
          3.4452712535858154,
          4.89119291305542,
          3.9361379146575928,
          4.492746353149414,
          4.345576286315918,
          4.877816200256348,
          -7.362118244171143
         ],
         "yaxis": "y"
        },
        {
         "customdata": [
          [
           6,
           9,
           7,
           "Squirtle",
           "Water",
           "None",
           314,
           44,
           48,
           65,
           50,
           64,
           43,
           1,
           false
          ],
          [
           7,
           10,
           8,
           "Wartortle",
           "Water",
           "None",
           405,
           59,
           63,
           80,
           65,
           80,
           58,
           1,
           false
          ],
          [
           8,
           11,
           9,
           "Blastoise",
           "Water",
           "None",
           530,
           79,
           83,
           100,
           85,
           105,
           78,
           1,
           false
          ],
          [
           53,
           59,
           54,
           "Psyduck",
           "Water",
           "None",
           320,
           50,
           52,
           48,
           65,
           50,
           55,
           1,
           false
          ],
          [
           54,
           60,
           55,
           "Golduck",
           "Water",
           "None",
           500,
           80,
           82,
           78,
           95,
           80,
           85,
           1,
           false
          ],
          [
           59,
           65,
           60,
           "Poliwag",
           "Water",
           "None",
           300,
           40,
           50,
           40,
           40,
           40,
           90,
           1,
           false
          ],
          [
           60,
           66,
           61,
           "Poliwhirl",
           "Water",
           "None",
           385,
           65,
           65,
           65,
           50,
           50,
           90,
           1,
           false
          ],
          [
           61,
           67,
           62,
           "Poliwrath",
           "Water",
           "Fighting",
           510,
           90,
           95,
           95,
           70,
           90,
           70,
           1,
           false
          ],
          [
           71,
           78,
           72,
           "Tentacool",
           "Water",
           "Poison",
           335,
           40,
           40,
           35,
           50,
           100,
           70,
           1,
           false
          ],
          [
           72,
           79,
           73,
           "Tentacruel",
           "Water",
           "Poison",
           515,
           80,
           70,
           65,
           80,
           120,
           100,
           1,
           false
          ],
          [
           78,
           85,
           79,
           "Slowpoke",
           "Water",
           "Psychic",
           315,
           90,
           65,
           65,
           40,
           40,
           15,
           1,
           false
          ],
          [
           79,
           86,
           80,
           "Slowbro",
           "Water",
           "Psychic",
           490,
           95,
           75,
           110,
           100,
           80,
           30,
           1,
           false
          ],
          [
           85,
           93,
           86,
           "Seel",
           "Water",
           "None",
           325,
           65,
           45,
           55,
           45,
           70,
           45,
           1,
           false
          ],
          [
           86,
           94,
           87,
           "Dewgong",
           "Water",
           "Ice",
           475,
           90,
           70,
           80,
           70,
           95,
           70,
           1,
           false
          ],
          [
           89,
           97,
           90,
           "Shellder",
           "Water",
           "None",
           305,
           30,
           65,
           100,
           45,
           25,
           40,
           1,
           false
          ],
          [
           90,
           98,
           91,
           "Cloyster",
           "Water",
           "Ice",
           525,
           50,
           95,
           180,
           85,
           45,
           70,
           1,
           false
          ],
          [
           97,
           106,
           98,
           "Krabby",
           "Water",
           "None",
           325,
           30,
           105,
           90,
           25,
           25,
           50,
           1,
           false
          ],
          [
           98,
           107,
           99,
           "Kingler",
           "Water",
           "None",
           475,
           55,
           130,
           115,
           50,
           50,
           75,
           1,
           false
          ],
          [
           115,
           125,
           116,
           "Horsea",
           "Water",
           "None",
           295,
           30,
           40,
           70,
           70,
           25,
           60,
           1,
           false
          ],
          [
           116,
           126,
           117,
           "Seadra",
           "Water",
           "None",
           440,
           55,
           65,
           95,
           95,
           45,
           85,
           1,
           false
          ],
          [
           117,
           127,
           118,
           "Goldeen",
           "Water",
           "None",
           320,
           45,
           67,
           60,
           35,
           50,
           63,
           1,
           false
          ],
          [
           118,
           128,
           119,
           "Seaking",
           "Water",
           "None",
           450,
           80,
           92,
           65,
           65,
           80,
           68,
           1,
           false
          ],
          [
           119,
           129,
           120,
           "Staryu",
           "Water",
           "None",
           340,
           30,
           45,
           55,
           70,
           55,
           85,
           1,
           false
          ],
          [
           120,
           130,
           121,
           "Starmie",
           "Water",
           "Psychic",
           520,
           60,
           75,
           85,
           100,
           85,
           115,
           1,
           false
          ],
          [
           128,
           139,
           129,
           "Magikarp",
           "Water",
           "None",
           200,
           20,
           10,
           55,
           15,
           20,
           80,
           1,
           false
          ],
          [
           129,
           140,
           130,
           "Gyarados",
           "Water",
           "Flying",
           540,
           95,
           125,
           79,
           60,
           100,
           81,
           1,
           false
          ],
          [
           130,
           142,
           131,
           "Lapras",
           "Water",
           "Ice",
           535,
           130,
           85,
           80,
           85,
           95,
           60,
           1,
           false
          ],
          [
           133,
           145,
           134,
           "Vaporeon",
           "Water",
           "None",
           525,
           130,
           65,
           60,
           110,
           95,
           65,
           1,
           false
          ]
         ],
         "hovertemplate": "<b>%{hovertext}</b><br><br>Type 1=%{customdata[4]}<br>t-SNE dimension 1=%{x}<br>t-SNE dimension 2=%{y}<br>level_0=%{customdata[0]}<br>index=%{customdata[1]}<br>#=%{customdata[2]}<br>Name=%{customdata[3]}<br>Type 2=%{customdata[5]}<br>Total=%{customdata[6]}<br>HP=%{customdata[7]}<br>Attack=%{customdata[8]}<br>Defense=%{customdata[9]}<br>Sp. Atk=%{customdata[10]}<br>Sp. Def=%{customdata[11]}<br>Speed=%{customdata[12]}<br>Generation=%{customdata[13]}<br>Legendary=%{customdata[14]}<extra></extra>",
         "hovertext": [
          "Squirtle",
          "Wartortle",
          "Blastoise",
          "Psyduck",
          "Golduck",
          "Poliwag",
          "Poliwhirl",
          "Poliwrath",
          "Tentacool",
          "Tentacruel",
          "Slowpoke",
          "Slowbro",
          "Seel",
          "Dewgong",
          "Shellder",
          "Cloyster",
          "Krabby",
          "Kingler",
          "Horsea",
          "Seadra",
          "Goldeen",
          "Seaking",
          "Staryu",
          "Starmie",
          "Magikarp",
          "Gyarados",
          "Lapras",
          "Vaporeon"
         ],
         "legendgroup": "Water",
         "marker": {
          "color": "#00cc96",
          "symbol": "circle"
         },
         "mode": "markers",
         "name": "Water",
         "orientation": "v",
         "showlegend": true,
         "type": "scatter",
         "x": [
          0.7966622114181519,
          1.7302063703536987,
          2.2631564140319824,
          0.9272511005401611,
          2.2063207626342773,
          0.7175142168998718,
          1.009170413017273,
          3.853292226791382,
          6.728630542755127,
          6.6616597175598145,
          5.039031505584717,
          5.242059707641602,
          1.305402159690857,
          3.9545528888702393,
          -0.14573584496974945,
          3.7230887413024902,
          0.05863712728023529,
          0.9703471064567566,
          0.15812435746192932,
          2.1887729167938232,
          0.462723046541214,
          1.6142526865005493,
          1.4049540758132935,
          5.448714733123779,
          -0.03559287264943123,
          3.8431127071380615,
          3.9541079998016357,
          2.628382444381714
         ],
         "xaxis": "x",
         "y": [
          2.605257987976074,
          2.322061538696289,
          1.3769645690917969,
          3.049783229827881,
          1.930345058441162,
          3.6320629119873047,
          2.0150697231292725,
          0.8437879085540771,
          -0.4393119215965271,
          -0.42916038632392883,
          2.3409340381622314,
          2.1381466388702393,
          2.766360282897949,
          -0.5169774293899536,
          2.5092382431030273,
          -0.6061301827430725,
          1.706673502922058,
          1.0519237518310547,
          3.1235978603363037,
          3.170427083969116,
          2.2735393047332764,
          1.557148814201355,
          3.4140357971191406,
          2.0386078357696533,
          3.785808801651001,
          -3.749290943145752,
          -0.5285832285881042,
          2.104569911956787
         ],
         "yaxis": "y"
        },
        {
         "customdata": [
          [
           9,
           13,
           10,
           "Caterpie",
           "Bug",
           "None",
           195,
           45,
           30,
           35,
           20,
           20,
           45,
           1,
           false
          ],
          [
           10,
           14,
           11,
           "Metapod",
           "Bug",
           "None",
           205,
           50,
           20,
           55,
           25,
           25,
           30,
           1,
           false
          ],
          [
           11,
           15,
           12,
           "Butterfree",
           "Bug",
           "Flying",
           395,
           60,
           45,
           50,
           90,
           80,
           70,
           1,
           false
          ],
          [
           12,
           16,
           13,
           "Weedle",
           "Bug",
           "Poison",
           195,
           40,
           35,
           30,
           20,
           20,
           50,
           1,
           false
          ],
          [
           13,
           17,
           14,
           "Kakuna",
           "Bug",
           "Poison",
           205,
           45,
           25,
           50,
           25,
           25,
           35,
           1,
           false
          ],
          [
           14,
           18,
           15,
           "Beedrill",
           "Bug",
           "Poison",
           395,
           65,
           90,
           40,
           45,
           80,
           75,
           1,
           false
          ],
          [
           45,
           51,
           46,
           "Paras",
           "Bug",
           "Grass",
           285,
           35,
           70,
           55,
           45,
           55,
           25,
           1,
           false
          ],
          [
           46,
           52,
           47,
           "Parasect",
           "Bug",
           "Grass",
           405,
           60,
           95,
           80,
           60,
           80,
           30,
           1,
           false
          ],
          [
           47,
           53,
           48,
           "Venonat",
           "Bug",
           "Poison",
           305,
           60,
           55,
           50,
           40,
           55,
           45,
           1,
           false
          ],
          [
           48,
           54,
           49,
           "Venomoth",
           "Bug",
           "Poison",
           450,
           70,
           65,
           60,
           90,
           75,
           90,
           1,
           false
          ],
          [
           122,
           132,
           123,
           "Scyther",
           "Bug",
           "Flying",
           500,
           70,
           110,
           80,
           55,
           80,
           105,
           1,
           false
          ],
          [
           126,
           136,
           127,
           "Pinsir",
           "Bug",
           "None",
           500,
           65,
           125,
           100,
           55,
           70,
           85,
           1,
           false
          ]
         ],
         "hovertemplate": "<b>%{hovertext}</b><br><br>Type 1=%{customdata[4]}<br>t-SNE dimension 1=%{x}<br>t-SNE dimension 2=%{y}<br>level_0=%{customdata[0]}<br>index=%{customdata[1]}<br>#=%{customdata[2]}<br>Name=%{customdata[3]}<br>Type 2=%{customdata[5]}<br>Total=%{customdata[6]}<br>HP=%{customdata[7]}<br>Attack=%{customdata[8]}<br>Defense=%{customdata[9]}<br>Sp. Atk=%{customdata[10]}<br>Sp. Def=%{customdata[11]}<br>Speed=%{customdata[12]}<br>Generation=%{customdata[13]}<br>Legendary=%{customdata[14]}<extra></extra>",
         "hovertext": [
          "Caterpie",
          "Metapod",
          "Butterfree",
          "Weedle",
          "Kakuna",
          "Beedrill",
          "Paras",
          "Parasect",
          "Venonat",
          "Venomoth",
          "Scyther",
          "Pinsir"
         ],
         "legendgroup": "Bug",
         "marker": {
          "color": "#ab63fa",
          "symbol": "circle"
         },
         "mode": "markers",
         "name": "Bug",
         "orientation": "v",
         "showlegend": true,
         "type": "scatter",
         "x": [
          -2.2110142707824707,
          -2.1994056701660156,
          4.930185317993164,
          9.132299423217773,
          9.130996704101562,
          8.867867469787598,
          7.923327922821045,
          7.926668643951416,
          9.039457321166992,
          8.939078330993652,
          4.804583549499512,
          -2.5001842975616455
         ],
         "xaxis": "x",
         "y": [
          0.29102787375450134,
          0.27746525406837463,
          -5.1294264793396,
          -2.810502767562866,
          -2.8087310791015625,
          -2.0215044021606445,
          5.316516399383545,
          5.31110143661499,
          -2.387242317199707,
          -1.8904502391815186,
          -5.167529106140137,
          0.6462465524673462
         ],
         "yaxis": "y"
        },
        {
         "customdata": [
          [
           15,
           20,
           16,
           "Pidgey",
           "Normal",
           "Flying",
           251,
           40,
           45,
           40,
           35,
           35,
           56,
           1,
           false
          ],
          [
           16,
           21,
           17,
           "Pidgeotto",
           "Normal",
           "Flying",
           349,
           63,
           60,
           55,
           50,
           50,
           71,
           1,
           false
          ],
          [
           17,
           22,
           18,
           "Pidgeot",
           "Normal",
           "Flying",
           479,
           83,
           80,
           75,
           70,
           70,
           101,
           1,
           false
          ],
          [
           18,
           24,
           19,
           "Rattata",
           "Normal",
           "None",
           253,
           30,
           56,
           35,
           25,
           35,
           72,
           1,
           false
          ],
          [
           19,
           25,
           20,
           "Raticate",
           "Normal",
           "None",
           413,
           55,
           81,
           60,
           50,
           70,
           97,
           1,
           false
          ],
          [
           20,
           26,
           21,
           "Spearow",
           "Normal",
           "Flying",
           262,
           40,
           60,
           30,
           31,
           31,
           70,
           1,
           false
          ],
          [
           21,
           27,
           22,
           "Fearow",
           "Normal",
           "Flying",
           442,
           65,
           90,
           65,
           61,
           61,
           100,
           1,
           false
          ],
          [
           38,
           44,
           39,
           "Jigglypuff",
           "Normal",
           "Fairy",
           270,
           115,
           45,
           20,
           45,
           25,
           20,
           1,
           false
          ],
          [
           39,
           45,
           40,
           "Wigglytuff",
           "Normal",
           "Fairy",
           435,
           140,
           70,
           45,
           85,
           50,
           45,
           1,
           false
          ],
          [
           51,
           57,
           52,
           "Meowth",
           "Normal",
           "None",
           290,
           40,
           45,
           35,
           40,
           40,
           90,
           1,
           false
          ],
          [
           52,
           58,
           53,
           "Persian",
           "Normal",
           "None",
           440,
           65,
           70,
           60,
           65,
           65,
           115,
           1,
           false
          ],
          [
           82,
           90,
           83,
           "Farfetch'd",
           "Normal",
           "Flying",
           352,
           52,
           65,
           55,
           58,
           62,
           60,
           1,
           false
          ],
          [
           83,
           91,
           84,
           "Doduo",
           "Normal",
           "Flying",
           310,
           35,
           85,
           45,
           35,
           35,
           75,
           1,
           false
          ],
          [
           84,
           92,
           85,
           "Dodrio",
           "Normal",
           "Flying",
           460,
           60,
           110,
           70,
           60,
           60,
           100,
           1,
           false
          ],
          [
           107,
           116,
           108,
           "Lickitung",
           "Normal",
           "None",
           385,
           90,
           55,
           75,
           60,
           75,
           30,
           1,
           false
          ],
          [
           112,
           121,
           113,
           "Chansey",
           "Normal",
           "None",
           450,
           250,
           5,
           5,
           35,
           105,
           50,
           1,
           false
          ],
          [
           114,
           123,
           115,
           "Kangaskhan",
           "Normal",
           "None",
           490,
           105,
           95,
           80,
           40,
           80,
           90,
           1,
           false
          ],
          [
           127,
           138,
           128,
           "Tauros",
           "Normal",
           "None",
           490,
           75,
           100,
           95,
           40,
           70,
           110,
           1,
           false
          ],
          [
           131,
           143,
           132,
           "Ditto",
           "Normal",
           "None",
           288,
           48,
           48,
           48,
           48,
           48,
           48,
           1,
           false
          ],
          [
           132,
           144,
           133,
           "Eevee",
           "Normal",
           "None",
           325,
           55,
           55,
           50,
           45,
           65,
           55,
           1,
           false
          ],
          [
           136,
           148,
           137,
           "Porygon",
           "Normal",
           "None",
           395,
           65,
           60,
           70,
           85,
           75,
           40,
           1,
           false
          ],
          [
           142,
           155,
           143,
           "Snorlax",
           "Normal",
           "None",
           540,
           160,
           110,
           65,
           65,
           110,
           30,
           1,
           false
          ]
         ],
         "hovertemplate": "<b>%{hovertext}</b><br><br>Type 1=%{customdata[4]}<br>t-SNE dimension 1=%{x}<br>t-SNE dimension 2=%{y}<br>level_0=%{customdata[0]}<br>index=%{customdata[1]}<br>#=%{customdata[2]}<br>Name=%{customdata[3]}<br>Type 2=%{customdata[5]}<br>Total=%{customdata[6]}<br>HP=%{customdata[7]}<br>Attack=%{customdata[8]}<br>Defense=%{customdata[9]}<br>Sp. Atk=%{customdata[10]}<br>Sp. Def=%{customdata[11]}<br>Speed=%{customdata[12]}<br>Generation=%{customdata[13]}<br>Legendary=%{customdata[14]}<extra></extra>",
         "hovertext": [
          "Pidgey",
          "Pidgeotto",
          "Pidgeot",
          "Rattata",
          "Raticate",
          "Spearow",
          "Fearow",
          "Jigglypuff",
          "Wigglytuff",
          "Meowth",
          "Persian",
          "Farfetch'd",
          "Doduo",
          "Dodrio",
          "Lickitung",
          "Chansey",
          "Kangaskhan",
          "Tauros",
          "Ditto",
          "Eevee",
          "Porygon",
          "Snorlax"
         ],
         "legendgroup": "Normal",
         "marker": {
          "color": "#FFA15A",
          "symbol": "circle"
         },
         "mode": "markers",
         "name": "Normal",
         "orientation": "v",
         "showlegend": true,
         "type": "scatter",
         "x": [
          0.6309354305267334,
          1.1521269083023071,
          1.9894741773605347,
          -1.6037445068359375,
          -2.62900972366333,
          0.8289931416511536,
          1.8728082180023193,
          -1.4485105276107788,
          -1.4668877124786377,
          -1.7767791748046875,
          -2.5381150245666504,
          1.1952998638153076,
          1.2412408590316772,
          2.026059150695801,
          -2.7759130001068115,
          -3.4645912647247314,
          -3.2679481506347656,
          -3.0994627475738525,
          -1.938154697418213,
          -2.2726869583129883,
          -2.7832415103912354,
          -3.7372024059295654
         ],
         "xaxis": "x",
         "y": [
          -7.173145294189453,
          -6.92950963973999,
          -6.816481590270996,
          -3.404195547103882,
          -3.0131208896636963,
          -7.526260852813721,
          -7.113518714904785,
          -6.686080455780029,
          -6.67164945602417,
          -3.1449413299560547,
          -2.732774019241333,
          -6.734018802642822,
          -7.625522136688232,
          -7.343883991241455,
          -4.098404884338379,
          -4.787238121032715,
          -3.139094352722168,
          -2.7023696899414062,
          -3.8777928352355957,
          -3.717026710510254,
          -3.9126269817352295,
          -3.8464770317077637
         ],
         "yaxis": "y"
        },
        {
         "customdata": [
          [
           22,
           28,
           23,
           "Ekans",
           "Poison",
           "None",
           288,
           35,
           60,
           44,
           40,
           54,
           55,
           1,
           false
          ],
          [
           23,
           29,
           24,
           "Arbok",
           "Poison",
           "None",
           438,
           60,
           85,
           69,
           65,
           79,
           80,
           1,
           false
          ],
          [
           28,
           34,
           29,
           "Nidoran♀",
           "Poison",
           "None",
           275,
           55,
           47,
           52,
           40,
           40,
           41,
           1,
           false
          ],
          [
           29,
           35,
           30,
           "Nidorina",
           "Poison",
           "None",
           365,
           70,
           62,
           67,
           55,
           55,
           56,
           1,
           false
          ],
          [
           30,
           36,
           31,
           "Nidoqueen",
           "Poison",
           "Ground",
           505,
           90,
           92,
           87,
           75,
           85,
           76,
           1,
           false
          ],
          [
           31,
           37,
           32,
           "Nidoran♂",
           "Poison",
           "None",
           273,
           46,
           57,
           40,
           40,
           40,
           50,
           1,
           false
          ],
          [
           32,
           38,
           33,
           "Nidorino",
           "Poison",
           "None",
           365,
           61,
           72,
           57,
           55,
           55,
           65,
           1,
           false
          ],
          [
           33,
           39,
           34,
           "Nidoking",
           "Poison",
           "Ground",
           505,
           81,
           102,
           77,
           85,
           75,
           85,
           1,
           false
          ],
          [
           40,
           46,
           41,
           "Zubat",
           "Poison",
           "Flying",
           245,
           40,
           45,
           35,
           30,
           40,
           55,
           1,
           false
          ],
          [
           41,
           47,
           42,
           "Golbat",
           "Poison",
           "Flying",
           455,
           75,
           80,
           70,
           65,
           75,
           90,
           1,
           false
          ],
          [
           87,
           95,
           88,
           "Grimer",
           "Poison",
           "None",
           325,
           80,
           80,
           50,
           40,
           50,
           25,
           1,
           false
          ],
          [
           88,
           96,
           89,
           "Muk",
           "Poison",
           "None",
           500,
           105,
           105,
           75,
           65,
           100,
           50,
           1,
           false
          ],
          [
           108,
           117,
           109,
           "Koffing",
           "Poison",
           "None",
           340,
           40,
           65,
           95,
           60,
           45,
           35,
           1,
           false
          ],
          [
           109,
           118,
           110,
           "Weezing",
           "Poison",
           "None",
           490,
           65,
           90,
           120,
           85,
           70,
           60,
           1,
           false
          ]
         ],
         "hovertemplate": "<b>%{hovertext}</b><br><br>Type 1=%{customdata[4]}<br>t-SNE dimension 1=%{x}<br>t-SNE dimension 2=%{y}<br>level_0=%{customdata[0]}<br>index=%{customdata[1]}<br>#=%{customdata[2]}<br>Name=%{customdata[3]}<br>Type 2=%{customdata[5]}<br>Total=%{customdata[6]}<br>HP=%{customdata[7]}<br>Attack=%{customdata[8]}<br>Defense=%{customdata[9]}<br>Sp. Atk=%{customdata[10]}<br>Sp. Def=%{customdata[11]}<br>Speed=%{customdata[12]}<br>Generation=%{customdata[13]}<br>Legendary=%{customdata[14]}<extra></extra>",
         "hovertext": [
          "Ekans",
          "Arbok",
          "Nidoran♀",
          "Nidorina",
          "Nidoqueen",
          "Nidoran♂",
          "Nidorino",
          "Nidoking",
          "Zubat",
          "Golbat",
          "Grimer",
          "Muk",
          "Koffing",
          "Weezing"
         ],
         "legendgroup": "Poison",
         "marker": {
          "color": "#19d3f3",
          "symbol": "circle"
         },
         "mode": "markers",
         "name": "Poison",
         "orientation": "v",
         "showlegend": true,
         "type": "scatter",
         "x": [
          -6.3920464515686035,
          -7.262239456176758,
          -6.691610813140869,
          -7.15151309967041,
          -7.65940523147583,
          -6.3917670249938965,
          -6.887848377227783,
          -7.661901950836182,
          1.8802919387817383,
          2.132871627807617,
          -6.4380645751953125,
          -7.679202556610107,
          -7.2912917137146,
          -7.822657585144043
         ],
         "xaxis": "x",
         "y": [
          -1.3324693441390991,
          -2.127969741821289,
          -0.8037798404693604,
          -1.3514430522918701,
          -5.261404991149902,
          -1.0235154628753662,
          -1.7340757846832275,
          -5.26013708114624,
          -4.850299835205078,
          -4.935186862945557,
          -1.783765196800232,
          -2.3081085681915283,
          -1.0042953491210938,
          -1.7708956003189087
         ],
         "yaxis": "y"
        },
        {
         "customdata": [
          [
           24,
           30,
           25,
           "Pikachu",
           "Electric",
           "None",
           320,
           35,
           55,
           40,
           50,
           50,
           90,
           1,
           false
          ],
          [
           25,
           31,
           26,
           "Raichu",
           "Electric",
           "None",
           485,
           60,
           90,
           55,
           90,
           80,
           110,
           1,
           false
          ],
          [
           80,
           88,
           81,
           "Magnemite",
           "Electric",
           "Steel",
           325,
           25,
           35,
           70,
           95,
           55,
           45,
           1,
           false
          ],
          [
           81,
           89,
           82,
           "Magneton",
           "Electric",
           "Steel",
           465,
           50,
           60,
           95,
           120,
           70,
           70,
           1,
           false
          ],
          [
           99,
           108,
           100,
           "Voltorb",
           "Electric",
           "None",
           330,
           40,
           30,
           50,
           55,
           55,
           100,
           1,
           false
          ],
          [
           100,
           109,
           101,
           "Electrode",
           "Electric",
           "None",
           480,
           60,
           50,
           70,
           80,
           80,
           140,
           1,
           false
          ],
          [
           124,
           134,
           125,
           "Electabuzz",
           "Electric",
           "None",
           490,
           65,
           83,
           57,
           95,
           85,
           105,
           1,
           false
          ],
          [
           134,
           146,
           135,
           "Jolteon",
           "Electric",
           "None",
           525,
           65,
           65,
           60,
           110,
           95,
           130,
           1,
           false
          ],
          [
           144,
           157,
           145,
           "Zapdos",
           "Electric",
           "Flying",
           580,
           90,
           90,
           85,
           125,
           90,
           100,
           1,
           true
          ]
         ],
         "hovertemplate": "<b>%{hovertext}</b><br><br>Type 1=%{customdata[4]}<br>t-SNE dimension 1=%{x}<br>t-SNE dimension 2=%{y}<br>level_0=%{customdata[0]}<br>index=%{customdata[1]}<br>#=%{customdata[2]}<br>Name=%{customdata[3]}<br>Type 2=%{customdata[5]}<br>Total=%{customdata[6]}<br>HP=%{customdata[7]}<br>Attack=%{customdata[8]}<br>Defense=%{customdata[9]}<br>Sp. Atk=%{customdata[10]}<br>Sp. Def=%{customdata[11]}<br>Speed=%{customdata[12]}<br>Generation=%{customdata[13]}<br>Legendary=%{customdata[14]}<extra></extra>",
         "hovertext": [
          "Pikachu",
          "Raichu",
          "Magnemite",
          "Magneton",
          "Voltorb",
          "Electrode",
          "Electabuzz",
          "Jolteon",
          "Zapdos"
         ],
         "legendgroup": "Electric",
         "marker": {
          "color": "#FF6692",
          "symbol": "circle"
         },
         "mode": "markers",
         "name": "Electric",
         "orientation": "v",
         "showlegend": true,
         "type": "scatter",
         "x": [
          -1.2691164016723633,
          -1.8804341554641724,
          1.0172042846679688,
          1.0065956115722656,
          -1.2213075160980225,
          -1.5004626512527466,
          -1.8779579401016235,
          -1.8153966665267944,
          5.206244945526123
         ],
         "xaxis": "x",
         "y": [
          7.07417106628418,
          7.549504280090332,
          8.63024616241455,
          8.629434585571289,
          7.142775535583496,
          7.789402484893799,
          7.587588787078857,
          7.926758766174316,
          -7.931609153747559
         ],
         "yaxis": "y"
        },
        {
         "customdata": [
          [
           26,
           32,
           27,
           "Sandshrew",
           "Ground",
           "None",
           300,
           50,
           75,
           85,
           20,
           30,
           40,
           1,
           false
          ],
          [
           27,
           33,
           28,
           "Sandslash",
           "Ground",
           "None",
           450,
           75,
           100,
           110,
           45,
           55,
           65,
           1,
           false
          ],
          [
           49,
           55,
           50,
           "Diglett",
           "Ground",
           "None",
           265,
           10,
           55,
           25,
           35,
           45,
           95,
           1,
           false
          ],
          [
           50,
           56,
           51,
           "Dugtrio",
           "Ground",
           "None",
           405,
           35,
           80,
           50,
           50,
           70,
           120,
           1,
           false
          ],
          [
           103,
           112,
           104,
           "Cubone",
           "Ground",
           "None",
           320,
           50,
           50,
           95,
           40,
           50,
           35,
           1,
           false
          ],
          [
           104,
           113,
           105,
           "Marowak",
           "Ground",
           "None",
           425,
           60,
           80,
           110,
           50,
           80,
           45,
           1,
           false
          ],
          [
           110,
           119,
           111,
           "Rhyhorn",
           "Ground",
           "Rock",
           345,
           80,
           85,
           95,
           30,
           30,
           25,
           1,
           false
          ],
          [
           111,
           120,
           112,
           "Rhydon",
           "Ground",
           "Rock",
           485,
           105,
           130,
           120,
           45,
           45,
           40,
           1,
           false
          ]
         ],
         "hovertemplate": "<b>%{hovertext}</b><br><br>Type 1=%{customdata[4]}<br>t-SNE dimension 1=%{x}<br>t-SNE dimension 2=%{y}<br>level_0=%{customdata[0]}<br>index=%{customdata[1]}<br>#=%{customdata[2]}<br>Name=%{customdata[3]}<br>Type 2=%{customdata[5]}<br>Total=%{customdata[6]}<br>HP=%{customdata[7]}<br>Attack=%{customdata[8]}<br>Defense=%{customdata[9]}<br>Sp. Atk=%{customdata[10]}<br>Sp. Def=%{customdata[11]}<br>Speed=%{customdata[12]}<br>Generation=%{customdata[13]}<br>Legendary=%{customdata[14]}<extra></extra>",
         "hovertext": [
          "Sandshrew",
          "Sandslash",
          "Diglett",
          "Dugtrio",
          "Cubone",
          "Marowak",
          "Rhyhorn",
          "Rhydon"
         ],
         "legendgroup": "Ground",
         "marker": {
          "color": "#B6E880",
          "symbol": "circle"
         },
         "mode": "markers",
         "name": "Ground",
         "orientation": "v",
         "showlegend": true,
         "type": "scatter",
         "x": [
          -8.821792602539062,
          -8.507685661315918,
          -8.178058624267578,
          -7.995998859405518,
          -8.790579795837402,
          -8.5890474319458,
          -10.612896919250488,
          -10.621301651000977
         ],
         "xaxis": "x",
         "y": [
          4.512341499328613,
          4.943828105926514,
          4.220127105712891,
          4.4968037605285645,
          4.562861919403076,
          4.9524383544921875,
          6.203160285949707,
          6.2174530029296875
         ],
         "yaxis": "y"
        },
        {
         "customdata": [
          [
           34,
           40,
           35,
           "Clefairy",
           "Fairy",
           "None",
           323,
           70,
           45,
           48,
           60,
           65,
           35,
           1,
           false
          ],
          [
           35,
           41,
           36,
           "Clefable",
           "Fairy",
           "None",
           483,
           95,
           70,
           73,
           95,
           90,
           60,
           1,
           false
          ]
         ],
         "hovertemplate": "<b>%{hovertext}</b><br><br>Type 1=%{customdata[4]}<br>t-SNE dimension 1=%{x}<br>t-SNE dimension 2=%{y}<br>level_0=%{customdata[0]}<br>index=%{customdata[1]}<br>#=%{customdata[2]}<br>Name=%{customdata[3]}<br>Type 2=%{customdata[5]}<br>Total=%{customdata[6]}<br>HP=%{customdata[7]}<br>Attack=%{customdata[8]}<br>Defense=%{customdata[9]}<br>Sp. Atk=%{customdata[10]}<br>Sp. Def=%{customdata[11]}<br>Speed=%{customdata[12]}<br>Generation=%{customdata[13]}<br>Legendary=%{customdata[14]}<extra></extra>",
         "hovertext": [
          "Clefairy",
          "Clefable"
         ],
         "legendgroup": "Fairy",
         "marker": {
          "color": "#FF97FF",
          "symbol": "circle"
         },
         "mode": "markers",
         "name": "Fairy",
         "orientation": "v",
         "showlegend": true,
         "type": "scatter",
         "x": [
          -6.700742244720459,
          -6.708493709564209
         ],
         "xaxis": "x",
         "y": [
          1.9495251178741455,
          1.969264268875122
         ],
         "yaxis": "y"
        },
        {
         "customdata": [
          [
           55,
           61,
           56,
           "Mankey",
           "Fighting",
           "None",
           305,
           40,
           80,
           35,
           35,
           45,
           70,
           1,
           false
          ],
          [
           56,
           62,
           57,
           "Primeape",
           "Fighting",
           "None",
           455,
           65,
           105,
           60,
           60,
           70,
           95,
           1,
           false
          ],
          [
           65,
           72,
           66,
           "Machop",
           "Fighting",
           "None",
           305,
           70,
           80,
           50,
           35,
           35,
           35,
           1,
           false
          ],
          [
           66,
           73,
           67,
           "Machoke",
           "Fighting",
           "None",
           405,
           80,
           100,
           70,
           50,
           60,
           45,
           1,
           false
          ],
          [
           67,
           74,
           68,
           "Machamp",
           "Fighting",
           "None",
           505,
           90,
           130,
           80,
           65,
           85,
           55,
           1,
           false
          ],
          [
           105,
           114,
           106,
           "Hitmonlee",
           "Fighting",
           "None",
           455,
           50,
           120,
           53,
           35,
           110,
           87,
           1,
           false
          ],
          [
           106,
           115,
           107,
           "Hitmonchan",
           "Fighting",
           "None",
           455,
           50,
           105,
           79,
           35,
           110,
           76,
           1,
           false
          ]
         ],
         "hovertemplate": "<b>%{hovertext}</b><br><br>Type 1=%{customdata[4]}<br>t-SNE dimension 1=%{x}<br>t-SNE dimension 2=%{y}<br>level_0=%{customdata[0]}<br>index=%{customdata[1]}<br>#=%{customdata[2]}<br>Name=%{customdata[3]}<br>Type 2=%{customdata[5]}<br>Total=%{customdata[6]}<br>HP=%{customdata[7]}<br>Attack=%{customdata[8]}<br>Defense=%{customdata[9]}<br>Sp. Atk=%{customdata[10]}<br>Sp. Def=%{customdata[11]}<br>Speed=%{customdata[12]}<br>Generation=%{customdata[13]}<br>Legendary=%{customdata[14]}<extra></extra>",
         "hovertext": [
          "Mankey",
          "Primeape",
          "Machop",
          "Machoke",
          "Machamp",
          "Hitmonlee",
          "Hitmonchan"
         ],
         "legendgroup": "Fighting",
         "marker": {
          "color": "#FECB52",
          "symbol": "circle"
         },
         "mode": "markers",
         "name": "Fighting",
         "orientation": "v",
         "showlegend": true,
         "type": "scatter",
         "x": [
          -6.283779144287109,
          -5.827238082885742,
          -6.549496650695801,
          -6.401397228240967,
          -6.2985100746154785,
          -5.773821830749512,
          -5.8437910079956055
         ],
         "xaxis": "x",
         "y": [
          7.3523454666137695,
          7.842350959777832,
          7.348329544067383,
          7.773645877838135,
          8.328368186950684,
          8.382163047790527,
          8.362256050109863
         ],
         "yaxis": "y"
        },
        {
         "customdata": [
          [
           62,
           68,
           63,
           "Abra",
           "Psychic",
           "None",
           310,
           25,
           20,
           15,
           105,
           55,
           90,
           1,
           false
          ],
          [
           63,
           69,
           64,
           "Kadabra",
           "Psychic",
           "None",
           400,
           40,
           35,
           30,
           120,
           70,
           105,
           1,
           false
          ],
          [
           64,
           70,
           65,
           "Alakazam",
           "Psychic",
           "None",
           500,
           55,
           50,
           45,
           135,
           95,
           120,
           1,
           false
          ],
          [
           95,
           104,
           96,
           "Drowzee",
           "Psychic",
           "None",
           328,
           60,
           48,
           45,
           43,
           90,
           42,
           1,
           false
          ],
          [
           96,
           105,
           97,
           "Hypno",
           "Psychic",
           "None",
           483,
           85,
           73,
           70,
           73,
           115,
           67,
           1,
           false
          ],
          [
           121,
           131,
           122,
           "Mr. Mime",
           "Psychic",
           "Fairy",
           460,
           40,
           45,
           65,
           100,
           120,
           90,
           1,
           false
          ],
          [
           149,
           162,
           150,
           "Mewtwo",
           "Psychic",
           "None",
           680,
           106,
           110,
           90,
           154,
           90,
           130,
           1,
           true
          ],
          [
           150,
           165,
           151,
           "Mew",
           "Psychic",
           "None",
           600,
           100,
           100,
           100,
           100,
           100,
           100,
           1,
           false
          ]
         ],
         "hovertemplate": "<b>%{hovertext}</b><br><br>Type 1=%{customdata[4]}<br>t-SNE dimension 1=%{x}<br>t-SNE dimension 2=%{y}<br>level_0=%{customdata[0]}<br>index=%{customdata[1]}<br>#=%{customdata[2]}<br>Name=%{customdata[3]}<br>Type 2=%{customdata[5]}<br>Total=%{customdata[6]}<br>HP=%{customdata[7]}<br>Attack=%{customdata[8]}<br>Defense=%{customdata[9]}<br>Sp. Atk=%{customdata[10]}<br>Sp. Def=%{customdata[11]}<br>Speed=%{customdata[12]}<br>Generation=%{customdata[13]}<br>Legendary=%{customdata[14]}<extra></extra>",
         "hovertext": [
          "Abra",
          "Kadabra",
          "Alakazam",
          "Drowzee",
          "Hypno",
          "Mr. Mime",
          "Mewtwo",
          "Mew"
         ],
         "legendgroup": "Psychic",
         "marker": {
          "color": "#636efa",
          "symbol": "circle"
         },
         "mode": "markers",
         "name": "Psychic",
         "orientation": "v",
         "showlegend": true,
         "type": "scatter",
         "x": [
          -10.256986618041992,
          -10.555602073669434,
          -11.008214950561523,
          -10.390015602111816,
          -10.965696334838867,
          -11.636857032775879,
          -12.036945343017578,
          -11.430074691772461
         ],
         "xaxis": "x",
         "y": [
          1.2887557744979858,
          1.3289717435836792,
          1.3526793718338013,
          0.6660450100898743,
          0.7807227969169617,
          -0.11870008707046509,
          1.7513532638549805,
          1.1449525356292725
         ],
         "yaxis": "y"
        },
        {
         "customdata": [
          [
           73,
           80,
           74,
           "Geodude",
           "Rock",
           "Ground",
           300,
           40,
           80,
           100,
           30,
           30,
           20,
           1,
           false
          ],
          [
           74,
           81,
           75,
           "Graveler",
           "Rock",
           "Ground",
           390,
           55,
           95,
           115,
           45,
           45,
           35,
           1,
           false
          ],
          [
           75,
           82,
           76,
           "Golem",
           "Rock",
           "Ground",
           495,
           80,
           120,
           130,
           55,
           65,
           45,
           1,
           false
          ],
          [
           94,
           103,
           95,
           "Onix",
           "Rock",
           "Ground",
           385,
           35,
           45,
           160,
           30,
           45,
           70,
           1,
           false
          ],
          [
           137,
           149,
           138,
           "Omanyte",
           "Rock",
           "Water",
           355,
           35,
           40,
           100,
           90,
           55,
           35,
           1,
           false
          ],
          [
           138,
           150,
           139,
           "Omastar",
           "Rock",
           "Water",
           495,
           70,
           60,
           125,
           115,
           70,
           55,
           1,
           false
          ],
          [
           139,
           151,
           140,
           "Kabuto",
           "Rock",
           "Water",
           355,
           30,
           80,
           90,
           55,
           45,
           55,
           1,
           false
          ],
          [
           140,
           152,
           141,
           "Kabutops",
           "Rock",
           "Water",
           495,
           60,
           115,
           105,
           65,
           70,
           80,
           1,
           false
          ],
          [
           141,
           153,
           142,
           "Aerodactyl",
           "Rock",
           "Flying",
           515,
           80,
           105,
           65,
           60,
           75,
           130,
           1,
           false
          ]
         ],
         "hovertemplate": "<b>%{hovertext}</b><br><br>Type 1=%{customdata[4]}<br>t-SNE dimension 1=%{x}<br>t-SNE dimension 2=%{y}<br>level_0=%{customdata[0]}<br>index=%{customdata[1]}<br>#=%{customdata[2]}<br>Name=%{customdata[3]}<br>Type 2=%{customdata[5]}<br>Total=%{customdata[6]}<br>HP=%{customdata[7]}<br>Attack=%{customdata[8]}<br>Defense=%{customdata[9]}<br>Sp. Atk=%{customdata[10]}<br>Sp. Def=%{customdata[11]}<br>Speed=%{customdata[12]}<br>Generation=%{customdata[13]}<br>Legendary=%{customdata[14]}<extra></extra>",
         "hovertext": [
          "Geodude",
          "Graveler",
          "Golem",
          "Onix",
          "Omanyte",
          "Omastar",
          "Kabuto",
          "Kabutops",
          "Aerodactyl"
         ],
         "legendgroup": "Rock",
         "marker": {
          "color": "#EF553B",
          "symbol": "circle"
         },
         "mode": "markers",
         "name": "Rock",
         "orientation": "v",
         "showlegend": true,
         "type": "scatter",
         "x": [
          -7.038389682769775,
          -6.976135730743408,
          -6.9369215965271,
          -7.068241119384766,
          -5.239394187927246,
          -5.161862850189209,
          -5.226126670837402,
          -5.107755184173584,
          3.248147487640381
         ],
         "xaxis": "x",
         "y": [
          -8.287483215332031,
          -8.221010208129883,
          -8.105046272277832,
          -8.34922981262207,
          -9.725212097167969,
          -9.732190132141113,
          -9.606818199157715,
          -9.585237503051758,
          -6.419066429138184
         ],
         "yaxis": "y"
        },
        {
         "customdata": [
          [
           91,
           99,
           92,
           "Gastly",
           "Ghost",
           "Poison",
           310,
           30,
           35,
           30,
           100,
           35,
           80,
           1,
           false
          ],
          [
           92,
           100,
           93,
           "Haunter",
           "Ghost",
           "Poison",
           405,
           45,
           50,
           45,
           115,
           55,
           95,
           1,
           false
          ],
          [
           93,
           101,
           94,
           "Gengar",
           "Ghost",
           "Poison",
           500,
           60,
           65,
           60,
           130,
           75,
           110,
           1,
           false
          ]
         ],
         "hovertemplate": "<b>%{hovertext}</b><br><br>Type 1=%{customdata[4]}<br>t-SNE dimension 1=%{x}<br>t-SNE dimension 2=%{y}<br>level_0=%{customdata[0]}<br>index=%{customdata[1]}<br>#=%{customdata[2]}<br>Name=%{customdata[3]}<br>Type 2=%{customdata[5]}<br>Total=%{customdata[6]}<br>HP=%{customdata[7]}<br>Attack=%{customdata[8]}<br>Defense=%{customdata[9]}<br>Sp. Atk=%{customdata[10]}<br>Sp. Def=%{customdata[11]}<br>Speed=%{customdata[12]}<br>Generation=%{customdata[13]}<br>Legendary=%{customdata[14]}<extra></extra>",
         "hovertext": [
          "Gastly",
          "Haunter",
          "Gengar"
         ],
         "legendgroup": "Ghost",
         "marker": {
          "color": "#00cc96",
          "symbol": "circle"
         },
         "mode": "markers",
         "name": "Ghost",
         "orientation": "v",
         "showlegend": true,
         "type": "scatter",
         "x": [
          11.565092086791992,
          11.59367561340332,
          11.634655952453613
         ],
         "xaxis": "x",
         "y": [
          -1.6649106740951538,
          -1.6329210996627808,
          -1.6187214851379395
         ],
         "yaxis": "y"
        },
        {
         "customdata": [
          [
           123,
           133,
           124,
           "Jynx",
           "Ice",
           "Psychic",
           455,
           65,
           50,
           35,
           115,
           95,
           95,
           1,
           false
          ],
          [
           143,
           156,
           144,
           "Articuno",
           "Ice",
           "Flying",
           580,
           90,
           85,
           100,
           95,
           125,
           85,
           1,
           true
          ]
         ],
         "hovertemplate": "<b>%{hovertext}</b><br><br>Type 1=%{customdata[4]}<br>t-SNE dimension 1=%{x}<br>t-SNE dimension 2=%{y}<br>level_0=%{customdata[0]}<br>index=%{customdata[1]}<br>#=%{customdata[2]}<br>Name=%{customdata[3]}<br>Type 2=%{customdata[5]}<br>Total=%{customdata[6]}<br>HP=%{customdata[7]}<br>Attack=%{customdata[8]}<br>Defense=%{customdata[9]}<br>Sp. Atk=%{customdata[10]}<br>Sp. Def=%{customdata[11]}<br>Speed=%{customdata[12]}<br>Generation=%{customdata[13]}<br>Legendary=%{customdata[14]}<extra></extra>",
         "hovertext": [
          "Jynx",
          "Articuno"
         ],
         "legendgroup": "Ice",
         "marker": {
          "color": "#ab63fa",
          "symbol": "circle"
         },
         "mode": "markers",
         "name": "Ice",
         "orientation": "v",
         "showlegend": true,
         "type": "scatter",
         "x": [
          6.537182807922363,
          5.314170837402344
         ],
         "xaxis": "x",
         "y": [
          2.48197340965271,
          -7.850609302520752
         ],
         "yaxis": "y"
        },
        {
         "customdata": [
          [
           146,
           159,
           147,
           "Dratini",
           "Dragon",
           "None",
           300,
           41,
           64,
           45,
           50,
           50,
           50,
           1,
           false
          ],
          [
           147,
           160,
           148,
           "Dragonair",
           "Dragon",
           "None",
           420,
           61,
           84,
           65,
           70,
           70,
           70,
           1,
           false
          ],
          [
           148,
           161,
           149,
           "Dragonite",
           "Dragon",
           "Flying",
           600,
           91,
           134,
           95,
           100,
           100,
           80,
           1,
           false
          ]
         ],
         "hovertemplate": "<b>%{hovertext}</b><br><br>Type 1=%{customdata[4]}<br>t-SNE dimension 1=%{x}<br>t-SNE dimension 2=%{y}<br>level_0=%{customdata[0]}<br>index=%{customdata[1]}<br>#=%{customdata[2]}<br>Name=%{customdata[3]}<br>Type 2=%{customdata[5]}<br>Total=%{customdata[6]}<br>HP=%{customdata[7]}<br>Attack=%{customdata[8]}<br>Defense=%{customdata[9]}<br>Sp. Atk=%{customdata[10]}<br>Sp. Def=%{customdata[11]}<br>Speed=%{customdata[12]}<br>Generation=%{customdata[13]}<br>Legendary=%{customdata[14]}<extra></extra>",
         "hovertext": [
          "Dratini",
          "Dragonair",
          "Dragonite"
         ],
         "legendgroup": "Dragon",
         "marker": {
          "color": "#FFA15A",
          "symbol": "circle"
         },
         "mode": "markers",
         "name": "Dragon",
         "orientation": "v",
         "showlegend": true,
         "type": "scatter",
         "x": [
          -4.592924118041992,
          -4.588672637939453,
          3.737093687057495
         ],
         "xaxis": "x",
         "y": [
          0.815016508102417,
          0.8243056535720825,
          -5.66710901260376
         ],
         "yaxis": "y"
        }
       ],
       "layout": {
        "legend": {
         "title": {
          "text": "Type 1"
         },
         "tracegroupgap": 0
        },
        "margin": {
         "t": 60
        },
        "template": {
         "data": {
          "bar": [
           {
            "error_x": {
             "color": "#2a3f5f"
            },
            "error_y": {
             "color": "#2a3f5f"
            },
            "marker": {
             "line": {
              "color": "#E5ECF6",
              "width": 0.5
             },
             "pattern": {
              "fillmode": "overlay",
              "size": 10,
              "solidity": 0.2
             }
            },
            "type": "bar"
           }
          ],
          "barpolar": [
           {
            "marker": {
             "line": {
              "color": "#E5ECF6",
              "width": 0.5
             },
             "pattern": {
              "fillmode": "overlay",
              "size": 10,
              "solidity": 0.2
             }
            },
            "type": "barpolar"
           }
          ],
          "carpet": [
           {
            "aaxis": {
             "endlinecolor": "#2a3f5f",
             "gridcolor": "white",
             "linecolor": "white",
             "minorgridcolor": "white",
             "startlinecolor": "#2a3f5f"
            },
            "baxis": {
             "endlinecolor": "#2a3f5f",
             "gridcolor": "white",
             "linecolor": "white",
             "minorgridcolor": "white",
             "startlinecolor": "#2a3f5f"
            },
            "type": "carpet"
           }
          ],
          "choropleth": [
           {
            "colorbar": {
             "outlinewidth": 0,
             "ticks": ""
            },
            "type": "choropleth"
           }
          ],
          "contour": [
           {
            "colorbar": {
             "outlinewidth": 0,
             "ticks": ""
            },
            "colorscale": [
             [
              0,
              "#0d0887"
             ],
             [
              0.1111111111111111,
              "#46039f"
             ],
             [
              0.2222222222222222,
              "#7201a8"
             ],
             [
              0.3333333333333333,
              "#9c179e"
             ],
             [
              0.4444444444444444,
              "#bd3786"
             ],
             [
              0.5555555555555556,
              "#d8576b"
             ],
             [
              0.6666666666666666,
              "#ed7953"
             ],
             [
              0.7777777777777778,
              "#fb9f3a"
             ],
             [
              0.8888888888888888,
              "#fdca26"
             ],
             [
              1,
              "#f0f921"
             ]
            ],
            "type": "contour"
           }
          ],
          "contourcarpet": [
           {
            "colorbar": {
             "outlinewidth": 0,
             "ticks": ""
            },
            "type": "contourcarpet"
           }
          ],
          "heatmap": [
           {
            "colorbar": {
             "outlinewidth": 0,
             "ticks": ""
            },
            "colorscale": [
             [
              0,
              "#0d0887"
             ],
             [
              0.1111111111111111,
              "#46039f"
             ],
             [
              0.2222222222222222,
              "#7201a8"
             ],
             [
              0.3333333333333333,
              "#9c179e"
             ],
             [
              0.4444444444444444,
              "#bd3786"
             ],
             [
              0.5555555555555556,
              "#d8576b"
             ],
             [
              0.6666666666666666,
              "#ed7953"
             ],
             [
              0.7777777777777778,
              "#fb9f3a"
             ],
             [
              0.8888888888888888,
              "#fdca26"
             ],
             [
              1,
              "#f0f921"
             ]
            ],
            "type": "heatmap"
           }
          ],
          "heatmapgl": [
           {
            "colorbar": {
             "outlinewidth": 0,
             "ticks": ""
            },
            "colorscale": [
             [
              0,
              "#0d0887"
             ],
             [
              0.1111111111111111,
              "#46039f"
             ],
             [
              0.2222222222222222,
              "#7201a8"
             ],
             [
              0.3333333333333333,
              "#9c179e"
             ],
             [
              0.4444444444444444,
              "#bd3786"
             ],
             [
              0.5555555555555556,
              "#d8576b"
             ],
             [
              0.6666666666666666,
              "#ed7953"
             ],
             [
              0.7777777777777778,
              "#fb9f3a"
             ],
             [
              0.8888888888888888,
              "#fdca26"
             ],
             [
              1,
              "#f0f921"
             ]
            ],
            "type": "heatmapgl"
           }
          ],
          "histogram": [
           {
            "marker": {
             "pattern": {
              "fillmode": "overlay",
              "size": 10,
              "solidity": 0.2
             }
            },
            "type": "histogram"
           }
          ],
          "histogram2d": [
           {
            "colorbar": {
             "outlinewidth": 0,
             "ticks": ""
            },
            "colorscale": [
             [
              0,
              "#0d0887"
             ],
             [
              0.1111111111111111,
              "#46039f"
             ],
             [
              0.2222222222222222,
              "#7201a8"
             ],
             [
              0.3333333333333333,
              "#9c179e"
             ],
             [
              0.4444444444444444,
              "#bd3786"
             ],
             [
              0.5555555555555556,
              "#d8576b"
             ],
             [
              0.6666666666666666,
              "#ed7953"
             ],
             [
              0.7777777777777778,
              "#fb9f3a"
             ],
             [
              0.8888888888888888,
              "#fdca26"
             ],
             [
              1,
              "#f0f921"
             ]
            ],
            "type": "histogram2d"
           }
          ],
          "histogram2dcontour": [
           {
            "colorbar": {
             "outlinewidth": 0,
             "ticks": ""
            },
            "colorscale": [
             [
              0,
              "#0d0887"
             ],
             [
              0.1111111111111111,
              "#46039f"
             ],
             [
              0.2222222222222222,
              "#7201a8"
             ],
             [
              0.3333333333333333,
              "#9c179e"
             ],
             [
              0.4444444444444444,
              "#bd3786"
             ],
             [
              0.5555555555555556,
              "#d8576b"
             ],
             [
              0.6666666666666666,
              "#ed7953"
             ],
             [
              0.7777777777777778,
              "#fb9f3a"
             ],
             [
              0.8888888888888888,
              "#fdca26"
             ],
             [
              1,
              "#f0f921"
             ]
            ],
            "type": "histogram2dcontour"
           }
          ],
          "mesh3d": [
           {
            "colorbar": {
             "outlinewidth": 0,
             "ticks": ""
            },
            "type": "mesh3d"
           }
          ],
          "parcoords": [
           {
            "line": {
             "colorbar": {
              "outlinewidth": 0,
              "ticks": ""
             }
            },
            "type": "parcoords"
           }
          ],
          "pie": [
           {
            "automargin": true,
            "type": "pie"
           }
          ],
          "scatter": [
           {
            "fillpattern": {
             "fillmode": "overlay",
             "size": 10,
             "solidity": 0.2
            },
            "type": "scatter"
           }
          ],
          "scatter3d": [
           {
            "line": {
             "colorbar": {
              "outlinewidth": 0,
              "ticks": ""
             }
            },
            "marker": {
             "colorbar": {
              "outlinewidth": 0,
              "ticks": ""
             }
            },
            "type": "scatter3d"
           }
          ],
          "scattercarpet": [
           {
            "marker": {
             "colorbar": {
              "outlinewidth": 0,
              "ticks": ""
             }
            },
            "type": "scattercarpet"
           }
          ],
          "scattergeo": [
           {
            "marker": {
             "colorbar": {
              "outlinewidth": 0,
              "ticks": ""
             }
            },
            "type": "scattergeo"
           }
          ],
          "scattergl": [
           {
            "marker": {
             "colorbar": {
              "outlinewidth": 0,
              "ticks": ""
             }
            },
            "type": "scattergl"
           }
          ],
          "scattermapbox": [
           {
            "marker": {
             "colorbar": {
              "outlinewidth": 0,
              "ticks": ""
             }
            },
            "type": "scattermapbox"
           }
          ],
          "scatterpolar": [
           {
            "marker": {
             "colorbar": {
              "outlinewidth": 0,
              "ticks": ""
             }
            },
            "type": "scatterpolar"
           }
          ],
          "scatterpolargl": [
           {
            "marker": {
             "colorbar": {
              "outlinewidth": 0,
              "ticks": ""
             }
            },
            "type": "scatterpolargl"
           }
          ],
          "scatterternary": [
           {
            "marker": {
             "colorbar": {
              "outlinewidth": 0,
              "ticks": ""
             }
            },
            "type": "scatterternary"
           }
          ],
          "surface": [
           {
            "colorbar": {
             "outlinewidth": 0,
             "ticks": ""
            },
            "colorscale": [
             [
              0,
              "#0d0887"
             ],
             [
              0.1111111111111111,
              "#46039f"
             ],
             [
              0.2222222222222222,
              "#7201a8"
             ],
             [
              0.3333333333333333,
              "#9c179e"
             ],
             [
              0.4444444444444444,
              "#bd3786"
             ],
             [
              0.5555555555555556,
              "#d8576b"
             ],
             [
              0.6666666666666666,
              "#ed7953"
             ],
             [
              0.7777777777777778,
              "#fb9f3a"
             ],
             [
              0.8888888888888888,
              "#fdca26"
             ],
             [
              1,
              "#f0f921"
             ]
            ],
            "type": "surface"
           }
          ],
          "table": [
           {
            "cells": {
             "fill": {
              "color": "#EBF0F8"
             },
             "line": {
              "color": "white"
             }
            },
            "header": {
             "fill": {
              "color": "#C8D4E3"
             },
             "line": {
              "color": "white"
             }
            },
            "type": "table"
           }
          ]
         },
         "layout": {
          "annotationdefaults": {
           "arrowcolor": "#2a3f5f",
           "arrowhead": 0,
           "arrowwidth": 1
          },
          "autotypenumbers": "strict",
          "coloraxis": {
           "colorbar": {
            "outlinewidth": 0,
            "ticks": ""
           }
          },
          "colorscale": {
           "diverging": [
            [
             0,
             "#8e0152"
            ],
            [
             0.1,
             "#c51b7d"
            ],
            [
             0.2,
             "#de77ae"
            ],
            [
             0.3,
             "#f1b6da"
            ],
            [
             0.4,
             "#fde0ef"
            ],
            [
             0.5,
             "#f7f7f7"
            ],
            [
             0.6,
             "#e6f5d0"
            ],
            [
             0.7,
             "#b8e186"
            ],
            [
             0.8,
             "#7fbc41"
            ],
            [
             0.9,
             "#4d9221"
            ],
            [
             1,
             "#276419"
            ]
           ],
           "sequential": [
            [
             0,
             "#0d0887"
            ],
            [
             0.1111111111111111,
             "#46039f"
            ],
            [
             0.2222222222222222,
             "#7201a8"
            ],
            [
             0.3333333333333333,
             "#9c179e"
            ],
            [
             0.4444444444444444,
             "#bd3786"
            ],
            [
             0.5555555555555556,
             "#d8576b"
            ],
            [
             0.6666666666666666,
             "#ed7953"
            ],
            [
             0.7777777777777778,
             "#fb9f3a"
            ],
            [
             0.8888888888888888,
             "#fdca26"
            ],
            [
             1,
             "#f0f921"
            ]
           ],
           "sequentialminus": [
            [
             0,
             "#0d0887"
            ],
            [
             0.1111111111111111,
             "#46039f"
            ],
            [
             0.2222222222222222,
             "#7201a8"
            ],
            [
             0.3333333333333333,
             "#9c179e"
            ],
            [
             0.4444444444444444,
             "#bd3786"
            ],
            [
             0.5555555555555556,
             "#d8576b"
            ],
            [
             0.6666666666666666,
             "#ed7953"
            ],
            [
             0.7777777777777778,
             "#fb9f3a"
            ],
            [
             0.8888888888888888,
             "#fdca26"
            ],
            [
             1,
             "#f0f921"
            ]
           ]
          },
          "colorway": [
           "#636efa",
           "#EF553B",
           "#00cc96",
           "#ab63fa",
           "#FFA15A",
           "#19d3f3",
           "#FF6692",
           "#B6E880",
           "#FF97FF",
           "#FECB52"
          ],
          "font": {
           "color": "#2a3f5f"
          },
          "geo": {
           "bgcolor": "white",
           "lakecolor": "white",
           "landcolor": "#E5ECF6",
           "showlakes": true,
           "showland": true,
           "subunitcolor": "white"
          },
          "hoverlabel": {
           "align": "left"
          },
          "hovermode": "closest",
          "mapbox": {
           "style": "light"
          },
          "paper_bgcolor": "white",
          "plot_bgcolor": "#E5ECF6",
          "polar": {
           "angularaxis": {
            "gridcolor": "white",
            "linecolor": "white",
            "ticks": ""
           },
           "bgcolor": "#E5ECF6",
           "radialaxis": {
            "gridcolor": "white",
            "linecolor": "white",
            "ticks": ""
           }
          },
          "scene": {
           "xaxis": {
            "backgroundcolor": "#E5ECF6",
            "gridcolor": "white",
            "gridwidth": 2,
            "linecolor": "white",
            "showbackground": true,
            "ticks": "",
            "zerolinecolor": "white"
           },
           "yaxis": {
            "backgroundcolor": "#E5ECF6",
            "gridcolor": "white",
            "gridwidth": 2,
            "linecolor": "white",
            "showbackground": true,
            "ticks": "",
            "zerolinecolor": "white"
           },
           "zaxis": {
            "backgroundcolor": "#E5ECF6",
            "gridcolor": "white",
            "gridwidth": 2,
            "linecolor": "white",
            "showbackground": true,
            "ticks": "",
            "zerolinecolor": "white"
           }
          },
          "shapedefaults": {
           "line": {
            "color": "#2a3f5f"
           }
          },
          "ternary": {
           "aaxis": {
            "gridcolor": "white",
            "linecolor": "white",
            "ticks": ""
           },
           "baxis": {
            "gridcolor": "white",
            "linecolor": "white",
            "ticks": ""
           },
           "bgcolor": "#E5ECF6",
           "caxis": {
            "gridcolor": "white",
            "linecolor": "white",
            "ticks": ""
           }
          },
          "title": {
           "x": 0.05
          },
          "xaxis": {
           "automargin": true,
           "gridcolor": "white",
           "linecolor": "white",
           "ticks": "",
           "title": {
            "standoff": 15
           },
           "zerolinecolor": "white",
           "zerolinewidth": 2
          },
          "yaxis": {
           "automargin": true,
           "gridcolor": "white",
           "linecolor": "white",
           "ticks": "",
           "title": {
            "standoff": 15
           },
           "zerolinecolor": "white",
           "zerolinewidth": 2
          }
         }
        },
        "title": {
         "font": {
          "size": 22
         },
         "text": "Visualización de Pokemon usando t-SNE <br> Coloreados por tipo principal",
         "x": 0.5,
         "xref": "paper"
        },
        "xaxis": {
         "anchor": "y",
         "domain": [
          0,
          1
         ],
         "title": {
          "text": "t-SNE dimension 1"
         }
        },
        "yaxis": {
         "anchor": "x",
         "domain": [
          0,
          1
         ],
         "title": {
          "text": "t-SNE dimension 2"
         }
        }
       }
      },
      "text/html": [
       "<div>                            <div id=\"bbe98553-7172-4f56-ab98-2853252a80e0\" class=\"plotly-graph-div\" style=\"height:525px; width:100%;\"></div>            <script type=\"text/javascript\">                require([\"plotly\"], function(Plotly) {                    window.PLOTLYENV=window.PLOTLYENV || {};                                    if (document.getElementById(\"bbe98553-7172-4f56-ab98-2853252a80e0\")) {                    Plotly.newPlot(                        \"bbe98553-7172-4f56-ab98-2853252a80e0\",                        [{\"customdata\":[[0,0,1,\"Bulbasaur\",\"Grass\",\"Poison\",318,45,49,49,65,65,45,1,false],[1,1,2,\"Ivysaur\",\"Grass\",\"Poison\",405,60,62,63,80,80,60,1,false],[2,2,3,\"Venusaur\",\"Grass\",\"Poison\",525,80,82,83,100,100,80,1,false],[42,48,43,\"Oddish\",\"Grass\",\"Poison\",320,45,50,55,75,65,30,1,false],[43,49,44,\"Gloom\",\"Grass\",\"Poison\",395,60,65,70,85,75,40,1,false],[44,50,45,\"Vileplume\",\"Grass\",\"Poison\",490,75,80,85,110,90,50,1,false],[68,75,69,\"Bellsprout\",\"Grass\",\"Poison\",300,50,75,35,70,30,40,1,false],[69,76,70,\"Weepinbell\",\"Grass\",\"Poison\",390,65,90,50,85,45,55,1,false],[70,77,71,\"Victreebel\",\"Grass\",\"Poison\",490,80,105,65,100,70,70,1,false],[101,110,102,\"Exeggcute\",\"Grass\",\"Psychic\",325,60,40,80,60,45,40,1,false],[102,111,103,\"Exeggutor\",\"Grass\",\"Psychic\",520,95,95,85,125,65,55,1,false],[113,122,114,\"Tangela\",\"Grass\",\"None\",435,65,55,115,100,40,60,1,false]],\"hovertemplate\":\"<b>%{hovertext}</b><br><br>Type 1=%{customdata[4]}<br>t-SNE dimension 1=%{x}<br>t-SNE dimension 2=%{y}<br>level_0=%{customdata[0]}<br>index=%{customdata[1]}<br>#=%{customdata[2]}<br>Name=%{customdata[3]}<br>Type 2=%{customdata[5]}<br>Total=%{customdata[6]}<br>HP=%{customdata[7]}<br>Attack=%{customdata[8]}<br>Defense=%{customdata[9]}<br>Sp. Atk=%{customdata[10]}<br>Sp. Def=%{customdata[11]}<br>Speed=%{customdata[12]}<br>Generation=%{customdata[13]}<br>Legendary=%{customdata[14]}<extra></extra>\",\"hovertext\":[\"Bulbasaur\",\"Ivysaur\",\"Venusaur\",\"Oddish\",\"Gloom\",\"Vileplume\",\"Bellsprout\",\"Weepinbell\",\"Victreebel\",\"Exeggcute\",\"Exeggutor\",\"Tangela\"],\"legendgroup\":\"Grass\",\"marker\":{\"color\":\"#636efa\",\"symbol\":\"circle\"},\"mode\":\"markers\",\"name\":\"Grass\",\"orientation\":\"v\",\"showlegend\":true,\"x\":[9.89006233215332,9.952411651611328,10.447258949279785,9.66016674041748,9.641215324401855,10.0548095703125,10.403642654418945,10.591083526611328,10.716132164001465,8.015301704406738,7.9736714363098145,3.2849631309509277],\"xaxis\":\"x\",\"y\":[0.18756330013275146,0.8458612561225891,1.429657220840454,0.32538363337516785,0.8632476329803467,1.3627777099609375,0.07250721007585526,0.4959731101989746,1.0051885843276978,2.3437883853912354,2.348297595977783,4.613425254821777],\"yaxis\":\"y\",\"type\":\"scatter\"},{\"customdata\":[[3,4,4,\"Charmander\",\"Fire\",\"None\",309,39,52,43,60,50,65,1,false],[4,5,5,\"Charmeleon\",\"Fire\",\"None\",405,58,64,58,80,65,80,1,false],[5,6,6,\"Charizard\",\"Fire\",\"Flying\",534,78,84,78,109,85,100,1,false],[36,42,37,\"Vulpix\",\"Fire\",\"None\",299,38,41,40,50,65,65,1,false],[37,43,38,\"Ninetales\",\"Fire\",\"None\",505,73,76,75,81,100,100,1,false],[57,63,58,\"Growlithe\",\"Fire\",\"None\",350,55,70,45,70,50,60,1,false],[58,64,59,\"Arcanine\",\"Fire\",\"None\",555,90,110,80,100,80,95,1,false],[76,83,77,\"Ponyta\",\"Fire\",\"None\",410,50,85,55,65,65,90,1,false],[77,84,78,\"Rapidash\",\"Fire\",\"None\",500,65,100,70,80,80,105,1,false],[125,135,126,\"Magmar\",\"Fire\",\"None\",495,65,95,57,100,85,93,1,false],[135,147,136,\"Flareon\",\"Fire\",\"None\",525,65,130,60,95,110,65,1,false],[145,158,146,\"Moltres\",\"Fire\",\"Flying\",580,90,100,90,125,85,90,1,true]],\"hovertemplate\":\"<b>%{hovertext}</b><br><br>Type 1=%{customdata[4]}<br>t-SNE dimension 1=%{x}<br>t-SNE dimension 2=%{y}<br>level_0=%{customdata[0]}<br>index=%{customdata[1]}<br>#=%{customdata[2]}<br>Name=%{customdata[3]}<br>Type 2=%{customdata[5]}<br>Total=%{customdata[6]}<br>HP=%{customdata[7]}<br>Attack=%{customdata[8]}<br>Defense=%{customdata[9]}<br>Sp. Atk=%{customdata[10]}<br>Sp. Def=%{customdata[11]}<br>Speed=%{customdata[12]}<br>Generation=%{customdata[13]}<br>Legendary=%{customdata[14]}<extra></extra>\",\"hovertext\":[\"Charmander\",\"Charmeleon\",\"Charizard\",\"Vulpix\",\"Ninetales\",\"Growlithe\",\"Arcanine\",\"Ponyta\",\"Rapidash\",\"Magmar\",\"Flareon\",\"Moltres\"],\"legendgroup\":\"Fire\",\"marker\":{\"color\":\"#EF553B\",\"symbol\":\"circle\"},\"mode\":\"markers\",\"name\":\"Fire\",\"orientation\":\"v\",\"showlegend\":true,\"x\":[-4.007596969604492,-4.413737773895264,4.439121723175049,-4.317385673522949,-3.7533035278320312,-3.7862157821655273,-4.1909589767456055,-3.808382511138916,-4.099053382873535,-4.600762367248535,-4.7239460945129395,4.793299198150635],\"xaxis\":\"x\",\"y\":[3.1912777423858643,3.7409911155700684,-6.94641637802124,3.16642165184021,4.581401348114014,3.4452712535858154,4.89119291305542,3.9361379146575928,4.492746353149414,4.345576286315918,4.877816200256348,-7.362118244171143],\"yaxis\":\"y\",\"type\":\"scatter\"},{\"customdata\":[[6,9,7,\"Squirtle\",\"Water\",\"None\",314,44,48,65,50,64,43,1,false],[7,10,8,\"Wartortle\",\"Water\",\"None\",405,59,63,80,65,80,58,1,false],[8,11,9,\"Blastoise\",\"Water\",\"None\",530,79,83,100,85,105,78,1,false],[53,59,54,\"Psyduck\",\"Water\",\"None\",320,50,52,48,65,50,55,1,false],[54,60,55,\"Golduck\",\"Water\",\"None\",500,80,82,78,95,80,85,1,false],[59,65,60,\"Poliwag\",\"Water\",\"None\",300,40,50,40,40,40,90,1,false],[60,66,61,\"Poliwhirl\",\"Water\",\"None\",385,65,65,65,50,50,90,1,false],[61,67,62,\"Poliwrath\",\"Water\",\"Fighting\",510,90,95,95,70,90,70,1,false],[71,78,72,\"Tentacool\",\"Water\",\"Poison\",335,40,40,35,50,100,70,1,false],[72,79,73,\"Tentacruel\",\"Water\",\"Poison\",515,80,70,65,80,120,100,1,false],[78,85,79,\"Slowpoke\",\"Water\",\"Psychic\",315,90,65,65,40,40,15,1,false],[79,86,80,\"Slowbro\",\"Water\",\"Psychic\",490,95,75,110,100,80,30,1,false],[85,93,86,\"Seel\",\"Water\",\"None\",325,65,45,55,45,70,45,1,false],[86,94,87,\"Dewgong\",\"Water\",\"Ice\",475,90,70,80,70,95,70,1,false],[89,97,90,\"Shellder\",\"Water\",\"None\",305,30,65,100,45,25,40,1,false],[90,98,91,\"Cloyster\",\"Water\",\"Ice\",525,50,95,180,85,45,70,1,false],[97,106,98,\"Krabby\",\"Water\",\"None\",325,30,105,90,25,25,50,1,false],[98,107,99,\"Kingler\",\"Water\",\"None\",475,55,130,115,50,50,75,1,false],[115,125,116,\"Horsea\",\"Water\",\"None\",295,30,40,70,70,25,60,1,false],[116,126,117,\"Seadra\",\"Water\",\"None\",440,55,65,95,95,45,85,1,false],[117,127,118,\"Goldeen\",\"Water\",\"None\",320,45,67,60,35,50,63,1,false],[118,128,119,\"Seaking\",\"Water\",\"None\",450,80,92,65,65,80,68,1,false],[119,129,120,\"Staryu\",\"Water\",\"None\",340,30,45,55,70,55,85,1,false],[120,130,121,\"Starmie\",\"Water\",\"Psychic\",520,60,75,85,100,85,115,1,false],[128,139,129,\"Magikarp\",\"Water\",\"None\",200,20,10,55,15,20,80,1,false],[129,140,130,\"Gyarados\",\"Water\",\"Flying\",540,95,125,79,60,100,81,1,false],[130,142,131,\"Lapras\",\"Water\",\"Ice\",535,130,85,80,85,95,60,1,false],[133,145,134,\"Vaporeon\",\"Water\",\"None\",525,130,65,60,110,95,65,1,false]],\"hovertemplate\":\"<b>%{hovertext}</b><br><br>Type 1=%{customdata[4]}<br>t-SNE dimension 1=%{x}<br>t-SNE dimension 2=%{y}<br>level_0=%{customdata[0]}<br>index=%{customdata[1]}<br>#=%{customdata[2]}<br>Name=%{customdata[3]}<br>Type 2=%{customdata[5]}<br>Total=%{customdata[6]}<br>HP=%{customdata[7]}<br>Attack=%{customdata[8]}<br>Defense=%{customdata[9]}<br>Sp. Atk=%{customdata[10]}<br>Sp. Def=%{customdata[11]}<br>Speed=%{customdata[12]}<br>Generation=%{customdata[13]}<br>Legendary=%{customdata[14]}<extra></extra>\",\"hovertext\":[\"Squirtle\",\"Wartortle\",\"Blastoise\",\"Psyduck\",\"Golduck\",\"Poliwag\",\"Poliwhirl\",\"Poliwrath\",\"Tentacool\",\"Tentacruel\",\"Slowpoke\",\"Slowbro\",\"Seel\",\"Dewgong\",\"Shellder\",\"Cloyster\",\"Krabby\",\"Kingler\",\"Horsea\",\"Seadra\",\"Goldeen\",\"Seaking\",\"Staryu\",\"Starmie\",\"Magikarp\",\"Gyarados\",\"Lapras\",\"Vaporeon\"],\"legendgroup\":\"Water\",\"marker\":{\"color\":\"#00cc96\",\"symbol\":\"circle\"},\"mode\":\"markers\",\"name\":\"Water\",\"orientation\":\"v\",\"showlegend\":true,\"x\":[0.7966622114181519,1.7302063703536987,2.2631564140319824,0.9272511005401611,2.2063207626342773,0.7175142168998718,1.009170413017273,3.853292226791382,6.728630542755127,6.6616597175598145,5.039031505584717,5.242059707641602,1.305402159690857,3.9545528888702393,-0.14573584496974945,3.7230887413024902,0.05863712728023529,0.9703471064567566,0.15812435746192932,2.1887729167938232,0.462723046541214,1.6142526865005493,1.4049540758132935,5.448714733123779,-0.03559287264943123,3.8431127071380615,3.9541079998016357,2.628382444381714],\"xaxis\":\"x\",\"y\":[2.605257987976074,2.322061538696289,1.3769645690917969,3.049783229827881,1.930345058441162,3.6320629119873047,2.0150697231292725,0.8437879085540771,-0.4393119215965271,-0.42916038632392883,2.3409340381622314,2.1381466388702393,2.766360282897949,-0.5169774293899536,2.5092382431030273,-0.6061301827430725,1.706673502922058,1.0519237518310547,3.1235978603363037,3.170427083969116,2.2735393047332764,1.557148814201355,3.4140357971191406,2.0386078357696533,3.785808801651001,-3.749290943145752,-0.5285832285881042,2.104569911956787],\"yaxis\":\"y\",\"type\":\"scatter\"},{\"customdata\":[[9,13,10,\"Caterpie\",\"Bug\",\"None\",195,45,30,35,20,20,45,1,false],[10,14,11,\"Metapod\",\"Bug\",\"None\",205,50,20,55,25,25,30,1,false],[11,15,12,\"Butterfree\",\"Bug\",\"Flying\",395,60,45,50,90,80,70,1,false],[12,16,13,\"Weedle\",\"Bug\",\"Poison\",195,40,35,30,20,20,50,1,false],[13,17,14,\"Kakuna\",\"Bug\",\"Poison\",205,45,25,50,25,25,35,1,false],[14,18,15,\"Beedrill\",\"Bug\",\"Poison\",395,65,90,40,45,80,75,1,false],[45,51,46,\"Paras\",\"Bug\",\"Grass\",285,35,70,55,45,55,25,1,false],[46,52,47,\"Parasect\",\"Bug\",\"Grass\",405,60,95,80,60,80,30,1,false],[47,53,48,\"Venonat\",\"Bug\",\"Poison\",305,60,55,50,40,55,45,1,false],[48,54,49,\"Venomoth\",\"Bug\",\"Poison\",450,70,65,60,90,75,90,1,false],[122,132,123,\"Scyther\",\"Bug\",\"Flying\",500,70,110,80,55,80,105,1,false],[126,136,127,\"Pinsir\",\"Bug\",\"None\",500,65,125,100,55,70,85,1,false]],\"hovertemplate\":\"<b>%{hovertext}</b><br><br>Type 1=%{customdata[4]}<br>t-SNE dimension 1=%{x}<br>t-SNE dimension 2=%{y}<br>level_0=%{customdata[0]}<br>index=%{customdata[1]}<br>#=%{customdata[2]}<br>Name=%{customdata[3]}<br>Type 2=%{customdata[5]}<br>Total=%{customdata[6]}<br>HP=%{customdata[7]}<br>Attack=%{customdata[8]}<br>Defense=%{customdata[9]}<br>Sp. Atk=%{customdata[10]}<br>Sp. Def=%{customdata[11]}<br>Speed=%{customdata[12]}<br>Generation=%{customdata[13]}<br>Legendary=%{customdata[14]}<extra></extra>\",\"hovertext\":[\"Caterpie\",\"Metapod\",\"Butterfree\",\"Weedle\",\"Kakuna\",\"Beedrill\",\"Paras\",\"Parasect\",\"Venonat\",\"Venomoth\",\"Scyther\",\"Pinsir\"],\"legendgroup\":\"Bug\",\"marker\":{\"color\":\"#ab63fa\",\"symbol\":\"circle\"},\"mode\":\"markers\",\"name\":\"Bug\",\"orientation\":\"v\",\"showlegend\":true,\"x\":[-2.2110142707824707,-2.1994056701660156,4.930185317993164,9.132299423217773,9.130996704101562,8.867867469787598,7.923327922821045,7.926668643951416,9.039457321166992,8.939078330993652,4.804583549499512,-2.5001842975616455],\"xaxis\":\"x\",\"y\":[0.29102787375450134,0.27746525406837463,-5.1294264793396,-2.810502767562866,-2.8087310791015625,-2.0215044021606445,5.316516399383545,5.31110143661499,-2.387242317199707,-1.8904502391815186,-5.167529106140137,0.6462465524673462],\"yaxis\":\"y\",\"type\":\"scatter\"},{\"customdata\":[[15,20,16,\"Pidgey\",\"Normal\",\"Flying\",251,40,45,40,35,35,56,1,false],[16,21,17,\"Pidgeotto\",\"Normal\",\"Flying\",349,63,60,55,50,50,71,1,false],[17,22,18,\"Pidgeot\",\"Normal\",\"Flying\",479,83,80,75,70,70,101,1,false],[18,24,19,\"Rattata\",\"Normal\",\"None\",253,30,56,35,25,35,72,1,false],[19,25,20,\"Raticate\",\"Normal\",\"None\",413,55,81,60,50,70,97,1,false],[20,26,21,\"Spearow\",\"Normal\",\"Flying\",262,40,60,30,31,31,70,1,false],[21,27,22,\"Fearow\",\"Normal\",\"Flying\",442,65,90,65,61,61,100,1,false],[38,44,39,\"Jigglypuff\",\"Normal\",\"Fairy\",270,115,45,20,45,25,20,1,false],[39,45,40,\"Wigglytuff\",\"Normal\",\"Fairy\",435,140,70,45,85,50,45,1,false],[51,57,52,\"Meowth\",\"Normal\",\"None\",290,40,45,35,40,40,90,1,false],[52,58,53,\"Persian\",\"Normal\",\"None\",440,65,70,60,65,65,115,1,false],[82,90,83,\"Farfetch'd\",\"Normal\",\"Flying\",352,52,65,55,58,62,60,1,false],[83,91,84,\"Doduo\",\"Normal\",\"Flying\",310,35,85,45,35,35,75,1,false],[84,92,85,\"Dodrio\",\"Normal\",\"Flying\",460,60,110,70,60,60,100,1,false],[107,116,108,\"Lickitung\",\"Normal\",\"None\",385,90,55,75,60,75,30,1,false],[112,121,113,\"Chansey\",\"Normal\",\"None\",450,250,5,5,35,105,50,1,false],[114,123,115,\"Kangaskhan\",\"Normal\",\"None\",490,105,95,80,40,80,90,1,false],[127,138,128,\"Tauros\",\"Normal\",\"None\",490,75,100,95,40,70,110,1,false],[131,143,132,\"Ditto\",\"Normal\",\"None\",288,48,48,48,48,48,48,1,false],[132,144,133,\"Eevee\",\"Normal\",\"None\",325,55,55,50,45,65,55,1,false],[136,148,137,\"Porygon\",\"Normal\",\"None\",395,65,60,70,85,75,40,1,false],[142,155,143,\"Snorlax\",\"Normal\",\"None\",540,160,110,65,65,110,30,1,false]],\"hovertemplate\":\"<b>%{hovertext}</b><br><br>Type 1=%{customdata[4]}<br>t-SNE dimension 1=%{x}<br>t-SNE dimension 2=%{y}<br>level_0=%{customdata[0]}<br>index=%{customdata[1]}<br>#=%{customdata[2]}<br>Name=%{customdata[3]}<br>Type 2=%{customdata[5]}<br>Total=%{customdata[6]}<br>HP=%{customdata[7]}<br>Attack=%{customdata[8]}<br>Defense=%{customdata[9]}<br>Sp. Atk=%{customdata[10]}<br>Sp. Def=%{customdata[11]}<br>Speed=%{customdata[12]}<br>Generation=%{customdata[13]}<br>Legendary=%{customdata[14]}<extra></extra>\",\"hovertext\":[\"Pidgey\",\"Pidgeotto\",\"Pidgeot\",\"Rattata\",\"Raticate\",\"Spearow\",\"Fearow\",\"Jigglypuff\",\"Wigglytuff\",\"Meowth\",\"Persian\",\"Farfetch'd\",\"Doduo\",\"Dodrio\",\"Lickitung\",\"Chansey\",\"Kangaskhan\",\"Tauros\",\"Ditto\",\"Eevee\",\"Porygon\",\"Snorlax\"],\"legendgroup\":\"Normal\",\"marker\":{\"color\":\"#FFA15A\",\"symbol\":\"circle\"},\"mode\":\"markers\",\"name\":\"Normal\",\"orientation\":\"v\",\"showlegend\":true,\"x\":[0.6309354305267334,1.1521269083023071,1.9894741773605347,-1.6037445068359375,-2.62900972366333,0.8289931416511536,1.8728082180023193,-1.4485105276107788,-1.4668877124786377,-1.7767791748046875,-2.5381150245666504,1.1952998638153076,1.2412408590316772,2.026059150695801,-2.7759130001068115,-3.4645912647247314,-3.2679481506347656,-3.0994627475738525,-1.938154697418213,-2.2726869583129883,-2.7832415103912354,-3.7372024059295654],\"xaxis\":\"x\",\"y\":[-7.173145294189453,-6.92950963973999,-6.816481590270996,-3.404195547103882,-3.0131208896636963,-7.526260852813721,-7.113518714904785,-6.686080455780029,-6.67164945602417,-3.1449413299560547,-2.732774019241333,-6.734018802642822,-7.625522136688232,-7.343883991241455,-4.098404884338379,-4.787238121032715,-3.139094352722168,-2.7023696899414062,-3.8777928352355957,-3.717026710510254,-3.9126269817352295,-3.8464770317077637],\"yaxis\":\"y\",\"type\":\"scatter\"},{\"customdata\":[[22,28,23,\"Ekans\",\"Poison\",\"None\",288,35,60,44,40,54,55,1,false],[23,29,24,\"Arbok\",\"Poison\",\"None\",438,60,85,69,65,79,80,1,false],[28,34,29,\"Nidoran\\u2640\",\"Poison\",\"None\",275,55,47,52,40,40,41,1,false],[29,35,30,\"Nidorina\",\"Poison\",\"None\",365,70,62,67,55,55,56,1,false],[30,36,31,\"Nidoqueen\",\"Poison\",\"Ground\",505,90,92,87,75,85,76,1,false],[31,37,32,\"Nidoran\\u2642\",\"Poison\",\"None\",273,46,57,40,40,40,50,1,false],[32,38,33,\"Nidorino\",\"Poison\",\"None\",365,61,72,57,55,55,65,1,false],[33,39,34,\"Nidoking\",\"Poison\",\"Ground\",505,81,102,77,85,75,85,1,false],[40,46,41,\"Zubat\",\"Poison\",\"Flying\",245,40,45,35,30,40,55,1,false],[41,47,42,\"Golbat\",\"Poison\",\"Flying\",455,75,80,70,65,75,90,1,false],[87,95,88,\"Grimer\",\"Poison\",\"None\",325,80,80,50,40,50,25,1,false],[88,96,89,\"Muk\",\"Poison\",\"None\",500,105,105,75,65,100,50,1,false],[108,117,109,\"Koffing\",\"Poison\",\"None\",340,40,65,95,60,45,35,1,false],[109,118,110,\"Weezing\",\"Poison\",\"None\",490,65,90,120,85,70,60,1,false]],\"hovertemplate\":\"<b>%{hovertext}</b><br><br>Type 1=%{customdata[4]}<br>t-SNE dimension 1=%{x}<br>t-SNE dimension 2=%{y}<br>level_0=%{customdata[0]}<br>index=%{customdata[1]}<br>#=%{customdata[2]}<br>Name=%{customdata[3]}<br>Type 2=%{customdata[5]}<br>Total=%{customdata[6]}<br>HP=%{customdata[7]}<br>Attack=%{customdata[8]}<br>Defense=%{customdata[9]}<br>Sp. Atk=%{customdata[10]}<br>Sp. Def=%{customdata[11]}<br>Speed=%{customdata[12]}<br>Generation=%{customdata[13]}<br>Legendary=%{customdata[14]}<extra></extra>\",\"hovertext\":[\"Ekans\",\"Arbok\",\"Nidoran\\u2640\",\"Nidorina\",\"Nidoqueen\",\"Nidoran\\u2642\",\"Nidorino\",\"Nidoking\",\"Zubat\",\"Golbat\",\"Grimer\",\"Muk\",\"Koffing\",\"Weezing\"],\"legendgroup\":\"Poison\",\"marker\":{\"color\":\"#19d3f3\",\"symbol\":\"circle\"},\"mode\":\"markers\",\"name\":\"Poison\",\"orientation\":\"v\",\"showlegend\":true,\"x\":[-6.3920464515686035,-7.262239456176758,-6.691610813140869,-7.15151309967041,-7.65940523147583,-6.3917670249938965,-6.887848377227783,-7.661901950836182,1.8802919387817383,2.132871627807617,-6.4380645751953125,-7.679202556610107,-7.2912917137146,-7.822657585144043],\"xaxis\":\"x\",\"y\":[-1.3324693441390991,-2.127969741821289,-0.8037798404693604,-1.3514430522918701,-5.261404991149902,-1.0235154628753662,-1.7340757846832275,-5.26013708114624,-4.850299835205078,-4.935186862945557,-1.783765196800232,-2.3081085681915283,-1.0042953491210938,-1.7708956003189087],\"yaxis\":\"y\",\"type\":\"scatter\"},{\"customdata\":[[24,30,25,\"Pikachu\",\"Electric\",\"None\",320,35,55,40,50,50,90,1,false],[25,31,26,\"Raichu\",\"Electric\",\"None\",485,60,90,55,90,80,110,1,false],[80,88,81,\"Magnemite\",\"Electric\",\"Steel\",325,25,35,70,95,55,45,1,false],[81,89,82,\"Magneton\",\"Electric\",\"Steel\",465,50,60,95,120,70,70,1,false],[99,108,100,\"Voltorb\",\"Electric\",\"None\",330,40,30,50,55,55,100,1,false],[100,109,101,\"Electrode\",\"Electric\",\"None\",480,60,50,70,80,80,140,1,false],[124,134,125,\"Electabuzz\",\"Electric\",\"None\",490,65,83,57,95,85,105,1,false],[134,146,135,\"Jolteon\",\"Electric\",\"None\",525,65,65,60,110,95,130,1,false],[144,157,145,\"Zapdos\",\"Electric\",\"Flying\",580,90,90,85,125,90,100,1,true]],\"hovertemplate\":\"<b>%{hovertext}</b><br><br>Type 1=%{customdata[4]}<br>t-SNE dimension 1=%{x}<br>t-SNE dimension 2=%{y}<br>level_0=%{customdata[0]}<br>index=%{customdata[1]}<br>#=%{customdata[2]}<br>Name=%{customdata[3]}<br>Type 2=%{customdata[5]}<br>Total=%{customdata[6]}<br>HP=%{customdata[7]}<br>Attack=%{customdata[8]}<br>Defense=%{customdata[9]}<br>Sp. Atk=%{customdata[10]}<br>Sp. Def=%{customdata[11]}<br>Speed=%{customdata[12]}<br>Generation=%{customdata[13]}<br>Legendary=%{customdata[14]}<extra></extra>\",\"hovertext\":[\"Pikachu\",\"Raichu\",\"Magnemite\",\"Magneton\",\"Voltorb\",\"Electrode\",\"Electabuzz\",\"Jolteon\",\"Zapdos\"],\"legendgroup\":\"Electric\",\"marker\":{\"color\":\"#FF6692\",\"symbol\":\"circle\"},\"mode\":\"markers\",\"name\":\"Electric\",\"orientation\":\"v\",\"showlegend\":true,\"x\":[-1.2691164016723633,-1.8804341554641724,1.0172042846679688,1.0065956115722656,-1.2213075160980225,-1.5004626512527466,-1.8779579401016235,-1.8153966665267944,5.206244945526123],\"xaxis\":\"x\",\"y\":[7.07417106628418,7.549504280090332,8.63024616241455,8.629434585571289,7.142775535583496,7.789402484893799,7.587588787078857,7.926758766174316,-7.931609153747559],\"yaxis\":\"y\",\"type\":\"scatter\"},{\"customdata\":[[26,32,27,\"Sandshrew\",\"Ground\",\"None\",300,50,75,85,20,30,40,1,false],[27,33,28,\"Sandslash\",\"Ground\",\"None\",450,75,100,110,45,55,65,1,false],[49,55,50,\"Diglett\",\"Ground\",\"None\",265,10,55,25,35,45,95,1,false],[50,56,51,\"Dugtrio\",\"Ground\",\"None\",405,35,80,50,50,70,120,1,false],[103,112,104,\"Cubone\",\"Ground\",\"None\",320,50,50,95,40,50,35,1,false],[104,113,105,\"Marowak\",\"Ground\",\"None\",425,60,80,110,50,80,45,1,false],[110,119,111,\"Rhyhorn\",\"Ground\",\"Rock\",345,80,85,95,30,30,25,1,false],[111,120,112,\"Rhydon\",\"Ground\",\"Rock\",485,105,130,120,45,45,40,1,false]],\"hovertemplate\":\"<b>%{hovertext}</b><br><br>Type 1=%{customdata[4]}<br>t-SNE dimension 1=%{x}<br>t-SNE dimension 2=%{y}<br>level_0=%{customdata[0]}<br>index=%{customdata[1]}<br>#=%{customdata[2]}<br>Name=%{customdata[3]}<br>Type 2=%{customdata[5]}<br>Total=%{customdata[6]}<br>HP=%{customdata[7]}<br>Attack=%{customdata[8]}<br>Defense=%{customdata[9]}<br>Sp. Atk=%{customdata[10]}<br>Sp. Def=%{customdata[11]}<br>Speed=%{customdata[12]}<br>Generation=%{customdata[13]}<br>Legendary=%{customdata[14]}<extra></extra>\",\"hovertext\":[\"Sandshrew\",\"Sandslash\",\"Diglett\",\"Dugtrio\",\"Cubone\",\"Marowak\",\"Rhyhorn\",\"Rhydon\"],\"legendgroup\":\"Ground\",\"marker\":{\"color\":\"#B6E880\",\"symbol\":\"circle\"},\"mode\":\"markers\",\"name\":\"Ground\",\"orientation\":\"v\",\"showlegend\":true,\"x\":[-8.821792602539062,-8.507685661315918,-8.178058624267578,-7.995998859405518,-8.790579795837402,-8.5890474319458,-10.612896919250488,-10.621301651000977],\"xaxis\":\"x\",\"y\":[4.512341499328613,4.943828105926514,4.220127105712891,4.4968037605285645,4.562861919403076,4.9524383544921875,6.203160285949707,6.2174530029296875],\"yaxis\":\"y\",\"type\":\"scatter\"},{\"customdata\":[[34,40,35,\"Clefairy\",\"Fairy\",\"None\",323,70,45,48,60,65,35,1,false],[35,41,36,\"Clefable\",\"Fairy\",\"None\",483,95,70,73,95,90,60,1,false]],\"hovertemplate\":\"<b>%{hovertext}</b><br><br>Type 1=%{customdata[4]}<br>t-SNE dimension 1=%{x}<br>t-SNE dimension 2=%{y}<br>level_0=%{customdata[0]}<br>index=%{customdata[1]}<br>#=%{customdata[2]}<br>Name=%{customdata[3]}<br>Type 2=%{customdata[5]}<br>Total=%{customdata[6]}<br>HP=%{customdata[7]}<br>Attack=%{customdata[8]}<br>Defense=%{customdata[9]}<br>Sp. Atk=%{customdata[10]}<br>Sp. Def=%{customdata[11]}<br>Speed=%{customdata[12]}<br>Generation=%{customdata[13]}<br>Legendary=%{customdata[14]}<extra></extra>\",\"hovertext\":[\"Clefairy\",\"Clefable\"],\"legendgroup\":\"Fairy\",\"marker\":{\"color\":\"#FF97FF\",\"symbol\":\"circle\"},\"mode\":\"markers\",\"name\":\"Fairy\",\"orientation\":\"v\",\"showlegend\":true,\"x\":[-6.700742244720459,-6.708493709564209],\"xaxis\":\"x\",\"y\":[1.9495251178741455,1.969264268875122],\"yaxis\":\"y\",\"type\":\"scatter\"},{\"customdata\":[[55,61,56,\"Mankey\",\"Fighting\",\"None\",305,40,80,35,35,45,70,1,false],[56,62,57,\"Primeape\",\"Fighting\",\"None\",455,65,105,60,60,70,95,1,false],[65,72,66,\"Machop\",\"Fighting\",\"None\",305,70,80,50,35,35,35,1,false],[66,73,67,\"Machoke\",\"Fighting\",\"None\",405,80,100,70,50,60,45,1,false],[67,74,68,\"Machamp\",\"Fighting\",\"None\",505,90,130,80,65,85,55,1,false],[105,114,106,\"Hitmonlee\",\"Fighting\",\"None\",455,50,120,53,35,110,87,1,false],[106,115,107,\"Hitmonchan\",\"Fighting\",\"None\",455,50,105,79,35,110,76,1,false]],\"hovertemplate\":\"<b>%{hovertext}</b><br><br>Type 1=%{customdata[4]}<br>t-SNE dimension 1=%{x}<br>t-SNE dimension 2=%{y}<br>level_0=%{customdata[0]}<br>index=%{customdata[1]}<br>#=%{customdata[2]}<br>Name=%{customdata[3]}<br>Type 2=%{customdata[5]}<br>Total=%{customdata[6]}<br>HP=%{customdata[7]}<br>Attack=%{customdata[8]}<br>Defense=%{customdata[9]}<br>Sp. Atk=%{customdata[10]}<br>Sp. Def=%{customdata[11]}<br>Speed=%{customdata[12]}<br>Generation=%{customdata[13]}<br>Legendary=%{customdata[14]}<extra></extra>\",\"hovertext\":[\"Mankey\",\"Primeape\",\"Machop\",\"Machoke\",\"Machamp\",\"Hitmonlee\",\"Hitmonchan\"],\"legendgroup\":\"Fighting\",\"marker\":{\"color\":\"#FECB52\",\"symbol\":\"circle\"},\"mode\":\"markers\",\"name\":\"Fighting\",\"orientation\":\"v\",\"showlegend\":true,\"x\":[-6.283779144287109,-5.827238082885742,-6.549496650695801,-6.401397228240967,-6.2985100746154785,-5.773821830749512,-5.8437910079956055],\"xaxis\":\"x\",\"y\":[7.3523454666137695,7.842350959777832,7.348329544067383,7.773645877838135,8.328368186950684,8.382163047790527,8.362256050109863],\"yaxis\":\"y\",\"type\":\"scatter\"},{\"customdata\":[[62,68,63,\"Abra\",\"Psychic\",\"None\",310,25,20,15,105,55,90,1,false],[63,69,64,\"Kadabra\",\"Psychic\",\"None\",400,40,35,30,120,70,105,1,false],[64,70,65,\"Alakazam\",\"Psychic\",\"None\",500,55,50,45,135,95,120,1,false],[95,104,96,\"Drowzee\",\"Psychic\",\"None\",328,60,48,45,43,90,42,1,false],[96,105,97,\"Hypno\",\"Psychic\",\"None\",483,85,73,70,73,115,67,1,false],[121,131,122,\"Mr. Mime\",\"Psychic\",\"Fairy\",460,40,45,65,100,120,90,1,false],[149,162,150,\"Mewtwo\",\"Psychic\",\"None\",680,106,110,90,154,90,130,1,true],[150,165,151,\"Mew\",\"Psychic\",\"None\",600,100,100,100,100,100,100,1,false]],\"hovertemplate\":\"<b>%{hovertext}</b><br><br>Type 1=%{customdata[4]}<br>t-SNE dimension 1=%{x}<br>t-SNE dimension 2=%{y}<br>level_0=%{customdata[0]}<br>index=%{customdata[1]}<br>#=%{customdata[2]}<br>Name=%{customdata[3]}<br>Type 2=%{customdata[5]}<br>Total=%{customdata[6]}<br>HP=%{customdata[7]}<br>Attack=%{customdata[8]}<br>Defense=%{customdata[9]}<br>Sp. Atk=%{customdata[10]}<br>Sp. Def=%{customdata[11]}<br>Speed=%{customdata[12]}<br>Generation=%{customdata[13]}<br>Legendary=%{customdata[14]}<extra></extra>\",\"hovertext\":[\"Abra\",\"Kadabra\",\"Alakazam\",\"Drowzee\",\"Hypno\",\"Mr. Mime\",\"Mewtwo\",\"Mew\"],\"legendgroup\":\"Psychic\",\"marker\":{\"color\":\"#636efa\",\"symbol\":\"circle\"},\"mode\":\"markers\",\"name\":\"Psychic\",\"orientation\":\"v\",\"showlegend\":true,\"x\":[-10.256986618041992,-10.555602073669434,-11.008214950561523,-10.390015602111816,-10.965696334838867,-11.636857032775879,-12.036945343017578,-11.430074691772461],\"xaxis\":\"x\",\"y\":[1.2887557744979858,1.3289717435836792,1.3526793718338013,0.6660450100898743,0.7807227969169617,-0.11870008707046509,1.7513532638549805,1.1449525356292725],\"yaxis\":\"y\",\"type\":\"scatter\"},{\"customdata\":[[73,80,74,\"Geodude\",\"Rock\",\"Ground\",300,40,80,100,30,30,20,1,false],[74,81,75,\"Graveler\",\"Rock\",\"Ground\",390,55,95,115,45,45,35,1,false],[75,82,76,\"Golem\",\"Rock\",\"Ground\",495,80,120,130,55,65,45,1,false],[94,103,95,\"Onix\",\"Rock\",\"Ground\",385,35,45,160,30,45,70,1,false],[137,149,138,\"Omanyte\",\"Rock\",\"Water\",355,35,40,100,90,55,35,1,false],[138,150,139,\"Omastar\",\"Rock\",\"Water\",495,70,60,125,115,70,55,1,false],[139,151,140,\"Kabuto\",\"Rock\",\"Water\",355,30,80,90,55,45,55,1,false],[140,152,141,\"Kabutops\",\"Rock\",\"Water\",495,60,115,105,65,70,80,1,false],[141,153,142,\"Aerodactyl\",\"Rock\",\"Flying\",515,80,105,65,60,75,130,1,false]],\"hovertemplate\":\"<b>%{hovertext}</b><br><br>Type 1=%{customdata[4]}<br>t-SNE dimension 1=%{x}<br>t-SNE dimension 2=%{y}<br>level_0=%{customdata[0]}<br>index=%{customdata[1]}<br>#=%{customdata[2]}<br>Name=%{customdata[3]}<br>Type 2=%{customdata[5]}<br>Total=%{customdata[6]}<br>HP=%{customdata[7]}<br>Attack=%{customdata[8]}<br>Defense=%{customdata[9]}<br>Sp. Atk=%{customdata[10]}<br>Sp. Def=%{customdata[11]}<br>Speed=%{customdata[12]}<br>Generation=%{customdata[13]}<br>Legendary=%{customdata[14]}<extra></extra>\",\"hovertext\":[\"Geodude\",\"Graveler\",\"Golem\",\"Onix\",\"Omanyte\",\"Omastar\",\"Kabuto\",\"Kabutops\",\"Aerodactyl\"],\"legendgroup\":\"Rock\",\"marker\":{\"color\":\"#EF553B\",\"symbol\":\"circle\"},\"mode\":\"markers\",\"name\":\"Rock\",\"orientation\":\"v\",\"showlegend\":true,\"x\":[-7.038389682769775,-6.976135730743408,-6.9369215965271,-7.068241119384766,-5.239394187927246,-5.161862850189209,-5.226126670837402,-5.107755184173584,3.248147487640381],\"xaxis\":\"x\",\"y\":[-8.287483215332031,-8.221010208129883,-8.105046272277832,-8.34922981262207,-9.725212097167969,-9.732190132141113,-9.606818199157715,-9.585237503051758,-6.419066429138184],\"yaxis\":\"y\",\"type\":\"scatter\"},{\"customdata\":[[91,99,92,\"Gastly\",\"Ghost\",\"Poison\",310,30,35,30,100,35,80,1,false],[92,100,93,\"Haunter\",\"Ghost\",\"Poison\",405,45,50,45,115,55,95,1,false],[93,101,94,\"Gengar\",\"Ghost\",\"Poison\",500,60,65,60,130,75,110,1,false]],\"hovertemplate\":\"<b>%{hovertext}</b><br><br>Type 1=%{customdata[4]}<br>t-SNE dimension 1=%{x}<br>t-SNE dimension 2=%{y}<br>level_0=%{customdata[0]}<br>index=%{customdata[1]}<br>#=%{customdata[2]}<br>Name=%{customdata[3]}<br>Type 2=%{customdata[5]}<br>Total=%{customdata[6]}<br>HP=%{customdata[7]}<br>Attack=%{customdata[8]}<br>Defense=%{customdata[9]}<br>Sp. Atk=%{customdata[10]}<br>Sp. Def=%{customdata[11]}<br>Speed=%{customdata[12]}<br>Generation=%{customdata[13]}<br>Legendary=%{customdata[14]}<extra></extra>\",\"hovertext\":[\"Gastly\",\"Haunter\",\"Gengar\"],\"legendgroup\":\"Ghost\",\"marker\":{\"color\":\"#00cc96\",\"symbol\":\"circle\"},\"mode\":\"markers\",\"name\":\"Ghost\",\"orientation\":\"v\",\"showlegend\":true,\"x\":[11.565092086791992,11.59367561340332,11.634655952453613],\"xaxis\":\"x\",\"y\":[-1.6649106740951538,-1.6329210996627808,-1.6187214851379395],\"yaxis\":\"y\",\"type\":\"scatter\"},{\"customdata\":[[123,133,124,\"Jynx\",\"Ice\",\"Psychic\",455,65,50,35,115,95,95,1,false],[143,156,144,\"Articuno\",\"Ice\",\"Flying\",580,90,85,100,95,125,85,1,true]],\"hovertemplate\":\"<b>%{hovertext}</b><br><br>Type 1=%{customdata[4]}<br>t-SNE dimension 1=%{x}<br>t-SNE dimension 2=%{y}<br>level_0=%{customdata[0]}<br>index=%{customdata[1]}<br>#=%{customdata[2]}<br>Name=%{customdata[3]}<br>Type 2=%{customdata[5]}<br>Total=%{customdata[6]}<br>HP=%{customdata[7]}<br>Attack=%{customdata[8]}<br>Defense=%{customdata[9]}<br>Sp. Atk=%{customdata[10]}<br>Sp. Def=%{customdata[11]}<br>Speed=%{customdata[12]}<br>Generation=%{customdata[13]}<br>Legendary=%{customdata[14]}<extra></extra>\",\"hovertext\":[\"Jynx\",\"Articuno\"],\"legendgroup\":\"Ice\",\"marker\":{\"color\":\"#ab63fa\",\"symbol\":\"circle\"},\"mode\":\"markers\",\"name\":\"Ice\",\"orientation\":\"v\",\"showlegend\":true,\"x\":[6.537182807922363,5.314170837402344],\"xaxis\":\"x\",\"y\":[2.48197340965271,-7.850609302520752],\"yaxis\":\"y\",\"type\":\"scatter\"},{\"customdata\":[[146,159,147,\"Dratini\",\"Dragon\",\"None\",300,41,64,45,50,50,50,1,false],[147,160,148,\"Dragonair\",\"Dragon\",\"None\",420,61,84,65,70,70,70,1,false],[148,161,149,\"Dragonite\",\"Dragon\",\"Flying\",600,91,134,95,100,100,80,1,false]],\"hovertemplate\":\"<b>%{hovertext}</b><br><br>Type 1=%{customdata[4]}<br>t-SNE dimension 1=%{x}<br>t-SNE dimension 2=%{y}<br>level_0=%{customdata[0]}<br>index=%{customdata[1]}<br>#=%{customdata[2]}<br>Name=%{customdata[3]}<br>Type 2=%{customdata[5]}<br>Total=%{customdata[6]}<br>HP=%{customdata[7]}<br>Attack=%{customdata[8]}<br>Defense=%{customdata[9]}<br>Sp. Atk=%{customdata[10]}<br>Sp. Def=%{customdata[11]}<br>Speed=%{customdata[12]}<br>Generation=%{customdata[13]}<br>Legendary=%{customdata[14]}<extra></extra>\",\"hovertext\":[\"Dratini\",\"Dragonair\",\"Dragonite\"],\"legendgroup\":\"Dragon\",\"marker\":{\"color\":\"#FFA15A\",\"symbol\":\"circle\"},\"mode\":\"markers\",\"name\":\"Dragon\",\"orientation\":\"v\",\"showlegend\":true,\"x\":[-4.592924118041992,-4.588672637939453,3.737093687057495],\"xaxis\":\"x\",\"y\":[0.815016508102417,0.8243056535720825,-5.66710901260376],\"yaxis\":\"y\",\"type\":\"scatter\"}],                        {\"template\":{\"data\":{\"histogram2dcontour\":[{\"type\":\"histogram2dcontour\",\"colorbar\":{\"outlinewidth\":0,\"ticks\":\"\"},\"colorscale\":[[0.0,\"#0d0887\"],[0.1111111111111111,\"#46039f\"],[0.2222222222222222,\"#7201a8\"],[0.3333333333333333,\"#9c179e\"],[0.4444444444444444,\"#bd3786\"],[0.5555555555555556,\"#d8576b\"],[0.6666666666666666,\"#ed7953\"],[0.7777777777777778,\"#fb9f3a\"],[0.8888888888888888,\"#fdca26\"],[1.0,\"#f0f921\"]]}],\"choropleth\":[{\"type\":\"choropleth\",\"colorbar\":{\"outlinewidth\":0,\"ticks\":\"\"}}],\"histogram2d\":[{\"type\":\"histogram2d\",\"colorbar\":{\"outlinewidth\":0,\"ticks\":\"\"},\"colorscale\":[[0.0,\"#0d0887\"],[0.1111111111111111,\"#46039f\"],[0.2222222222222222,\"#7201a8\"],[0.3333333333333333,\"#9c179e\"],[0.4444444444444444,\"#bd3786\"],[0.5555555555555556,\"#d8576b\"],[0.6666666666666666,\"#ed7953\"],[0.7777777777777778,\"#fb9f3a\"],[0.8888888888888888,\"#fdca26\"],[1.0,\"#f0f921\"]]}],\"heatmap\":[{\"type\":\"heatmap\",\"colorbar\":{\"outlinewidth\":0,\"ticks\":\"\"},\"colorscale\":[[0.0,\"#0d0887\"],[0.1111111111111111,\"#46039f\"],[0.2222222222222222,\"#7201a8\"],[0.3333333333333333,\"#9c179e\"],[0.4444444444444444,\"#bd3786\"],[0.5555555555555556,\"#d8576b\"],[0.6666666666666666,\"#ed7953\"],[0.7777777777777778,\"#fb9f3a\"],[0.8888888888888888,\"#fdca26\"],[1.0,\"#f0f921\"]]}],\"heatmapgl\":[{\"type\":\"heatmapgl\",\"colorbar\":{\"outlinewidth\":0,\"ticks\":\"\"},\"colorscale\":[[0.0,\"#0d0887\"],[0.1111111111111111,\"#46039f\"],[0.2222222222222222,\"#7201a8\"],[0.3333333333333333,\"#9c179e\"],[0.4444444444444444,\"#bd3786\"],[0.5555555555555556,\"#d8576b\"],[0.6666666666666666,\"#ed7953\"],[0.7777777777777778,\"#fb9f3a\"],[0.8888888888888888,\"#fdca26\"],[1.0,\"#f0f921\"]]}],\"contourcarpet\":[{\"type\":\"contourcarpet\",\"colorbar\":{\"outlinewidth\":0,\"ticks\":\"\"}}],\"contour\":[{\"type\":\"contour\",\"colorbar\":{\"outlinewidth\":0,\"ticks\":\"\"},\"colorscale\":[[0.0,\"#0d0887\"],[0.1111111111111111,\"#46039f\"],[0.2222222222222222,\"#7201a8\"],[0.3333333333333333,\"#9c179e\"],[0.4444444444444444,\"#bd3786\"],[0.5555555555555556,\"#d8576b\"],[0.6666666666666666,\"#ed7953\"],[0.7777777777777778,\"#fb9f3a\"],[0.8888888888888888,\"#fdca26\"],[1.0,\"#f0f921\"]]}],\"surface\":[{\"type\":\"surface\",\"colorbar\":{\"outlinewidth\":0,\"ticks\":\"\"},\"colorscale\":[[0.0,\"#0d0887\"],[0.1111111111111111,\"#46039f\"],[0.2222222222222222,\"#7201a8\"],[0.3333333333333333,\"#9c179e\"],[0.4444444444444444,\"#bd3786\"],[0.5555555555555556,\"#d8576b\"],[0.6666666666666666,\"#ed7953\"],[0.7777777777777778,\"#fb9f3a\"],[0.8888888888888888,\"#fdca26\"],[1.0,\"#f0f921\"]]}],\"mesh3d\":[{\"type\":\"mesh3d\",\"colorbar\":{\"outlinewidth\":0,\"ticks\":\"\"}}],\"scatter\":[{\"fillpattern\":{\"fillmode\":\"overlay\",\"size\":10,\"solidity\":0.2},\"type\":\"scatter\"}],\"parcoords\":[{\"type\":\"parcoords\",\"line\":{\"colorbar\":{\"outlinewidth\":0,\"ticks\":\"\"}}}],\"scatterpolargl\":[{\"type\":\"scatterpolargl\",\"marker\":{\"colorbar\":{\"outlinewidth\":0,\"ticks\":\"\"}}}],\"bar\":[{\"error_x\":{\"color\":\"#2a3f5f\"},\"error_y\":{\"color\":\"#2a3f5f\"},\"marker\":{\"line\":{\"color\":\"#E5ECF6\",\"width\":0.5},\"pattern\":{\"fillmode\":\"overlay\",\"size\":10,\"solidity\":0.2}},\"type\":\"bar\"}],\"scattergeo\":[{\"type\":\"scattergeo\",\"marker\":{\"colorbar\":{\"outlinewidth\":0,\"ticks\":\"\"}}}],\"scatterpolar\":[{\"type\":\"scatterpolar\",\"marker\":{\"colorbar\":{\"outlinewidth\":0,\"ticks\":\"\"}}}],\"histogram\":[{\"marker\":{\"pattern\":{\"fillmode\":\"overlay\",\"size\":10,\"solidity\":0.2}},\"type\":\"histogram\"}],\"scattergl\":[{\"type\":\"scattergl\",\"marker\":{\"colorbar\":{\"outlinewidth\":0,\"ticks\":\"\"}}}],\"scatter3d\":[{\"type\":\"scatter3d\",\"line\":{\"colorbar\":{\"outlinewidth\":0,\"ticks\":\"\"}},\"marker\":{\"colorbar\":{\"outlinewidth\":0,\"ticks\":\"\"}}}],\"scattermapbox\":[{\"type\":\"scattermapbox\",\"marker\":{\"colorbar\":{\"outlinewidth\":0,\"ticks\":\"\"}}}],\"scatterternary\":[{\"type\":\"scatterternary\",\"marker\":{\"colorbar\":{\"outlinewidth\":0,\"ticks\":\"\"}}}],\"scattercarpet\":[{\"type\":\"scattercarpet\",\"marker\":{\"colorbar\":{\"outlinewidth\":0,\"ticks\":\"\"}}}],\"carpet\":[{\"aaxis\":{\"endlinecolor\":\"#2a3f5f\",\"gridcolor\":\"white\",\"linecolor\":\"white\",\"minorgridcolor\":\"white\",\"startlinecolor\":\"#2a3f5f\"},\"baxis\":{\"endlinecolor\":\"#2a3f5f\",\"gridcolor\":\"white\",\"linecolor\":\"white\",\"minorgridcolor\":\"white\",\"startlinecolor\":\"#2a3f5f\"},\"type\":\"carpet\"}],\"table\":[{\"cells\":{\"fill\":{\"color\":\"#EBF0F8\"},\"line\":{\"color\":\"white\"}},\"header\":{\"fill\":{\"color\":\"#C8D4E3\"},\"line\":{\"color\":\"white\"}},\"type\":\"table\"}],\"barpolar\":[{\"marker\":{\"line\":{\"color\":\"#E5ECF6\",\"width\":0.5},\"pattern\":{\"fillmode\":\"overlay\",\"size\":10,\"solidity\":0.2}},\"type\":\"barpolar\"}],\"pie\":[{\"automargin\":true,\"type\":\"pie\"}]},\"layout\":{\"autotypenumbers\":\"strict\",\"colorway\":[\"#636efa\",\"#EF553B\",\"#00cc96\",\"#ab63fa\",\"#FFA15A\",\"#19d3f3\",\"#FF6692\",\"#B6E880\",\"#FF97FF\",\"#FECB52\"],\"font\":{\"color\":\"#2a3f5f\"},\"hovermode\":\"closest\",\"hoverlabel\":{\"align\":\"left\"},\"paper_bgcolor\":\"white\",\"plot_bgcolor\":\"#E5ECF6\",\"polar\":{\"bgcolor\":\"#E5ECF6\",\"angularaxis\":{\"gridcolor\":\"white\",\"linecolor\":\"white\",\"ticks\":\"\"},\"radialaxis\":{\"gridcolor\":\"white\",\"linecolor\":\"white\",\"ticks\":\"\"}},\"ternary\":{\"bgcolor\":\"#E5ECF6\",\"aaxis\":{\"gridcolor\":\"white\",\"linecolor\":\"white\",\"ticks\":\"\"},\"baxis\":{\"gridcolor\":\"white\",\"linecolor\":\"white\",\"ticks\":\"\"},\"caxis\":{\"gridcolor\":\"white\",\"linecolor\":\"white\",\"ticks\":\"\"}},\"coloraxis\":{\"colorbar\":{\"outlinewidth\":0,\"ticks\":\"\"}},\"colorscale\":{\"sequential\":[[0.0,\"#0d0887\"],[0.1111111111111111,\"#46039f\"],[0.2222222222222222,\"#7201a8\"],[0.3333333333333333,\"#9c179e\"],[0.4444444444444444,\"#bd3786\"],[0.5555555555555556,\"#d8576b\"],[0.6666666666666666,\"#ed7953\"],[0.7777777777777778,\"#fb9f3a\"],[0.8888888888888888,\"#fdca26\"],[1.0,\"#f0f921\"]],\"sequentialminus\":[[0.0,\"#0d0887\"],[0.1111111111111111,\"#46039f\"],[0.2222222222222222,\"#7201a8\"],[0.3333333333333333,\"#9c179e\"],[0.4444444444444444,\"#bd3786\"],[0.5555555555555556,\"#d8576b\"],[0.6666666666666666,\"#ed7953\"],[0.7777777777777778,\"#fb9f3a\"],[0.8888888888888888,\"#fdca26\"],[1.0,\"#f0f921\"]],\"diverging\":[[0,\"#8e0152\"],[0.1,\"#c51b7d\"],[0.2,\"#de77ae\"],[0.3,\"#f1b6da\"],[0.4,\"#fde0ef\"],[0.5,\"#f7f7f7\"],[0.6,\"#e6f5d0\"],[0.7,\"#b8e186\"],[0.8,\"#7fbc41\"],[0.9,\"#4d9221\"],[1,\"#276419\"]]},\"xaxis\":{\"gridcolor\":\"white\",\"linecolor\":\"white\",\"ticks\":\"\",\"title\":{\"standoff\":15},\"zerolinecolor\":\"white\",\"automargin\":true,\"zerolinewidth\":2},\"yaxis\":{\"gridcolor\":\"white\",\"linecolor\":\"white\",\"ticks\":\"\",\"title\":{\"standoff\":15},\"zerolinecolor\":\"white\",\"automargin\":true,\"zerolinewidth\":2},\"scene\":{\"xaxis\":{\"backgroundcolor\":\"#E5ECF6\",\"gridcolor\":\"white\",\"linecolor\":\"white\",\"showbackground\":true,\"ticks\":\"\",\"zerolinecolor\":\"white\",\"gridwidth\":2},\"yaxis\":{\"backgroundcolor\":\"#E5ECF6\",\"gridcolor\":\"white\",\"linecolor\":\"white\",\"showbackground\":true,\"ticks\":\"\",\"zerolinecolor\":\"white\",\"gridwidth\":2},\"zaxis\":{\"backgroundcolor\":\"#E5ECF6\",\"gridcolor\":\"white\",\"linecolor\":\"white\",\"showbackground\":true,\"ticks\":\"\",\"zerolinecolor\":\"white\",\"gridwidth\":2}},\"shapedefaults\":{\"line\":{\"color\":\"#2a3f5f\"}},\"annotationdefaults\":{\"arrowcolor\":\"#2a3f5f\",\"arrowhead\":0,\"arrowwidth\":1},\"geo\":{\"bgcolor\":\"white\",\"landcolor\":\"#E5ECF6\",\"subunitcolor\":\"white\",\"showland\":true,\"showlakes\":true,\"lakecolor\":\"white\"},\"title\":{\"x\":0.05},\"mapbox\":{\"style\":\"light\"}}},\"xaxis\":{\"anchor\":\"y\",\"domain\":[0.0,1.0],\"title\":{\"text\":\"t-SNE dimension 1\"}},\"yaxis\":{\"anchor\":\"x\",\"domain\":[0.0,1.0],\"title\":{\"text\":\"t-SNE dimension 2\"}},\"legend\":{\"title\":{\"text\":\"Type 1\"},\"tracegroupgap\":0},\"margin\":{\"t\":60},\"title\":{\"font\":{\"size\":22},\"text\":\"Visualizaci\\u00f3n de Pokemon usando t-SNE <br> Coloreados por tipo principal\",\"x\":0.5,\"xref\":\"paper\"}},                        {\"responsive\": true}                    ).then(function(){\n",
       "                            \n",
       "var gd = document.getElementById('bbe98553-7172-4f56-ab98-2853252a80e0');\n",
       "var x = new MutationObserver(function (mutations, observer) {{\n",
       "        var display = window.getComputedStyle(gd).display;\n",
       "        if (!display || display === 'none') {{\n",
       "            console.log([gd, 'removed!']);\n",
       "            Plotly.purge(gd);\n",
       "            observer.disconnect();\n",
       "        }}\n",
       "}});\n",
       "\n",
       "// Listen for the removal of the full notebook cells\n",
       "var notebookContainer = gd.closest('#notebook-container');\n",
       "if (notebookContainer) {{\n",
       "    x.observe(notebookContainer, {childList: true});\n",
       "}}\n",
       "\n",
       "// Listen for the clearing of the current output cell\n",
       "var outputEl = gd.closest('.output');\n",
       "if (outputEl) {{\n",
       "    x.observe(outputEl, {childList: true});\n",
       "}}\n",
       "\n",
       "                        })                };                });            </script>        </div>"
      ]
     },
     "metadata": {},
     "output_type": "display_data"
    }
   ],
   "source": [
    "df_tsne = pd.DataFrame(primera_gen_2d, columns = [\"t-SNE dimension 1\", \"t-SNE dimension 2\"])\n",
    "\n",
    "primera_gen_inicial.reset_index(drop=True, inplace=True)# Para que calcen las filas de t-SNE con las de primera_gen_inicial\n",
    "primera_gen_inicial[\"Type 2\"] = primera_gen_inicial[\"Type 2\"].fillna(\"None\")\n",
    "df = pd.concat([primera_gen_inicial, df_tsne], axis=1)# Concatenar columna-wise\n",
    "\n",
    "# hover_data: Atributos que se muestran en lista pop up al colocar cursor sobre datapoint\n",
    "# hover_name: Para el titulo del pop up\n",
    "# color: Columna segun la que se colorea\n",
    "fig = px.scatter(df, \"t-SNE dimension 1\", \"t-SNE dimension 2\", hover_data = primera_gen_inicial.columns, hover_name = \"Name\", color = \"Type 1\")\n",
    "\n",
    "# Para graficar con nombres descomentar linea siguiente\n",
    "#fig = px.scatter(df, \"t-SNE dimension 1\", \"t-SNE dimension 2\", hover_data = primera_gen_inicial.columns, hover_name = \"Name\", text = \"Name\", color = \"Type 1\")\n",
    "\n",
    "# Para colocar titulo centrado\n",
    "fig.update_layout(\n",
    "    title=dict(\n",
    "        text=\"Visualización de Pokemon usando t-SNE <br> Coloreados por tipo principal\",\n",
    "        font=dict(size=22),\n",
    "        x=0.5,\n",
    "        xref=\"paper\"\n",
    "    )\n",
    ")\n",
    "\n",
    "fig.write_image(\"images/by_type.svg\") # Guarda imagen como .svg\n",
    "fig.write_html(\"html/by_type.html\") # Guarda grafico interactivo como .html\n",
    "fig.show()\n"
   ]
  },
  {
   "cell_type": "markdown",
   "id": "5a5aa0bf",
   "metadata": {},
   "source": [
    "# Usando Tipo Secundario para colorear\n",
    "\n",
    "- Idem a gráfico anterior pero coloreando esta vez según **tipo secundario**."
   ]
  },
  {
   "cell_type": "code",
   "execution_count": 70,
   "id": "c61e6dc6",
   "metadata": {},
   "outputs": [
    {
     "data": {
      "application/vnd.plotly.v1+json": {
       "config": {
        "plotlyServerURL": "https://plot.ly"
       },
       "data": [
        {
         "customdata": [
          [
           0,
           0,
           1,
           "Bulbasaur",
           "Grass",
           "Poison",
           318,
           45,
           49,
           49,
           65,
           65,
           45,
           1,
           false
          ],
          [
           1,
           1,
           2,
           "Ivysaur",
           "Grass",
           "Poison",
           405,
           60,
           62,
           63,
           80,
           80,
           60,
           1,
           false
          ],
          [
           2,
           2,
           3,
           "Venusaur",
           "Grass",
           "Poison",
           525,
           80,
           82,
           83,
           100,
           100,
           80,
           1,
           false
          ],
          [
           12,
           16,
           13,
           "Weedle",
           "Bug",
           "Poison",
           195,
           40,
           35,
           30,
           20,
           20,
           50,
           1,
           false
          ],
          [
           13,
           17,
           14,
           "Kakuna",
           "Bug",
           "Poison",
           205,
           45,
           25,
           50,
           25,
           25,
           35,
           1,
           false
          ],
          [
           14,
           18,
           15,
           "Beedrill",
           "Bug",
           "Poison",
           395,
           65,
           90,
           40,
           45,
           80,
           75,
           1,
           false
          ],
          [
           42,
           48,
           43,
           "Oddish",
           "Grass",
           "Poison",
           320,
           45,
           50,
           55,
           75,
           65,
           30,
           1,
           false
          ],
          [
           43,
           49,
           44,
           "Gloom",
           "Grass",
           "Poison",
           395,
           60,
           65,
           70,
           85,
           75,
           40,
           1,
           false
          ],
          [
           44,
           50,
           45,
           "Vileplume",
           "Grass",
           "Poison",
           490,
           75,
           80,
           85,
           110,
           90,
           50,
           1,
           false
          ],
          [
           47,
           53,
           48,
           "Venonat",
           "Bug",
           "Poison",
           305,
           60,
           55,
           50,
           40,
           55,
           45,
           1,
           false
          ],
          [
           48,
           54,
           49,
           "Venomoth",
           "Bug",
           "Poison",
           450,
           70,
           65,
           60,
           90,
           75,
           90,
           1,
           false
          ],
          [
           68,
           75,
           69,
           "Bellsprout",
           "Grass",
           "Poison",
           300,
           50,
           75,
           35,
           70,
           30,
           40,
           1,
           false
          ],
          [
           69,
           76,
           70,
           "Weepinbell",
           "Grass",
           "Poison",
           390,
           65,
           90,
           50,
           85,
           45,
           55,
           1,
           false
          ],
          [
           70,
           77,
           71,
           "Victreebel",
           "Grass",
           "Poison",
           490,
           80,
           105,
           65,
           100,
           70,
           70,
           1,
           false
          ],
          [
           71,
           78,
           72,
           "Tentacool",
           "Water",
           "Poison",
           335,
           40,
           40,
           35,
           50,
           100,
           70,
           1,
           false
          ],
          [
           72,
           79,
           73,
           "Tentacruel",
           "Water",
           "Poison",
           515,
           80,
           70,
           65,
           80,
           120,
           100,
           1,
           false
          ],
          [
           91,
           99,
           92,
           "Gastly",
           "Ghost",
           "Poison",
           310,
           30,
           35,
           30,
           100,
           35,
           80,
           1,
           false
          ],
          [
           92,
           100,
           93,
           "Haunter",
           "Ghost",
           "Poison",
           405,
           45,
           50,
           45,
           115,
           55,
           95,
           1,
           false
          ],
          [
           93,
           101,
           94,
           "Gengar",
           "Ghost",
           "Poison",
           500,
           60,
           65,
           60,
           130,
           75,
           110,
           1,
           false
          ]
         ],
         "hovertemplate": "<b>%{hovertext}</b><br><br>Type 2=%{customdata[5]}<br>t-SNE dimension 1=%{x}<br>t-SNE dimension 2=%{y}<br>Name=%{customdata[3]}<br>level_0=%{customdata[0]}<br>index=%{customdata[1]}<br>#=%{customdata[2]}<br>Type 1=%{customdata[4]}<br>Total=%{customdata[6]}<br>HP=%{customdata[7]}<br>Attack=%{customdata[8]}<br>Defense=%{customdata[9]}<br>Sp. Atk=%{customdata[10]}<br>Sp. Def=%{customdata[11]}<br>Speed=%{customdata[12]}<br>Generation=%{customdata[13]}<br>Legendary=%{customdata[14]}<extra></extra>",
         "hovertext": [
          "Bulbasaur",
          "Ivysaur",
          "Venusaur",
          "Weedle",
          "Kakuna",
          "Beedrill",
          "Oddish",
          "Gloom",
          "Vileplume",
          "Venonat",
          "Venomoth",
          "Bellsprout",
          "Weepinbell",
          "Victreebel",
          "Tentacool",
          "Tentacruel",
          "Gastly",
          "Haunter",
          "Gengar"
         ],
         "legendgroup": "Poison",
         "marker": {
          "color": "#636efa",
          "symbol": "circle"
         },
         "mode": "markers+text",
         "name": "Poison",
         "orientation": "v",
         "showlegend": true,
         "text": [
          "Bulbasaur",
          "Ivysaur",
          "Venusaur",
          "Weedle",
          "Kakuna",
          "Beedrill",
          "Oddish",
          "Gloom",
          "Vileplume",
          "Venonat",
          "Venomoth",
          "Bellsprout",
          "Weepinbell",
          "Victreebel",
          "Tentacool",
          "Tentacruel",
          "Gastly",
          "Haunter",
          "Gengar"
         ],
         "type": "scatter",
         "x": [
          9.89006233215332,
          9.952411651611328,
          10.447258949279785,
          9.132299423217773,
          9.130996704101562,
          8.867867469787598,
          9.66016674041748,
          9.641215324401855,
          10.0548095703125,
          9.039457321166992,
          8.939078330993652,
          10.403642654418945,
          10.591083526611328,
          10.716132164001465,
          6.728630542755127,
          6.6616597175598145,
          11.565092086791992,
          11.59367561340332,
          11.634655952453613
         ],
         "xaxis": "x",
         "y": [
          0.18756330013275146,
          0.8458612561225891,
          1.429657220840454,
          -2.810502767562866,
          -2.8087310791015625,
          -2.0215044021606445,
          0.32538363337516785,
          0.8632476329803467,
          1.3627777099609375,
          -2.387242317199707,
          -1.8904502391815186,
          0.07250721007585526,
          0.4959731101989746,
          1.0051885843276978,
          -0.4393119215965271,
          -0.42916038632392883,
          -1.6649106740951538,
          -1.6329210996627808,
          -1.6187214851379395
         ],
         "yaxis": "y"
        },
        {
         "customdata": [
          [
           3,
           4,
           4,
           "Charmander",
           "Fire",
           "None",
           309,
           39,
           52,
           43,
           60,
           50,
           65,
           1,
           false
          ],
          [
           4,
           5,
           5,
           "Charmeleon",
           "Fire",
           "None",
           405,
           58,
           64,
           58,
           80,
           65,
           80,
           1,
           false
          ],
          [
           6,
           9,
           7,
           "Squirtle",
           "Water",
           "None",
           314,
           44,
           48,
           65,
           50,
           64,
           43,
           1,
           false
          ],
          [
           7,
           10,
           8,
           "Wartortle",
           "Water",
           "None",
           405,
           59,
           63,
           80,
           65,
           80,
           58,
           1,
           false
          ],
          [
           8,
           11,
           9,
           "Blastoise",
           "Water",
           "None",
           530,
           79,
           83,
           100,
           85,
           105,
           78,
           1,
           false
          ],
          [
           9,
           13,
           10,
           "Caterpie",
           "Bug",
           "None",
           195,
           45,
           30,
           35,
           20,
           20,
           45,
           1,
           false
          ],
          [
           10,
           14,
           11,
           "Metapod",
           "Bug",
           "None",
           205,
           50,
           20,
           55,
           25,
           25,
           30,
           1,
           false
          ],
          [
           18,
           24,
           19,
           "Rattata",
           "Normal",
           "None",
           253,
           30,
           56,
           35,
           25,
           35,
           72,
           1,
           false
          ],
          [
           19,
           25,
           20,
           "Raticate",
           "Normal",
           "None",
           413,
           55,
           81,
           60,
           50,
           70,
           97,
           1,
           false
          ],
          [
           22,
           28,
           23,
           "Ekans",
           "Poison",
           "None",
           288,
           35,
           60,
           44,
           40,
           54,
           55,
           1,
           false
          ],
          [
           23,
           29,
           24,
           "Arbok",
           "Poison",
           "None",
           438,
           60,
           85,
           69,
           65,
           79,
           80,
           1,
           false
          ],
          [
           24,
           30,
           25,
           "Pikachu",
           "Electric",
           "None",
           320,
           35,
           55,
           40,
           50,
           50,
           90,
           1,
           false
          ],
          [
           25,
           31,
           26,
           "Raichu",
           "Electric",
           "None",
           485,
           60,
           90,
           55,
           90,
           80,
           110,
           1,
           false
          ],
          [
           26,
           32,
           27,
           "Sandshrew",
           "Ground",
           "None",
           300,
           50,
           75,
           85,
           20,
           30,
           40,
           1,
           false
          ],
          [
           27,
           33,
           28,
           "Sandslash",
           "Ground",
           "None",
           450,
           75,
           100,
           110,
           45,
           55,
           65,
           1,
           false
          ],
          [
           28,
           34,
           29,
           "Nidoran♀",
           "Poison",
           "None",
           275,
           55,
           47,
           52,
           40,
           40,
           41,
           1,
           false
          ],
          [
           29,
           35,
           30,
           "Nidorina",
           "Poison",
           "None",
           365,
           70,
           62,
           67,
           55,
           55,
           56,
           1,
           false
          ],
          [
           31,
           37,
           32,
           "Nidoran♂",
           "Poison",
           "None",
           273,
           46,
           57,
           40,
           40,
           40,
           50,
           1,
           false
          ],
          [
           32,
           38,
           33,
           "Nidorino",
           "Poison",
           "None",
           365,
           61,
           72,
           57,
           55,
           55,
           65,
           1,
           false
          ],
          [
           34,
           40,
           35,
           "Clefairy",
           "Fairy",
           "None",
           323,
           70,
           45,
           48,
           60,
           65,
           35,
           1,
           false
          ],
          [
           35,
           41,
           36,
           "Clefable",
           "Fairy",
           "None",
           483,
           95,
           70,
           73,
           95,
           90,
           60,
           1,
           false
          ],
          [
           36,
           42,
           37,
           "Vulpix",
           "Fire",
           "None",
           299,
           38,
           41,
           40,
           50,
           65,
           65,
           1,
           false
          ],
          [
           37,
           43,
           38,
           "Ninetales",
           "Fire",
           "None",
           505,
           73,
           76,
           75,
           81,
           100,
           100,
           1,
           false
          ],
          [
           49,
           55,
           50,
           "Diglett",
           "Ground",
           "None",
           265,
           10,
           55,
           25,
           35,
           45,
           95,
           1,
           false
          ],
          [
           50,
           56,
           51,
           "Dugtrio",
           "Ground",
           "None",
           405,
           35,
           80,
           50,
           50,
           70,
           120,
           1,
           false
          ],
          [
           51,
           57,
           52,
           "Meowth",
           "Normal",
           "None",
           290,
           40,
           45,
           35,
           40,
           40,
           90,
           1,
           false
          ],
          [
           52,
           58,
           53,
           "Persian",
           "Normal",
           "None",
           440,
           65,
           70,
           60,
           65,
           65,
           115,
           1,
           false
          ],
          [
           53,
           59,
           54,
           "Psyduck",
           "Water",
           "None",
           320,
           50,
           52,
           48,
           65,
           50,
           55,
           1,
           false
          ],
          [
           54,
           60,
           55,
           "Golduck",
           "Water",
           "None",
           500,
           80,
           82,
           78,
           95,
           80,
           85,
           1,
           false
          ],
          [
           55,
           61,
           56,
           "Mankey",
           "Fighting",
           "None",
           305,
           40,
           80,
           35,
           35,
           45,
           70,
           1,
           false
          ],
          [
           56,
           62,
           57,
           "Primeape",
           "Fighting",
           "None",
           455,
           65,
           105,
           60,
           60,
           70,
           95,
           1,
           false
          ],
          [
           57,
           63,
           58,
           "Growlithe",
           "Fire",
           "None",
           350,
           55,
           70,
           45,
           70,
           50,
           60,
           1,
           false
          ],
          [
           58,
           64,
           59,
           "Arcanine",
           "Fire",
           "None",
           555,
           90,
           110,
           80,
           100,
           80,
           95,
           1,
           false
          ],
          [
           59,
           65,
           60,
           "Poliwag",
           "Water",
           "None",
           300,
           40,
           50,
           40,
           40,
           40,
           90,
           1,
           false
          ],
          [
           60,
           66,
           61,
           "Poliwhirl",
           "Water",
           "None",
           385,
           65,
           65,
           65,
           50,
           50,
           90,
           1,
           false
          ],
          [
           62,
           68,
           63,
           "Abra",
           "Psychic",
           "None",
           310,
           25,
           20,
           15,
           105,
           55,
           90,
           1,
           false
          ],
          [
           63,
           69,
           64,
           "Kadabra",
           "Psychic",
           "None",
           400,
           40,
           35,
           30,
           120,
           70,
           105,
           1,
           false
          ],
          [
           64,
           70,
           65,
           "Alakazam",
           "Psychic",
           "None",
           500,
           55,
           50,
           45,
           135,
           95,
           120,
           1,
           false
          ],
          [
           65,
           72,
           66,
           "Machop",
           "Fighting",
           "None",
           305,
           70,
           80,
           50,
           35,
           35,
           35,
           1,
           false
          ],
          [
           66,
           73,
           67,
           "Machoke",
           "Fighting",
           "None",
           405,
           80,
           100,
           70,
           50,
           60,
           45,
           1,
           false
          ],
          [
           67,
           74,
           68,
           "Machamp",
           "Fighting",
           "None",
           505,
           90,
           130,
           80,
           65,
           85,
           55,
           1,
           false
          ],
          [
           76,
           83,
           77,
           "Ponyta",
           "Fire",
           "None",
           410,
           50,
           85,
           55,
           65,
           65,
           90,
           1,
           false
          ],
          [
           77,
           84,
           78,
           "Rapidash",
           "Fire",
           "None",
           500,
           65,
           100,
           70,
           80,
           80,
           105,
           1,
           false
          ],
          [
           85,
           93,
           86,
           "Seel",
           "Water",
           "None",
           325,
           65,
           45,
           55,
           45,
           70,
           45,
           1,
           false
          ],
          [
           87,
           95,
           88,
           "Grimer",
           "Poison",
           "None",
           325,
           80,
           80,
           50,
           40,
           50,
           25,
           1,
           false
          ],
          [
           88,
           96,
           89,
           "Muk",
           "Poison",
           "None",
           500,
           105,
           105,
           75,
           65,
           100,
           50,
           1,
           false
          ],
          [
           89,
           97,
           90,
           "Shellder",
           "Water",
           "None",
           305,
           30,
           65,
           100,
           45,
           25,
           40,
           1,
           false
          ],
          [
           95,
           104,
           96,
           "Drowzee",
           "Psychic",
           "None",
           328,
           60,
           48,
           45,
           43,
           90,
           42,
           1,
           false
          ],
          [
           96,
           105,
           97,
           "Hypno",
           "Psychic",
           "None",
           483,
           85,
           73,
           70,
           73,
           115,
           67,
           1,
           false
          ],
          [
           97,
           106,
           98,
           "Krabby",
           "Water",
           "None",
           325,
           30,
           105,
           90,
           25,
           25,
           50,
           1,
           false
          ],
          [
           98,
           107,
           99,
           "Kingler",
           "Water",
           "None",
           475,
           55,
           130,
           115,
           50,
           50,
           75,
           1,
           false
          ],
          [
           99,
           108,
           100,
           "Voltorb",
           "Electric",
           "None",
           330,
           40,
           30,
           50,
           55,
           55,
           100,
           1,
           false
          ],
          [
           100,
           109,
           101,
           "Electrode",
           "Electric",
           "None",
           480,
           60,
           50,
           70,
           80,
           80,
           140,
           1,
           false
          ],
          [
           103,
           112,
           104,
           "Cubone",
           "Ground",
           "None",
           320,
           50,
           50,
           95,
           40,
           50,
           35,
           1,
           false
          ],
          [
           104,
           113,
           105,
           "Marowak",
           "Ground",
           "None",
           425,
           60,
           80,
           110,
           50,
           80,
           45,
           1,
           false
          ],
          [
           105,
           114,
           106,
           "Hitmonlee",
           "Fighting",
           "None",
           455,
           50,
           120,
           53,
           35,
           110,
           87,
           1,
           false
          ],
          [
           106,
           115,
           107,
           "Hitmonchan",
           "Fighting",
           "None",
           455,
           50,
           105,
           79,
           35,
           110,
           76,
           1,
           false
          ],
          [
           107,
           116,
           108,
           "Lickitung",
           "Normal",
           "None",
           385,
           90,
           55,
           75,
           60,
           75,
           30,
           1,
           false
          ],
          [
           108,
           117,
           109,
           "Koffing",
           "Poison",
           "None",
           340,
           40,
           65,
           95,
           60,
           45,
           35,
           1,
           false
          ],
          [
           109,
           118,
           110,
           "Weezing",
           "Poison",
           "None",
           490,
           65,
           90,
           120,
           85,
           70,
           60,
           1,
           false
          ],
          [
           112,
           121,
           113,
           "Chansey",
           "Normal",
           "None",
           450,
           250,
           5,
           5,
           35,
           105,
           50,
           1,
           false
          ],
          [
           113,
           122,
           114,
           "Tangela",
           "Grass",
           "None",
           435,
           65,
           55,
           115,
           100,
           40,
           60,
           1,
           false
          ],
          [
           114,
           123,
           115,
           "Kangaskhan",
           "Normal",
           "None",
           490,
           105,
           95,
           80,
           40,
           80,
           90,
           1,
           false
          ],
          [
           115,
           125,
           116,
           "Horsea",
           "Water",
           "None",
           295,
           30,
           40,
           70,
           70,
           25,
           60,
           1,
           false
          ],
          [
           116,
           126,
           117,
           "Seadra",
           "Water",
           "None",
           440,
           55,
           65,
           95,
           95,
           45,
           85,
           1,
           false
          ],
          [
           117,
           127,
           118,
           "Goldeen",
           "Water",
           "None",
           320,
           45,
           67,
           60,
           35,
           50,
           63,
           1,
           false
          ],
          [
           118,
           128,
           119,
           "Seaking",
           "Water",
           "None",
           450,
           80,
           92,
           65,
           65,
           80,
           68,
           1,
           false
          ],
          [
           119,
           129,
           120,
           "Staryu",
           "Water",
           "None",
           340,
           30,
           45,
           55,
           70,
           55,
           85,
           1,
           false
          ],
          [
           124,
           134,
           125,
           "Electabuzz",
           "Electric",
           "None",
           490,
           65,
           83,
           57,
           95,
           85,
           105,
           1,
           false
          ],
          [
           125,
           135,
           126,
           "Magmar",
           "Fire",
           "None",
           495,
           65,
           95,
           57,
           100,
           85,
           93,
           1,
           false
          ],
          [
           126,
           136,
           127,
           "Pinsir",
           "Bug",
           "None",
           500,
           65,
           125,
           100,
           55,
           70,
           85,
           1,
           false
          ],
          [
           127,
           138,
           128,
           "Tauros",
           "Normal",
           "None",
           490,
           75,
           100,
           95,
           40,
           70,
           110,
           1,
           false
          ],
          [
           128,
           139,
           129,
           "Magikarp",
           "Water",
           "None",
           200,
           20,
           10,
           55,
           15,
           20,
           80,
           1,
           false
          ],
          [
           131,
           143,
           132,
           "Ditto",
           "Normal",
           "None",
           288,
           48,
           48,
           48,
           48,
           48,
           48,
           1,
           false
          ],
          [
           132,
           144,
           133,
           "Eevee",
           "Normal",
           "None",
           325,
           55,
           55,
           50,
           45,
           65,
           55,
           1,
           false
          ],
          [
           133,
           145,
           134,
           "Vaporeon",
           "Water",
           "None",
           525,
           130,
           65,
           60,
           110,
           95,
           65,
           1,
           false
          ],
          [
           134,
           146,
           135,
           "Jolteon",
           "Electric",
           "None",
           525,
           65,
           65,
           60,
           110,
           95,
           130,
           1,
           false
          ],
          [
           135,
           147,
           136,
           "Flareon",
           "Fire",
           "None",
           525,
           65,
           130,
           60,
           95,
           110,
           65,
           1,
           false
          ],
          [
           136,
           148,
           137,
           "Porygon",
           "Normal",
           "None",
           395,
           65,
           60,
           70,
           85,
           75,
           40,
           1,
           false
          ],
          [
           142,
           155,
           143,
           "Snorlax",
           "Normal",
           "None",
           540,
           160,
           110,
           65,
           65,
           110,
           30,
           1,
           false
          ],
          [
           146,
           159,
           147,
           "Dratini",
           "Dragon",
           "None",
           300,
           41,
           64,
           45,
           50,
           50,
           50,
           1,
           false
          ],
          [
           147,
           160,
           148,
           "Dragonair",
           "Dragon",
           "None",
           420,
           61,
           84,
           65,
           70,
           70,
           70,
           1,
           false
          ],
          [
           149,
           162,
           150,
           "Mewtwo",
           "Psychic",
           "None",
           680,
           106,
           110,
           90,
           154,
           90,
           130,
           1,
           true
          ],
          [
           150,
           165,
           151,
           "Mew",
           "Psychic",
           "None",
           600,
           100,
           100,
           100,
           100,
           100,
           100,
           1,
           false
          ]
         ],
         "hovertemplate": "<b>%{hovertext}</b><br><br>Type 2=%{customdata[5]}<br>t-SNE dimension 1=%{x}<br>t-SNE dimension 2=%{y}<br>Name=%{customdata[3]}<br>level_0=%{customdata[0]}<br>index=%{customdata[1]}<br>#=%{customdata[2]}<br>Type 1=%{customdata[4]}<br>Total=%{customdata[6]}<br>HP=%{customdata[7]}<br>Attack=%{customdata[8]}<br>Defense=%{customdata[9]}<br>Sp. Atk=%{customdata[10]}<br>Sp. Def=%{customdata[11]}<br>Speed=%{customdata[12]}<br>Generation=%{customdata[13]}<br>Legendary=%{customdata[14]}<extra></extra>",
         "hovertext": [
          "Charmander",
          "Charmeleon",
          "Squirtle",
          "Wartortle",
          "Blastoise",
          "Caterpie",
          "Metapod",
          "Rattata",
          "Raticate",
          "Ekans",
          "Arbok",
          "Pikachu",
          "Raichu",
          "Sandshrew",
          "Sandslash",
          "Nidoran♀",
          "Nidorina",
          "Nidoran♂",
          "Nidorino",
          "Clefairy",
          "Clefable",
          "Vulpix",
          "Ninetales",
          "Diglett",
          "Dugtrio",
          "Meowth",
          "Persian",
          "Psyduck",
          "Golduck",
          "Mankey",
          "Primeape",
          "Growlithe",
          "Arcanine",
          "Poliwag",
          "Poliwhirl",
          "Abra",
          "Kadabra",
          "Alakazam",
          "Machop",
          "Machoke",
          "Machamp",
          "Ponyta",
          "Rapidash",
          "Seel",
          "Grimer",
          "Muk",
          "Shellder",
          "Drowzee",
          "Hypno",
          "Krabby",
          "Kingler",
          "Voltorb",
          "Electrode",
          "Cubone",
          "Marowak",
          "Hitmonlee",
          "Hitmonchan",
          "Lickitung",
          "Koffing",
          "Weezing",
          "Chansey",
          "Tangela",
          "Kangaskhan",
          "Horsea",
          "Seadra",
          "Goldeen",
          "Seaking",
          "Staryu",
          "Electabuzz",
          "Magmar",
          "Pinsir",
          "Tauros",
          "Magikarp",
          "Ditto",
          "Eevee",
          "Vaporeon",
          "Jolteon",
          "Flareon",
          "Porygon",
          "Snorlax",
          "Dratini",
          "Dragonair",
          "Mewtwo",
          "Mew"
         ],
         "legendgroup": "None",
         "marker": {
          "color": "#EF553B",
          "symbol": "circle"
         },
         "mode": "markers+text",
         "name": "None",
         "orientation": "v",
         "showlegend": true,
         "text": [
          "Charmander",
          "Charmeleon",
          "Squirtle",
          "Wartortle",
          "Blastoise",
          "Caterpie",
          "Metapod",
          "Rattata",
          "Raticate",
          "Ekans",
          "Arbok",
          "Pikachu",
          "Raichu",
          "Sandshrew",
          "Sandslash",
          "Nidoran♀",
          "Nidorina",
          "Nidoran♂",
          "Nidorino",
          "Clefairy",
          "Clefable",
          "Vulpix",
          "Ninetales",
          "Diglett",
          "Dugtrio",
          "Meowth",
          "Persian",
          "Psyduck",
          "Golduck",
          "Mankey",
          "Primeape",
          "Growlithe",
          "Arcanine",
          "Poliwag",
          "Poliwhirl",
          "Abra",
          "Kadabra",
          "Alakazam",
          "Machop",
          "Machoke",
          "Machamp",
          "Ponyta",
          "Rapidash",
          "Seel",
          "Grimer",
          "Muk",
          "Shellder",
          "Drowzee",
          "Hypno",
          "Krabby",
          "Kingler",
          "Voltorb",
          "Electrode",
          "Cubone",
          "Marowak",
          "Hitmonlee",
          "Hitmonchan",
          "Lickitung",
          "Koffing",
          "Weezing",
          "Chansey",
          "Tangela",
          "Kangaskhan",
          "Horsea",
          "Seadra",
          "Goldeen",
          "Seaking",
          "Staryu",
          "Electabuzz",
          "Magmar",
          "Pinsir",
          "Tauros",
          "Magikarp",
          "Ditto",
          "Eevee",
          "Vaporeon",
          "Jolteon",
          "Flareon",
          "Porygon",
          "Snorlax",
          "Dratini",
          "Dragonair",
          "Mewtwo",
          "Mew"
         ],
         "type": "scatter",
         "x": [
          -4.007596969604492,
          -4.413737773895264,
          0.7966622114181519,
          1.7302063703536987,
          2.2631564140319824,
          -2.2110142707824707,
          -2.1994056701660156,
          -1.6037445068359375,
          -2.62900972366333,
          -6.3920464515686035,
          -7.262239456176758,
          -1.2691164016723633,
          -1.8804341554641724,
          -8.821792602539062,
          -8.507685661315918,
          -6.691610813140869,
          -7.15151309967041,
          -6.3917670249938965,
          -6.887848377227783,
          -6.700742244720459,
          -6.708493709564209,
          -4.317385673522949,
          -3.7533035278320312,
          -8.178058624267578,
          -7.995998859405518,
          -1.7767791748046875,
          -2.5381150245666504,
          0.9272511005401611,
          2.2063207626342773,
          -6.283779144287109,
          -5.827238082885742,
          -3.7862157821655273,
          -4.1909589767456055,
          0.7175142168998718,
          1.009170413017273,
          -10.256986618041992,
          -10.555602073669434,
          -11.008214950561523,
          -6.549496650695801,
          -6.401397228240967,
          -6.2985100746154785,
          -3.808382511138916,
          -4.099053382873535,
          1.305402159690857,
          -6.4380645751953125,
          -7.679202556610107,
          -0.14573584496974945,
          -10.390015602111816,
          -10.965696334838867,
          0.05863712728023529,
          0.9703471064567566,
          -1.2213075160980225,
          -1.5004626512527466,
          -8.790579795837402,
          -8.5890474319458,
          -5.773821830749512,
          -5.8437910079956055,
          -2.7759130001068115,
          -7.2912917137146,
          -7.822657585144043,
          -3.4645912647247314,
          3.2849631309509277,
          -3.2679481506347656,
          0.15812435746192932,
          2.1887729167938232,
          0.462723046541214,
          1.6142526865005493,
          1.4049540758132935,
          -1.8779579401016235,
          -4.600762367248535,
          -2.5001842975616455,
          -3.0994627475738525,
          -0.03559287264943123,
          -1.938154697418213,
          -2.2726869583129883,
          2.628382444381714,
          -1.8153966665267944,
          -4.7239460945129395,
          -2.7832415103912354,
          -3.7372024059295654,
          -4.592924118041992,
          -4.588672637939453,
          -12.036945343017578,
          -11.430074691772461
         ],
         "xaxis": "x",
         "y": [
          3.1912777423858643,
          3.7409911155700684,
          2.605257987976074,
          2.322061538696289,
          1.3769645690917969,
          0.29102787375450134,
          0.27746525406837463,
          -3.404195547103882,
          -3.0131208896636963,
          -1.3324693441390991,
          -2.127969741821289,
          7.07417106628418,
          7.549504280090332,
          4.512341499328613,
          4.943828105926514,
          -0.8037798404693604,
          -1.3514430522918701,
          -1.0235154628753662,
          -1.7340757846832275,
          1.9495251178741455,
          1.969264268875122,
          3.16642165184021,
          4.581401348114014,
          4.220127105712891,
          4.4968037605285645,
          -3.1449413299560547,
          -2.732774019241333,
          3.049783229827881,
          1.930345058441162,
          7.3523454666137695,
          7.842350959777832,
          3.4452712535858154,
          4.89119291305542,
          3.6320629119873047,
          2.0150697231292725,
          1.2887557744979858,
          1.3289717435836792,
          1.3526793718338013,
          7.348329544067383,
          7.773645877838135,
          8.328368186950684,
          3.9361379146575928,
          4.492746353149414,
          2.766360282897949,
          -1.783765196800232,
          -2.3081085681915283,
          2.5092382431030273,
          0.6660450100898743,
          0.7807227969169617,
          1.706673502922058,
          1.0519237518310547,
          7.142775535583496,
          7.789402484893799,
          4.562861919403076,
          4.9524383544921875,
          8.382163047790527,
          8.362256050109863,
          -4.098404884338379,
          -1.0042953491210938,
          -1.7708956003189087,
          -4.787238121032715,
          4.613425254821777,
          -3.139094352722168,
          3.1235978603363037,
          3.170427083969116,
          2.2735393047332764,
          1.557148814201355,
          3.4140357971191406,
          7.587588787078857,
          4.345576286315918,
          0.6462465524673462,
          -2.7023696899414062,
          3.785808801651001,
          -3.8777928352355957,
          -3.717026710510254,
          2.104569911956787,
          7.926758766174316,
          4.877816200256348,
          -3.9126269817352295,
          -3.8464770317077637,
          0.815016508102417,
          0.8243056535720825,
          1.7513532638549805,
          1.1449525356292725
         ],
         "yaxis": "y"
        },
        {
         "customdata": [
          [
           5,
           6,
           6,
           "Charizard",
           "Fire",
           "Flying",
           534,
           78,
           84,
           78,
           109,
           85,
           100,
           1,
           false
          ],
          [
           11,
           15,
           12,
           "Butterfree",
           "Bug",
           "Flying",
           395,
           60,
           45,
           50,
           90,
           80,
           70,
           1,
           false
          ],
          [
           15,
           20,
           16,
           "Pidgey",
           "Normal",
           "Flying",
           251,
           40,
           45,
           40,
           35,
           35,
           56,
           1,
           false
          ],
          [
           16,
           21,
           17,
           "Pidgeotto",
           "Normal",
           "Flying",
           349,
           63,
           60,
           55,
           50,
           50,
           71,
           1,
           false
          ],
          [
           17,
           22,
           18,
           "Pidgeot",
           "Normal",
           "Flying",
           479,
           83,
           80,
           75,
           70,
           70,
           101,
           1,
           false
          ],
          [
           20,
           26,
           21,
           "Spearow",
           "Normal",
           "Flying",
           262,
           40,
           60,
           30,
           31,
           31,
           70,
           1,
           false
          ],
          [
           21,
           27,
           22,
           "Fearow",
           "Normal",
           "Flying",
           442,
           65,
           90,
           65,
           61,
           61,
           100,
           1,
           false
          ],
          [
           40,
           46,
           41,
           "Zubat",
           "Poison",
           "Flying",
           245,
           40,
           45,
           35,
           30,
           40,
           55,
           1,
           false
          ],
          [
           41,
           47,
           42,
           "Golbat",
           "Poison",
           "Flying",
           455,
           75,
           80,
           70,
           65,
           75,
           90,
           1,
           false
          ],
          [
           82,
           90,
           83,
           "Farfetch'd",
           "Normal",
           "Flying",
           352,
           52,
           65,
           55,
           58,
           62,
           60,
           1,
           false
          ],
          [
           83,
           91,
           84,
           "Doduo",
           "Normal",
           "Flying",
           310,
           35,
           85,
           45,
           35,
           35,
           75,
           1,
           false
          ],
          [
           84,
           92,
           85,
           "Dodrio",
           "Normal",
           "Flying",
           460,
           60,
           110,
           70,
           60,
           60,
           100,
           1,
           false
          ],
          [
           122,
           132,
           123,
           "Scyther",
           "Bug",
           "Flying",
           500,
           70,
           110,
           80,
           55,
           80,
           105,
           1,
           false
          ],
          [
           129,
           140,
           130,
           "Gyarados",
           "Water",
           "Flying",
           540,
           95,
           125,
           79,
           60,
           100,
           81,
           1,
           false
          ],
          [
           141,
           153,
           142,
           "Aerodactyl",
           "Rock",
           "Flying",
           515,
           80,
           105,
           65,
           60,
           75,
           130,
           1,
           false
          ],
          [
           143,
           156,
           144,
           "Articuno",
           "Ice",
           "Flying",
           580,
           90,
           85,
           100,
           95,
           125,
           85,
           1,
           true
          ],
          [
           144,
           157,
           145,
           "Zapdos",
           "Electric",
           "Flying",
           580,
           90,
           90,
           85,
           125,
           90,
           100,
           1,
           true
          ],
          [
           145,
           158,
           146,
           "Moltres",
           "Fire",
           "Flying",
           580,
           90,
           100,
           90,
           125,
           85,
           90,
           1,
           true
          ],
          [
           148,
           161,
           149,
           "Dragonite",
           "Dragon",
           "Flying",
           600,
           91,
           134,
           95,
           100,
           100,
           80,
           1,
           false
          ]
         ],
         "hovertemplate": "<b>%{hovertext}</b><br><br>Type 2=%{customdata[5]}<br>t-SNE dimension 1=%{x}<br>t-SNE dimension 2=%{y}<br>Name=%{customdata[3]}<br>level_0=%{customdata[0]}<br>index=%{customdata[1]}<br>#=%{customdata[2]}<br>Type 1=%{customdata[4]}<br>Total=%{customdata[6]}<br>HP=%{customdata[7]}<br>Attack=%{customdata[8]}<br>Defense=%{customdata[9]}<br>Sp. Atk=%{customdata[10]}<br>Sp. Def=%{customdata[11]}<br>Speed=%{customdata[12]}<br>Generation=%{customdata[13]}<br>Legendary=%{customdata[14]}<extra></extra>",
         "hovertext": [
          "Charizard",
          "Butterfree",
          "Pidgey",
          "Pidgeotto",
          "Pidgeot",
          "Spearow",
          "Fearow",
          "Zubat",
          "Golbat",
          "Farfetch'd",
          "Doduo",
          "Dodrio",
          "Scyther",
          "Gyarados",
          "Aerodactyl",
          "Articuno",
          "Zapdos",
          "Moltres",
          "Dragonite"
         ],
         "legendgroup": "Flying",
         "marker": {
          "color": "#00cc96",
          "symbol": "circle"
         },
         "mode": "markers+text",
         "name": "Flying",
         "orientation": "v",
         "showlegend": true,
         "text": [
          "Charizard",
          "Butterfree",
          "Pidgey",
          "Pidgeotto",
          "Pidgeot",
          "Spearow",
          "Fearow",
          "Zubat",
          "Golbat",
          "Farfetch'd",
          "Doduo",
          "Dodrio",
          "Scyther",
          "Gyarados",
          "Aerodactyl",
          "Articuno",
          "Zapdos",
          "Moltres",
          "Dragonite"
         ],
         "type": "scatter",
         "x": [
          4.439121723175049,
          4.930185317993164,
          0.6309354305267334,
          1.1521269083023071,
          1.9894741773605347,
          0.8289931416511536,
          1.8728082180023193,
          1.8802919387817383,
          2.132871627807617,
          1.1952998638153076,
          1.2412408590316772,
          2.026059150695801,
          4.804583549499512,
          3.8431127071380615,
          3.248147487640381,
          5.314170837402344,
          5.206244945526123,
          4.793299198150635,
          3.737093687057495
         ],
         "xaxis": "x",
         "y": [
          -6.94641637802124,
          -5.1294264793396,
          -7.173145294189453,
          -6.92950963973999,
          -6.816481590270996,
          -7.526260852813721,
          -7.113518714904785,
          -4.850299835205078,
          -4.935186862945557,
          -6.734018802642822,
          -7.625522136688232,
          -7.343883991241455,
          -5.167529106140137,
          -3.749290943145752,
          -6.419066429138184,
          -7.850609302520752,
          -7.931609153747559,
          -7.362118244171143,
          -5.66710901260376
         ],
         "yaxis": "y"
        },
        {
         "customdata": [
          [
           30,
           36,
           31,
           "Nidoqueen",
           "Poison",
           "Ground",
           505,
           90,
           92,
           87,
           75,
           85,
           76,
           1,
           false
          ],
          [
           33,
           39,
           34,
           "Nidoking",
           "Poison",
           "Ground",
           505,
           81,
           102,
           77,
           85,
           75,
           85,
           1,
           false
          ],
          [
           73,
           80,
           74,
           "Geodude",
           "Rock",
           "Ground",
           300,
           40,
           80,
           100,
           30,
           30,
           20,
           1,
           false
          ],
          [
           74,
           81,
           75,
           "Graveler",
           "Rock",
           "Ground",
           390,
           55,
           95,
           115,
           45,
           45,
           35,
           1,
           false
          ],
          [
           75,
           82,
           76,
           "Golem",
           "Rock",
           "Ground",
           495,
           80,
           120,
           130,
           55,
           65,
           45,
           1,
           false
          ],
          [
           94,
           103,
           95,
           "Onix",
           "Rock",
           "Ground",
           385,
           35,
           45,
           160,
           30,
           45,
           70,
           1,
           false
          ]
         ],
         "hovertemplate": "<b>%{hovertext}</b><br><br>Type 2=%{customdata[5]}<br>t-SNE dimension 1=%{x}<br>t-SNE dimension 2=%{y}<br>Name=%{customdata[3]}<br>level_0=%{customdata[0]}<br>index=%{customdata[1]}<br>#=%{customdata[2]}<br>Type 1=%{customdata[4]}<br>Total=%{customdata[6]}<br>HP=%{customdata[7]}<br>Attack=%{customdata[8]}<br>Defense=%{customdata[9]}<br>Sp. Atk=%{customdata[10]}<br>Sp. Def=%{customdata[11]}<br>Speed=%{customdata[12]}<br>Generation=%{customdata[13]}<br>Legendary=%{customdata[14]}<extra></extra>",
         "hovertext": [
          "Nidoqueen",
          "Nidoking",
          "Geodude",
          "Graveler",
          "Golem",
          "Onix"
         ],
         "legendgroup": "Ground",
         "marker": {
          "color": "#ab63fa",
          "symbol": "circle"
         },
         "mode": "markers+text",
         "name": "Ground",
         "orientation": "v",
         "showlegend": true,
         "text": [
          "Nidoqueen",
          "Nidoking",
          "Geodude",
          "Graveler",
          "Golem",
          "Onix"
         ],
         "type": "scatter",
         "x": [
          -7.65940523147583,
          -7.661901950836182,
          -7.038389682769775,
          -6.976135730743408,
          -6.9369215965271,
          -7.068241119384766
         ],
         "xaxis": "x",
         "y": [
          -5.261404991149902,
          -5.26013708114624,
          -8.287483215332031,
          -8.221010208129883,
          -8.105046272277832,
          -8.34922981262207
         ],
         "yaxis": "y"
        },
        {
         "customdata": [
          [
           38,
           44,
           39,
           "Jigglypuff",
           "Normal",
           "Fairy",
           270,
           115,
           45,
           20,
           45,
           25,
           20,
           1,
           false
          ],
          [
           39,
           45,
           40,
           "Wigglytuff",
           "Normal",
           "Fairy",
           435,
           140,
           70,
           45,
           85,
           50,
           45,
           1,
           false
          ],
          [
           121,
           131,
           122,
           "Mr. Mime",
           "Psychic",
           "Fairy",
           460,
           40,
           45,
           65,
           100,
           120,
           90,
           1,
           false
          ]
         ],
         "hovertemplate": "<b>%{hovertext}</b><br><br>Type 2=%{customdata[5]}<br>t-SNE dimension 1=%{x}<br>t-SNE dimension 2=%{y}<br>Name=%{customdata[3]}<br>level_0=%{customdata[0]}<br>index=%{customdata[1]}<br>#=%{customdata[2]}<br>Type 1=%{customdata[4]}<br>Total=%{customdata[6]}<br>HP=%{customdata[7]}<br>Attack=%{customdata[8]}<br>Defense=%{customdata[9]}<br>Sp. Atk=%{customdata[10]}<br>Sp. Def=%{customdata[11]}<br>Speed=%{customdata[12]}<br>Generation=%{customdata[13]}<br>Legendary=%{customdata[14]}<extra></extra>",
         "hovertext": [
          "Jigglypuff",
          "Wigglytuff",
          "Mr. Mime"
         ],
         "legendgroup": "Fairy",
         "marker": {
          "color": "#FFA15A",
          "symbol": "circle"
         },
         "mode": "markers+text",
         "name": "Fairy",
         "orientation": "v",
         "showlegend": true,
         "text": [
          "Jigglypuff",
          "Wigglytuff",
          "Mr. Mime"
         ],
         "type": "scatter",
         "x": [
          -1.4485105276107788,
          -1.4668877124786377,
          -11.636857032775879
         ],
         "xaxis": "x",
         "y": [
          -6.686080455780029,
          -6.67164945602417,
          -0.11870008707046509
         ],
         "yaxis": "y"
        },
        {
         "customdata": [
          [
           45,
           51,
           46,
           "Paras",
           "Bug",
           "Grass",
           285,
           35,
           70,
           55,
           45,
           55,
           25,
           1,
           false
          ],
          [
           46,
           52,
           47,
           "Parasect",
           "Bug",
           "Grass",
           405,
           60,
           95,
           80,
           60,
           80,
           30,
           1,
           false
          ]
         ],
         "hovertemplate": "<b>%{hovertext}</b><br><br>Type 2=%{customdata[5]}<br>t-SNE dimension 1=%{x}<br>t-SNE dimension 2=%{y}<br>Name=%{customdata[3]}<br>level_0=%{customdata[0]}<br>index=%{customdata[1]}<br>#=%{customdata[2]}<br>Type 1=%{customdata[4]}<br>Total=%{customdata[6]}<br>HP=%{customdata[7]}<br>Attack=%{customdata[8]}<br>Defense=%{customdata[9]}<br>Sp. Atk=%{customdata[10]}<br>Sp. Def=%{customdata[11]}<br>Speed=%{customdata[12]}<br>Generation=%{customdata[13]}<br>Legendary=%{customdata[14]}<extra></extra>",
         "hovertext": [
          "Paras",
          "Parasect"
         ],
         "legendgroup": "Grass",
         "marker": {
          "color": "#19d3f3",
          "symbol": "circle"
         },
         "mode": "markers+text",
         "name": "Grass",
         "orientation": "v",
         "showlegend": true,
         "text": [
          "Paras",
          "Parasect"
         ],
         "type": "scatter",
         "x": [
          7.923327922821045,
          7.926668643951416
         ],
         "xaxis": "x",
         "y": [
          5.316516399383545,
          5.31110143661499
         ],
         "yaxis": "y"
        },
        {
         "customdata": [
          [
           61,
           67,
           62,
           "Poliwrath",
           "Water",
           "Fighting",
           510,
           90,
           95,
           95,
           70,
           90,
           70,
           1,
           false
          ]
         ],
         "hovertemplate": "<b>%{hovertext}</b><br><br>Type 2=%{customdata[5]}<br>t-SNE dimension 1=%{x}<br>t-SNE dimension 2=%{y}<br>Name=%{customdata[3]}<br>level_0=%{customdata[0]}<br>index=%{customdata[1]}<br>#=%{customdata[2]}<br>Type 1=%{customdata[4]}<br>Total=%{customdata[6]}<br>HP=%{customdata[7]}<br>Attack=%{customdata[8]}<br>Defense=%{customdata[9]}<br>Sp. Atk=%{customdata[10]}<br>Sp. Def=%{customdata[11]}<br>Speed=%{customdata[12]}<br>Generation=%{customdata[13]}<br>Legendary=%{customdata[14]}<extra></extra>",
         "hovertext": [
          "Poliwrath"
         ],
         "legendgroup": "Fighting",
         "marker": {
          "color": "#FF6692",
          "symbol": "circle"
         },
         "mode": "markers+text",
         "name": "Fighting",
         "orientation": "v",
         "showlegend": true,
         "text": [
          "Poliwrath"
         ],
         "type": "scatter",
         "x": [
          3.853292226791382
         ],
         "xaxis": "x",
         "y": [
          0.8437879085540771
         ],
         "yaxis": "y"
        },
        {
         "customdata": [
          [
           78,
           85,
           79,
           "Slowpoke",
           "Water",
           "Psychic",
           315,
           90,
           65,
           65,
           40,
           40,
           15,
           1,
           false
          ],
          [
           79,
           86,
           80,
           "Slowbro",
           "Water",
           "Psychic",
           490,
           95,
           75,
           110,
           100,
           80,
           30,
           1,
           false
          ],
          [
           101,
           110,
           102,
           "Exeggcute",
           "Grass",
           "Psychic",
           325,
           60,
           40,
           80,
           60,
           45,
           40,
           1,
           false
          ],
          [
           102,
           111,
           103,
           "Exeggutor",
           "Grass",
           "Psychic",
           520,
           95,
           95,
           85,
           125,
           65,
           55,
           1,
           false
          ],
          [
           120,
           130,
           121,
           "Starmie",
           "Water",
           "Psychic",
           520,
           60,
           75,
           85,
           100,
           85,
           115,
           1,
           false
          ],
          [
           123,
           133,
           124,
           "Jynx",
           "Ice",
           "Psychic",
           455,
           65,
           50,
           35,
           115,
           95,
           95,
           1,
           false
          ]
         ],
         "hovertemplate": "<b>%{hovertext}</b><br><br>Type 2=%{customdata[5]}<br>t-SNE dimension 1=%{x}<br>t-SNE dimension 2=%{y}<br>Name=%{customdata[3]}<br>level_0=%{customdata[0]}<br>index=%{customdata[1]}<br>#=%{customdata[2]}<br>Type 1=%{customdata[4]}<br>Total=%{customdata[6]}<br>HP=%{customdata[7]}<br>Attack=%{customdata[8]}<br>Defense=%{customdata[9]}<br>Sp. Atk=%{customdata[10]}<br>Sp. Def=%{customdata[11]}<br>Speed=%{customdata[12]}<br>Generation=%{customdata[13]}<br>Legendary=%{customdata[14]}<extra></extra>",
         "hovertext": [
          "Slowpoke",
          "Slowbro",
          "Exeggcute",
          "Exeggutor",
          "Starmie",
          "Jynx"
         ],
         "legendgroup": "Psychic",
         "marker": {
          "color": "#B6E880",
          "symbol": "circle"
         },
         "mode": "markers+text",
         "name": "Psychic",
         "orientation": "v",
         "showlegend": true,
         "text": [
          "Slowpoke",
          "Slowbro",
          "Exeggcute",
          "Exeggutor",
          "Starmie",
          "Jynx"
         ],
         "type": "scatter",
         "x": [
          5.039031505584717,
          5.242059707641602,
          8.015301704406738,
          7.9736714363098145,
          5.448714733123779,
          6.537182807922363
         ],
         "xaxis": "x",
         "y": [
          2.3409340381622314,
          2.1381466388702393,
          2.3437883853912354,
          2.348297595977783,
          2.0386078357696533,
          2.48197340965271
         ],
         "yaxis": "y"
        },
        {
         "customdata": [
          [
           80,
           88,
           81,
           "Magnemite",
           "Electric",
           "Steel",
           325,
           25,
           35,
           70,
           95,
           55,
           45,
           1,
           false
          ],
          [
           81,
           89,
           82,
           "Magneton",
           "Electric",
           "Steel",
           465,
           50,
           60,
           95,
           120,
           70,
           70,
           1,
           false
          ]
         ],
         "hovertemplate": "<b>%{hovertext}</b><br><br>Type 2=%{customdata[5]}<br>t-SNE dimension 1=%{x}<br>t-SNE dimension 2=%{y}<br>Name=%{customdata[3]}<br>level_0=%{customdata[0]}<br>index=%{customdata[1]}<br>#=%{customdata[2]}<br>Type 1=%{customdata[4]}<br>Total=%{customdata[6]}<br>HP=%{customdata[7]}<br>Attack=%{customdata[8]}<br>Defense=%{customdata[9]}<br>Sp. Atk=%{customdata[10]}<br>Sp. Def=%{customdata[11]}<br>Speed=%{customdata[12]}<br>Generation=%{customdata[13]}<br>Legendary=%{customdata[14]}<extra></extra>",
         "hovertext": [
          "Magnemite",
          "Magneton"
         ],
         "legendgroup": "Steel",
         "marker": {
          "color": "#FF97FF",
          "symbol": "circle"
         },
         "mode": "markers+text",
         "name": "Steel",
         "orientation": "v",
         "showlegend": true,
         "text": [
          "Magnemite",
          "Magneton"
         ],
         "type": "scatter",
         "x": [
          1.0172042846679688,
          1.0065956115722656
         ],
         "xaxis": "x",
         "y": [
          8.63024616241455,
          8.629434585571289
         ],
         "yaxis": "y"
        },
        {
         "customdata": [
          [
           86,
           94,
           87,
           "Dewgong",
           "Water",
           "Ice",
           475,
           90,
           70,
           80,
           70,
           95,
           70,
           1,
           false
          ],
          [
           90,
           98,
           91,
           "Cloyster",
           "Water",
           "Ice",
           525,
           50,
           95,
           180,
           85,
           45,
           70,
           1,
           false
          ],
          [
           130,
           142,
           131,
           "Lapras",
           "Water",
           "Ice",
           535,
           130,
           85,
           80,
           85,
           95,
           60,
           1,
           false
          ]
         ],
         "hovertemplate": "<b>%{hovertext}</b><br><br>Type 2=%{customdata[5]}<br>t-SNE dimension 1=%{x}<br>t-SNE dimension 2=%{y}<br>Name=%{customdata[3]}<br>level_0=%{customdata[0]}<br>index=%{customdata[1]}<br>#=%{customdata[2]}<br>Type 1=%{customdata[4]}<br>Total=%{customdata[6]}<br>HP=%{customdata[7]}<br>Attack=%{customdata[8]}<br>Defense=%{customdata[9]}<br>Sp. Atk=%{customdata[10]}<br>Sp. Def=%{customdata[11]}<br>Speed=%{customdata[12]}<br>Generation=%{customdata[13]}<br>Legendary=%{customdata[14]}<extra></extra>",
         "hovertext": [
          "Dewgong",
          "Cloyster",
          "Lapras"
         ],
         "legendgroup": "Ice",
         "marker": {
          "color": "#FECB52",
          "symbol": "circle"
         },
         "mode": "markers+text",
         "name": "Ice",
         "orientation": "v",
         "showlegend": true,
         "text": [
          "Dewgong",
          "Cloyster",
          "Lapras"
         ],
         "type": "scatter",
         "x": [
          3.9545528888702393,
          3.7230887413024902,
          3.9541079998016357
         ],
         "xaxis": "x",
         "y": [
          -0.5169774293899536,
          -0.6061301827430725,
          -0.5285832285881042
         ],
         "yaxis": "y"
        },
        {
         "customdata": [
          [
           110,
           119,
           111,
           "Rhyhorn",
           "Ground",
           "Rock",
           345,
           80,
           85,
           95,
           30,
           30,
           25,
           1,
           false
          ],
          [
           111,
           120,
           112,
           "Rhydon",
           "Ground",
           "Rock",
           485,
           105,
           130,
           120,
           45,
           45,
           40,
           1,
           false
          ]
         ],
         "hovertemplate": "<b>%{hovertext}</b><br><br>Type 2=%{customdata[5]}<br>t-SNE dimension 1=%{x}<br>t-SNE dimension 2=%{y}<br>Name=%{customdata[3]}<br>level_0=%{customdata[0]}<br>index=%{customdata[1]}<br>#=%{customdata[2]}<br>Type 1=%{customdata[4]}<br>Total=%{customdata[6]}<br>HP=%{customdata[7]}<br>Attack=%{customdata[8]}<br>Defense=%{customdata[9]}<br>Sp. Atk=%{customdata[10]}<br>Sp. Def=%{customdata[11]}<br>Speed=%{customdata[12]}<br>Generation=%{customdata[13]}<br>Legendary=%{customdata[14]}<extra></extra>",
         "hovertext": [
          "Rhyhorn",
          "Rhydon"
         ],
         "legendgroup": "Rock",
         "marker": {
          "color": "#636efa",
          "symbol": "circle"
         },
         "mode": "markers+text",
         "name": "Rock",
         "orientation": "v",
         "showlegend": true,
         "text": [
          "Rhyhorn",
          "Rhydon"
         ],
         "type": "scatter",
         "x": [
          -10.612896919250488,
          -10.621301651000977
         ],
         "xaxis": "x",
         "y": [
          6.203160285949707,
          6.2174530029296875
         ],
         "yaxis": "y"
        },
        {
         "customdata": [
          [
           137,
           149,
           138,
           "Omanyte",
           "Rock",
           "Water",
           355,
           35,
           40,
           100,
           90,
           55,
           35,
           1,
           false
          ],
          [
           138,
           150,
           139,
           "Omastar",
           "Rock",
           "Water",
           495,
           70,
           60,
           125,
           115,
           70,
           55,
           1,
           false
          ],
          [
           139,
           151,
           140,
           "Kabuto",
           "Rock",
           "Water",
           355,
           30,
           80,
           90,
           55,
           45,
           55,
           1,
           false
          ],
          [
           140,
           152,
           141,
           "Kabutops",
           "Rock",
           "Water",
           495,
           60,
           115,
           105,
           65,
           70,
           80,
           1,
           false
          ]
         ],
         "hovertemplate": "<b>%{hovertext}</b><br><br>Type 2=%{customdata[5]}<br>t-SNE dimension 1=%{x}<br>t-SNE dimension 2=%{y}<br>Name=%{customdata[3]}<br>level_0=%{customdata[0]}<br>index=%{customdata[1]}<br>#=%{customdata[2]}<br>Type 1=%{customdata[4]}<br>Total=%{customdata[6]}<br>HP=%{customdata[7]}<br>Attack=%{customdata[8]}<br>Defense=%{customdata[9]}<br>Sp. Atk=%{customdata[10]}<br>Sp. Def=%{customdata[11]}<br>Speed=%{customdata[12]}<br>Generation=%{customdata[13]}<br>Legendary=%{customdata[14]}<extra></extra>",
         "hovertext": [
          "Omanyte",
          "Omastar",
          "Kabuto",
          "Kabutops"
         ],
         "legendgroup": "Water",
         "marker": {
          "color": "#EF553B",
          "symbol": "circle"
         },
         "mode": "markers+text",
         "name": "Water",
         "orientation": "v",
         "showlegend": true,
         "text": [
          "Omanyte",
          "Omastar",
          "Kabuto",
          "Kabutops"
         ],
         "type": "scatter",
         "x": [
          -5.239394187927246,
          -5.161862850189209,
          -5.226126670837402,
          -5.107755184173584
         ],
         "xaxis": "x",
         "y": [
          -9.725212097167969,
          -9.732190132141113,
          -9.606818199157715,
          -9.585237503051758
         ],
         "yaxis": "y"
        }
       ],
       "layout": {
        "legend": {
         "title": {
          "text": "Type 2"
         },
         "tracegroupgap": 0
        },
        "margin": {
         "t": 60
        },
        "template": {
         "data": {
          "bar": [
           {
            "error_x": {
             "color": "#2a3f5f"
            },
            "error_y": {
             "color": "#2a3f5f"
            },
            "marker": {
             "line": {
              "color": "#E5ECF6",
              "width": 0.5
             },
             "pattern": {
              "fillmode": "overlay",
              "size": 10,
              "solidity": 0.2
             }
            },
            "type": "bar"
           }
          ],
          "barpolar": [
           {
            "marker": {
             "line": {
              "color": "#E5ECF6",
              "width": 0.5
             },
             "pattern": {
              "fillmode": "overlay",
              "size": 10,
              "solidity": 0.2
             }
            },
            "type": "barpolar"
           }
          ],
          "carpet": [
           {
            "aaxis": {
             "endlinecolor": "#2a3f5f",
             "gridcolor": "white",
             "linecolor": "white",
             "minorgridcolor": "white",
             "startlinecolor": "#2a3f5f"
            },
            "baxis": {
             "endlinecolor": "#2a3f5f",
             "gridcolor": "white",
             "linecolor": "white",
             "minorgridcolor": "white",
             "startlinecolor": "#2a3f5f"
            },
            "type": "carpet"
           }
          ],
          "choropleth": [
           {
            "colorbar": {
             "outlinewidth": 0,
             "ticks": ""
            },
            "type": "choropleth"
           }
          ],
          "contour": [
           {
            "colorbar": {
             "outlinewidth": 0,
             "ticks": ""
            },
            "colorscale": [
             [
              0,
              "#0d0887"
             ],
             [
              0.1111111111111111,
              "#46039f"
             ],
             [
              0.2222222222222222,
              "#7201a8"
             ],
             [
              0.3333333333333333,
              "#9c179e"
             ],
             [
              0.4444444444444444,
              "#bd3786"
             ],
             [
              0.5555555555555556,
              "#d8576b"
             ],
             [
              0.6666666666666666,
              "#ed7953"
             ],
             [
              0.7777777777777778,
              "#fb9f3a"
             ],
             [
              0.8888888888888888,
              "#fdca26"
             ],
             [
              1,
              "#f0f921"
             ]
            ],
            "type": "contour"
           }
          ],
          "contourcarpet": [
           {
            "colorbar": {
             "outlinewidth": 0,
             "ticks": ""
            },
            "type": "contourcarpet"
           }
          ],
          "heatmap": [
           {
            "colorbar": {
             "outlinewidth": 0,
             "ticks": ""
            },
            "colorscale": [
             [
              0,
              "#0d0887"
             ],
             [
              0.1111111111111111,
              "#46039f"
             ],
             [
              0.2222222222222222,
              "#7201a8"
             ],
             [
              0.3333333333333333,
              "#9c179e"
             ],
             [
              0.4444444444444444,
              "#bd3786"
             ],
             [
              0.5555555555555556,
              "#d8576b"
             ],
             [
              0.6666666666666666,
              "#ed7953"
             ],
             [
              0.7777777777777778,
              "#fb9f3a"
             ],
             [
              0.8888888888888888,
              "#fdca26"
             ],
             [
              1,
              "#f0f921"
             ]
            ],
            "type": "heatmap"
           }
          ],
          "heatmapgl": [
           {
            "colorbar": {
             "outlinewidth": 0,
             "ticks": ""
            },
            "colorscale": [
             [
              0,
              "#0d0887"
             ],
             [
              0.1111111111111111,
              "#46039f"
             ],
             [
              0.2222222222222222,
              "#7201a8"
             ],
             [
              0.3333333333333333,
              "#9c179e"
             ],
             [
              0.4444444444444444,
              "#bd3786"
             ],
             [
              0.5555555555555556,
              "#d8576b"
             ],
             [
              0.6666666666666666,
              "#ed7953"
             ],
             [
              0.7777777777777778,
              "#fb9f3a"
             ],
             [
              0.8888888888888888,
              "#fdca26"
             ],
             [
              1,
              "#f0f921"
             ]
            ],
            "type": "heatmapgl"
           }
          ],
          "histogram": [
           {
            "marker": {
             "pattern": {
              "fillmode": "overlay",
              "size": 10,
              "solidity": 0.2
             }
            },
            "type": "histogram"
           }
          ],
          "histogram2d": [
           {
            "colorbar": {
             "outlinewidth": 0,
             "ticks": ""
            },
            "colorscale": [
             [
              0,
              "#0d0887"
             ],
             [
              0.1111111111111111,
              "#46039f"
             ],
             [
              0.2222222222222222,
              "#7201a8"
             ],
             [
              0.3333333333333333,
              "#9c179e"
             ],
             [
              0.4444444444444444,
              "#bd3786"
             ],
             [
              0.5555555555555556,
              "#d8576b"
             ],
             [
              0.6666666666666666,
              "#ed7953"
             ],
             [
              0.7777777777777778,
              "#fb9f3a"
             ],
             [
              0.8888888888888888,
              "#fdca26"
             ],
             [
              1,
              "#f0f921"
             ]
            ],
            "type": "histogram2d"
           }
          ],
          "histogram2dcontour": [
           {
            "colorbar": {
             "outlinewidth": 0,
             "ticks": ""
            },
            "colorscale": [
             [
              0,
              "#0d0887"
             ],
             [
              0.1111111111111111,
              "#46039f"
             ],
             [
              0.2222222222222222,
              "#7201a8"
             ],
             [
              0.3333333333333333,
              "#9c179e"
             ],
             [
              0.4444444444444444,
              "#bd3786"
             ],
             [
              0.5555555555555556,
              "#d8576b"
             ],
             [
              0.6666666666666666,
              "#ed7953"
             ],
             [
              0.7777777777777778,
              "#fb9f3a"
             ],
             [
              0.8888888888888888,
              "#fdca26"
             ],
             [
              1,
              "#f0f921"
             ]
            ],
            "type": "histogram2dcontour"
           }
          ],
          "mesh3d": [
           {
            "colorbar": {
             "outlinewidth": 0,
             "ticks": ""
            },
            "type": "mesh3d"
           }
          ],
          "parcoords": [
           {
            "line": {
             "colorbar": {
              "outlinewidth": 0,
              "ticks": ""
             }
            },
            "type": "parcoords"
           }
          ],
          "pie": [
           {
            "automargin": true,
            "type": "pie"
           }
          ],
          "scatter": [
           {
            "fillpattern": {
             "fillmode": "overlay",
             "size": 10,
             "solidity": 0.2
            },
            "type": "scatter"
           }
          ],
          "scatter3d": [
           {
            "line": {
             "colorbar": {
              "outlinewidth": 0,
              "ticks": ""
             }
            },
            "marker": {
             "colorbar": {
              "outlinewidth": 0,
              "ticks": ""
             }
            },
            "type": "scatter3d"
           }
          ],
          "scattercarpet": [
           {
            "marker": {
             "colorbar": {
              "outlinewidth": 0,
              "ticks": ""
             }
            },
            "type": "scattercarpet"
           }
          ],
          "scattergeo": [
           {
            "marker": {
             "colorbar": {
              "outlinewidth": 0,
              "ticks": ""
             }
            },
            "type": "scattergeo"
           }
          ],
          "scattergl": [
           {
            "marker": {
             "colorbar": {
              "outlinewidth": 0,
              "ticks": ""
             }
            },
            "type": "scattergl"
           }
          ],
          "scattermapbox": [
           {
            "marker": {
             "colorbar": {
              "outlinewidth": 0,
              "ticks": ""
             }
            },
            "type": "scattermapbox"
           }
          ],
          "scatterpolar": [
           {
            "marker": {
             "colorbar": {
              "outlinewidth": 0,
              "ticks": ""
             }
            },
            "type": "scatterpolar"
           }
          ],
          "scatterpolargl": [
           {
            "marker": {
             "colorbar": {
              "outlinewidth": 0,
              "ticks": ""
             }
            },
            "type": "scatterpolargl"
           }
          ],
          "scatterternary": [
           {
            "marker": {
             "colorbar": {
              "outlinewidth": 0,
              "ticks": ""
             }
            },
            "type": "scatterternary"
           }
          ],
          "surface": [
           {
            "colorbar": {
             "outlinewidth": 0,
             "ticks": ""
            },
            "colorscale": [
             [
              0,
              "#0d0887"
             ],
             [
              0.1111111111111111,
              "#46039f"
             ],
             [
              0.2222222222222222,
              "#7201a8"
             ],
             [
              0.3333333333333333,
              "#9c179e"
             ],
             [
              0.4444444444444444,
              "#bd3786"
             ],
             [
              0.5555555555555556,
              "#d8576b"
             ],
             [
              0.6666666666666666,
              "#ed7953"
             ],
             [
              0.7777777777777778,
              "#fb9f3a"
             ],
             [
              0.8888888888888888,
              "#fdca26"
             ],
             [
              1,
              "#f0f921"
             ]
            ],
            "type": "surface"
           }
          ],
          "table": [
           {
            "cells": {
             "fill": {
              "color": "#EBF0F8"
             },
             "line": {
              "color": "white"
             }
            },
            "header": {
             "fill": {
              "color": "#C8D4E3"
             },
             "line": {
              "color": "white"
             }
            },
            "type": "table"
           }
          ]
         },
         "layout": {
          "annotationdefaults": {
           "arrowcolor": "#2a3f5f",
           "arrowhead": 0,
           "arrowwidth": 1
          },
          "autotypenumbers": "strict",
          "coloraxis": {
           "colorbar": {
            "outlinewidth": 0,
            "ticks": ""
           }
          },
          "colorscale": {
           "diverging": [
            [
             0,
             "#8e0152"
            ],
            [
             0.1,
             "#c51b7d"
            ],
            [
             0.2,
             "#de77ae"
            ],
            [
             0.3,
             "#f1b6da"
            ],
            [
             0.4,
             "#fde0ef"
            ],
            [
             0.5,
             "#f7f7f7"
            ],
            [
             0.6,
             "#e6f5d0"
            ],
            [
             0.7,
             "#b8e186"
            ],
            [
             0.8,
             "#7fbc41"
            ],
            [
             0.9,
             "#4d9221"
            ],
            [
             1,
             "#276419"
            ]
           ],
           "sequential": [
            [
             0,
             "#0d0887"
            ],
            [
             0.1111111111111111,
             "#46039f"
            ],
            [
             0.2222222222222222,
             "#7201a8"
            ],
            [
             0.3333333333333333,
             "#9c179e"
            ],
            [
             0.4444444444444444,
             "#bd3786"
            ],
            [
             0.5555555555555556,
             "#d8576b"
            ],
            [
             0.6666666666666666,
             "#ed7953"
            ],
            [
             0.7777777777777778,
             "#fb9f3a"
            ],
            [
             0.8888888888888888,
             "#fdca26"
            ],
            [
             1,
             "#f0f921"
            ]
           ],
           "sequentialminus": [
            [
             0,
             "#0d0887"
            ],
            [
             0.1111111111111111,
             "#46039f"
            ],
            [
             0.2222222222222222,
             "#7201a8"
            ],
            [
             0.3333333333333333,
             "#9c179e"
            ],
            [
             0.4444444444444444,
             "#bd3786"
            ],
            [
             0.5555555555555556,
             "#d8576b"
            ],
            [
             0.6666666666666666,
             "#ed7953"
            ],
            [
             0.7777777777777778,
             "#fb9f3a"
            ],
            [
             0.8888888888888888,
             "#fdca26"
            ],
            [
             1,
             "#f0f921"
            ]
           ]
          },
          "colorway": [
           "#636efa",
           "#EF553B",
           "#00cc96",
           "#ab63fa",
           "#FFA15A",
           "#19d3f3",
           "#FF6692",
           "#B6E880",
           "#FF97FF",
           "#FECB52"
          ],
          "font": {
           "color": "#2a3f5f"
          },
          "geo": {
           "bgcolor": "white",
           "lakecolor": "white",
           "landcolor": "#E5ECF6",
           "showlakes": true,
           "showland": true,
           "subunitcolor": "white"
          },
          "hoverlabel": {
           "align": "left"
          },
          "hovermode": "closest",
          "mapbox": {
           "style": "light"
          },
          "paper_bgcolor": "white",
          "plot_bgcolor": "#E5ECF6",
          "polar": {
           "angularaxis": {
            "gridcolor": "white",
            "linecolor": "white",
            "ticks": ""
           },
           "bgcolor": "#E5ECF6",
           "radialaxis": {
            "gridcolor": "white",
            "linecolor": "white",
            "ticks": ""
           }
          },
          "scene": {
           "xaxis": {
            "backgroundcolor": "#E5ECF6",
            "gridcolor": "white",
            "gridwidth": 2,
            "linecolor": "white",
            "showbackground": true,
            "ticks": "",
            "zerolinecolor": "white"
           },
           "yaxis": {
            "backgroundcolor": "#E5ECF6",
            "gridcolor": "white",
            "gridwidth": 2,
            "linecolor": "white",
            "showbackground": true,
            "ticks": "",
            "zerolinecolor": "white"
           },
           "zaxis": {
            "backgroundcolor": "#E5ECF6",
            "gridcolor": "white",
            "gridwidth": 2,
            "linecolor": "white",
            "showbackground": true,
            "ticks": "",
            "zerolinecolor": "white"
           }
          },
          "shapedefaults": {
           "line": {
            "color": "#2a3f5f"
           }
          },
          "ternary": {
           "aaxis": {
            "gridcolor": "white",
            "linecolor": "white",
            "ticks": ""
           },
           "baxis": {
            "gridcolor": "white",
            "linecolor": "white",
            "ticks": ""
           },
           "bgcolor": "#E5ECF6",
           "caxis": {
            "gridcolor": "white",
            "linecolor": "white",
            "ticks": ""
           }
          },
          "title": {
           "x": 0.05
          },
          "xaxis": {
           "automargin": true,
           "gridcolor": "white",
           "linecolor": "white",
           "ticks": "",
           "title": {
            "standoff": 15
           },
           "zerolinecolor": "white",
           "zerolinewidth": 2
          },
          "yaxis": {
           "automargin": true,
           "gridcolor": "white",
           "linecolor": "white",
           "ticks": "",
           "title": {
            "standoff": 15
           },
           "zerolinecolor": "white",
           "zerolinewidth": 2
          }
         }
        },
        "title": {
         "font": {
          "size": 22
         },
         "text": "Visualización de Pokemon usando t-SNE <br> Coloreados por tipo secundario",
         "x": 0.5,
         "xref": "paper"
        },
        "xaxis": {
         "anchor": "y",
         "domain": [
          0,
          1
         ],
         "title": {
          "text": "t-SNE dimension 1"
         }
        },
        "yaxis": {
         "anchor": "x",
         "domain": [
          0,
          1
         ],
         "title": {
          "text": "t-SNE dimension 2"
         }
        }
       }
      },
      "text/html": [
       "<div>                            <div id=\"02b66002-95da-4c7d-86a8-3d64d12e4df6\" class=\"plotly-graph-div\" style=\"height:525px; width:100%;\"></div>            <script type=\"text/javascript\">                require([\"plotly\"], function(Plotly) {                    window.PLOTLYENV=window.PLOTLYENV || {};                                    if (document.getElementById(\"02b66002-95da-4c7d-86a8-3d64d12e4df6\")) {                    Plotly.newPlot(                        \"02b66002-95da-4c7d-86a8-3d64d12e4df6\",                        [{\"customdata\":[[0,0,1,\"Bulbasaur\",\"Grass\",\"Poison\",318,45,49,49,65,65,45,1,false],[1,1,2,\"Ivysaur\",\"Grass\",\"Poison\",405,60,62,63,80,80,60,1,false],[2,2,3,\"Venusaur\",\"Grass\",\"Poison\",525,80,82,83,100,100,80,1,false],[12,16,13,\"Weedle\",\"Bug\",\"Poison\",195,40,35,30,20,20,50,1,false],[13,17,14,\"Kakuna\",\"Bug\",\"Poison\",205,45,25,50,25,25,35,1,false],[14,18,15,\"Beedrill\",\"Bug\",\"Poison\",395,65,90,40,45,80,75,1,false],[42,48,43,\"Oddish\",\"Grass\",\"Poison\",320,45,50,55,75,65,30,1,false],[43,49,44,\"Gloom\",\"Grass\",\"Poison\",395,60,65,70,85,75,40,1,false],[44,50,45,\"Vileplume\",\"Grass\",\"Poison\",490,75,80,85,110,90,50,1,false],[47,53,48,\"Venonat\",\"Bug\",\"Poison\",305,60,55,50,40,55,45,1,false],[48,54,49,\"Venomoth\",\"Bug\",\"Poison\",450,70,65,60,90,75,90,1,false],[68,75,69,\"Bellsprout\",\"Grass\",\"Poison\",300,50,75,35,70,30,40,1,false],[69,76,70,\"Weepinbell\",\"Grass\",\"Poison\",390,65,90,50,85,45,55,1,false],[70,77,71,\"Victreebel\",\"Grass\",\"Poison\",490,80,105,65,100,70,70,1,false],[71,78,72,\"Tentacool\",\"Water\",\"Poison\",335,40,40,35,50,100,70,1,false],[72,79,73,\"Tentacruel\",\"Water\",\"Poison\",515,80,70,65,80,120,100,1,false],[91,99,92,\"Gastly\",\"Ghost\",\"Poison\",310,30,35,30,100,35,80,1,false],[92,100,93,\"Haunter\",\"Ghost\",\"Poison\",405,45,50,45,115,55,95,1,false],[93,101,94,\"Gengar\",\"Ghost\",\"Poison\",500,60,65,60,130,75,110,1,false]],\"hovertemplate\":\"<b>%{hovertext}</b><br><br>Type 2=%{customdata[5]}<br>t-SNE dimension 1=%{x}<br>t-SNE dimension 2=%{y}<br>Name=%{customdata[3]}<br>level_0=%{customdata[0]}<br>index=%{customdata[1]}<br>#=%{customdata[2]}<br>Type 1=%{customdata[4]}<br>Total=%{customdata[6]}<br>HP=%{customdata[7]}<br>Attack=%{customdata[8]}<br>Defense=%{customdata[9]}<br>Sp. Atk=%{customdata[10]}<br>Sp. Def=%{customdata[11]}<br>Speed=%{customdata[12]}<br>Generation=%{customdata[13]}<br>Legendary=%{customdata[14]}<extra></extra>\",\"hovertext\":[\"Bulbasaur\",\"Ivysaur\",\"Venusaur\",\"Weedle\",\"Kakuna\",\"Beedrill\",\"Oddish\",\"Gloom\",\"Vileplume\",\"Venonat\",\"Venomoth\",\"Bellsprout\",\"Weepinbell\",\"Victreebel\",\"Tentacool\",\"Tentacruel\",\"Gastly\",\"Haunter\",\"Gengar\"],\"legendgroup\":\"Poison\",\"marker\":{\"color\":\"#636efa\",\"symbol\":\"circle\"},\"mode\":\"markers+text\",\"name\":\"Poison\",\"orientation\":\"v\",\"showlegend\":true,\"text\":[\"Bulbasaur\",\"Ivysaur\",\"Venusaur\",\"Weedle\",\"Kakuna\",\"Beedrill\",\"Oddish\",\"Gloom\",\"Vileplume\",\"Venonat\",\"Venomoth\",\"Bellsprout\",\"Weepinbell\",\"Victreebel\",\"Tentacool\",\"Tentacruel\",\"Gastly\",\"Haunter\",\"Gengar\"],\"x\":[9.89006233215332,9.952411651611328,10.447258949279785,9.132299423217773,9.130996704101562,8.867867469787598,9.66016674041748,9.641215324401855,10.0548095703125,9.039457321166992,8.939078330993652,10.403642654418945,10.591083526611328,10.716132164001465,6.728630542755127,6.6616597175598145,11.565092086791992,11.59367561340332,11.634655952453613],\"xaxis\":\"x\",\"y\":[0.18756330013275146,0.8458612561225891,1.429657220840454,-2.810502767562866,-2.8087310791015625,-2.0215044021606445,0.32538363337516785,0.8632476329803467,1.3627777099609375,-2.387242317199707,-1.8904502391815186,0.07250721007585526,0.4959731101989746,1.0051885843276978,-0.4393119215965271,-0.42916038632392883,-1.6649106740951538,-1.6329210996627808,-1.6187214851379395],\"yaxis\":\"y\",\"type\":\"scatter\"},{\"customdata\":[[3,4,4,\"Charmander\",\"Fire\",\"None\",309,39,52,43,60,50,65,1,false],[4,5,5,\"Charmeleon\",\"Fire\",\"None\",405,58,64,58,80,65,80,1,false],[6,9,7,\"Squirtle\",\"Water\",\"None\",314,44,48,65,50,64,43,1,false],[7,10,8,\"Wartortle\",\"Water\",\"None\",405,59,63,80,65,80,58,1,false],[8,11,9,\"Blastoise\",\"Water\",\"None\",530,79,83,100,85,105,78,1,false],[9,13,10,\"Caterpie\",\"Bug\",\"None\",195,45,30,35,20,20,45,1,false],[10,14,11,\"Metapod\",\"Bug\",\"None\",205,50,20,55,25,25,30,1,false],[18,24,19,\"Rattata\",\"Normal\",\"None\",253,30,56,35,25,35,72,1,false],[19,25,20,\"Raticate\",\"Normal\",\"None\",413,55,81,60,50,70,97,1,false],[22,28,23,\"Ekans\",\"Poison\",\"None\",288,35,60,44,40,54,55,1,false],[23,29,24,\"Arbok\",\"Poison\",\"None\",438,60,85,69,65,79,80,1,false],[24,30,25,\"Pikachu\",\"Electric\",\"None\",320,35,55,40,50,50,90,1,false],[25,31,26,\"Raichu\",\"Electric\",\"None\",485,60,90,55,90,80,110,1,false],[26,32,27,\"Sandshrew\",\"Ground\",\"None\",300,50,75,85,20,30,40,1,false],[27,33,28,\"Sandslash\",\"Ground\",\"None\",450,75,100,110,45,55,65,1,false],[28,34,29,\"Nidoran\\u2640\",\"Poison\",\"None\",275,55,47,52,40,40,41,1,false],[29,35,30,\"Nidorina\",\"Poison\",\"None\",365,70,62,67,55,55,56,1,false],[31,37,32,\"Nidoran\\u2642\",\"Poison\",\"None\",273,46,57,40,40,40,50,1,false],[32,38,33,\"Nidorino\",\"Poison\",\"None\",365,61,72,57,55,55,65,1,false],[34,40,35,\"Clefairy\",\"Fairy\",\"None\",323,70,45,48,60,65,35,1,false],[35,41,36,\"Clefable\",\"Fairy\",\"None\",483,95,70,73,95,90,60,1,false],[36,42,37,\"Vulpix\",\"Fire\",\"None\",299,38,41,40,50,65,65,1,false],[37,43,38,\"Ninetales\",\"Fire\",\"None\",505,73,76,75,81,100,100,1,false],[49,55,50,\"Diglett\",\"Ground\",\"None\",265,10,55,25,35,45,95,1,false],[50,56,51,\"Dugtrio\",\"Ground\",\"None\",405,35,80,50,50,70,120,1,false],[51,57,52,\"Meowth\",\"Normal\",\"None\",290,40,45,35,40,40,90,1,false],[52,58,53,\"Persian\",\"Normal\",\"None\",440,65,70,60,65,65,115,1,false],[53,59,54,\"Psyduck\",\"Water\",\"None\",320,50,52,48,65,50,55,1,false],[54,60,55,\"Golduck\",\"Water\",\"None\",500,80,82,78,95,80,85,1,false],[55,61,56,\"Mankey\",\"Fighting\",\"None\",305,40,80,35,35,45,70,1,false],[56,62,57,\"Primeape\",\"Fighting\",\"None\",455,65,105,60,60,70,95,1,false],[57,63,58,\"Growlithe\",\"Fire\",\"None\",350,55,70,45,70,50,60,1,false],[58,64,59,\"Arcanine\",\"Fire\",\"None\",555,90,110,80,100,80,95,1,false],[59,65,60,\"Poliwag\",\"Water\",\"None\",300,40,50,40,40,40,90,1,false],[60,66,61,\"Poliwhirl\",\"Water\",\"None\",385,65,65,65,50,50,90,1,false],[62,68,63,\"Abra\",\"Psychic\",\"None\",310,25,20,15,105,55,90,1,false],[63,69,64,\"Kadabra\",\"Psychic\",\"None\",400,40,35,30,120,70,105,1,false],[64,70,65,\"Alakazam\",\"Psychic\",\"None\",500,55,50,45,135,95,120,1,false],[65,72,66,\"Machop\",\"Fighting\",\"None\",305,70,80,50,35,35,35,1,false],[66,73,67,\"Machoke\",\"Fighting\",\"None\",405,80,100,70,50,60,45,1,false],[67,74,68,\"Machamp\",\"Fighting\",\"None\",505,90,130,80,65,85,55,1,false],[76,83,77,\"Ponyta\",\"Fire\",\"None\",410,50,85,55,65,65,90,1,false],[77,84,78,\"Rapidash\",\"Fire\",\"None\",500,65,100,70,80,80,105,1,false],[85,93,86,\"Seel\",\"Water\",\"None\",325,65,45,55,45,70,45,1,false],[87,95,88,\"Grimer\",\"Poison\",\"None\",325,80,80,50,40,50,25,1,false],[88,96,89,\"Muk\",\"Poison\",\"None\",500,105,105,75,65,100,50,1,false],[89,97,90,\"Shellder\",\"Water\",\"None\",305,30,65,100,45,25,40,1,false],[95,104,96,\"Drowzee\",\"Psychic\",\"None\",328,60,48,45,43,90,42,1,false],[96,105,97,\"Hypno\",\"Psychic\",\"None\",483,85,73,70,73,115,67,1,false],[97,106,98,\"Krabby\",\"Water\",\"None\",325,30,105,90,25,25,50,1,false],[98,107,99,\"Kingler\",\"Water\",\"None\",475,55,130,115,50,50,75,1,false],[99,108,100,\"Voltorb\",\"Electric\",\"None\",330,40,30,50,55,55,100,1,false],[100,109,101,\"Electrode\",\"Electric\",\"None\",480,60,50,70,80,80,140,1,false],[103,112,104,\"Cubone\",\"Ground\",\"None\",320,50,50,95,40,50,35,1,false],[104,113,105,\"Marowak\",\"Ground\",\"None\",425,60,80,110,50,80,45,1,false],[105,114,106,\"Hitmonlee\",\"Fighting\",\"None\",455,50,120,53,35,110,87,1,false],[106,115,107,\"Hitmonchan\",\"Fighting\",\"None\",455,50,105,79,35,110,76,1,false],[107,116,108,\"Lickitung\",\"Normal\",\"None\",385,90,55,75,60,75,30,1,false],[108,117,109,\"Koffing\",\"Poison\",\"None\",340,40,65,95,60,45,35,1,false],[109,118,110,\"Weezing\",\"Poison\",\"None\",490,65,90,120,85,70,60,1,false],[112,121,113,\"Chansey\",\"Normal\",\"None\",450,250,5,5,35,105,50,1,false],[113,122,114,\"Tangela\",\"Grass\",\"None\",435,65,55,115,100,40,60,1,false],[114,123,115,\"Kangaskhan\",\"Normal\",\"None\",490,105,95,80,40,80,90,1,false],[115,125,116,\"Horsea\",\"Water\",\"None\",295,30,40,70,70,25,60,1,false],[116,126,117,\"Seadra\",\"Water\",\"None\",440,55,65,95,95,45,85,1,false],[117,127,118,\"Goldeen\",\"Water\",\"None\",320,45,67,60,35,50,63,1,false],[118,128,119,\"Seaking\",\"Water\",\"None\",450,80,92,65,65,80,68,1,false],[119,129,120,\"Staryu\",\"Water\",\"None\",340,30,45,55,70,55,85,1,false],[124,134,125,\"Electabuzz\",\"Electric\",\"None\",490,65,83,57,95,85,105,1,false],[125,135,126,\"Magmar\",\"Fire\",\"None\",495,65,95,57,100,85,93,1,false],[126,136,127,\"Pinsir\",\"Bug\",\"None\",500,65,125,100,55,70,85,1,false],[127,138,128,\"Tauros\",\"Normal\",\"None\",490,75,100,95,40,70,110,1,false],[128,139,129,\"Magikarp\",\"Water\",\"None\",200,20,10,55,15,20,80,1,false],[131,143,132,\"Ditto\",\"Normal\",\"None\",288,48,48,48,48,48,48,1,false],[132,144,133,\"Eevee\",\"Normal\",\"None\",325,55,55,50,45,65,55,1,false],[133,145,134,\"Vaporeon\",\"Water\",\"None\",525,130,65,60,110,95,65,1,false],[134,146,135,\"Jolteon\",\"Electric\",\"None\",525,65,65,60,110,95,130,1,false],[135,147,136,\"Flareon\",\"Fire\",\"None\",525,65,130,60,95,110,65,1,false],[136,148,137,\"Porygon\",\"Normal\",\"None\",395,65,60,70,85,75,40,1,false],[142,155,143,\"Snorlax\",\"Normal\",\"None\",540,160,110,65,65,110,30,1,false],[146,159,147,\"Dratini\",\"Dragon\",\"None\",300,41,64,45,50,50,50,1,false],[147,160,148,\"Dragonair\",\"Dragon\",\"None\",420,61,84,65,70,70,70,1,false],[149,162,150,\"Mewtwo\",\"Psychic\",\"None\",680,106,110,90,154,90,130,1,true],[150,165,151,\"Mew\",\"Psychic\",\"None\",600,100,100,100,100,100,100,1,false]],\"hovertemplate\":\"<b>%{hovertext}</b><br><br>Type 2=%{customdata[5]}<br>t-SNE dimension 1=%{x}<br>t-SNE dimension 2=%{y}<br>Name=%{customdata[3]}<br>level_0=%{customdata[0]}<br>index=%{customdata[1]}<br>#=%{customdata[2]}<br>Type 1=%{customdata[4]}<br>Total=%{customdata[6]}<br>HP=%{customdata[7]}<br>Attack=%{customdata[8]}<br>Defense=%{customdata[9]}<br>Sp. Atk=%{customdata[10]}<br>Sp. Def=%{customdata[11]}<br>Speed=%{customdata[12]}<br>Generation=%{customdata[13]}<br>Legendary=%{customdata[14]}<extra></extra>\",\"hovertext\":[\"Charmander\",\"Charmeleon\",\"Squirtle\",\"Wartortle\",\"Blastoise\",\"Caterpie\",\"Metapod\",\"Rattata\",\"Raticate\",\"Ekans\",\"Arbok\",\"Pikachu\",\"Raichu\",\"Sandshrew\",\"Sandslash\",\"Nidoran\\u2640\",\"Nidorina\",\"Nidoran\\u2642\",\"Nidorino\",\"Clefairy\",\"Clefable\",\"Vulpix\",\"Ninetales\",\"Diglett\",\"Dugtrio\",\"Meowth\",\"Persian\",\"Psyduck\",\"Golduck\",\"Mankey\",\"Primeape\",\"Growlithe\",\"Arcanine\",\"Poliwag\",\"Poliwhirl\",\"Abra\",\"Kadabra\",\"Alakazam\",\"Machop\",\"Machoke\",\"Machamp\",\"Ponyta\",\"Rapidash\",\"Seel\",\"Grimer\",\"Muk\",\"Shellder\",\"Drowzee\",\"Hypno\",\"Krabby\",\"Kingler\",\"Voltorb\",\"Electrode\",\"Cubone\",\"Marowak\",\"Hitmonlee\",\"Hitmonchan\",\"Lickitung\",\"Koffing\",\"Weezing\",\"Chansey\",\"Tangela\",\"Kangaskhan\",\"Horsea\",\"Seadra\",\"Goldeen\",\"Seaking\",\"Staryu\",\"Electabuzz\",\"Magmar\",\"Pinsir\",\"Tauros\",\"Magikarp\",\"Ditto\",\"Eevee\",\"Vaporeon\",\"Jolteon\",\"Flareon\",\"Porygon\",\"Snorlax\",\"Dratini\",\"Dragonair\",\"Mewtwo\",\"Mew\"],\"legendgroup\":\"None\",\"marker\":{\"color\":\"#EF553B\",\"symbol\":\"circle\"},\"mode\":\"markers+text\",\"name\":\"None\",\"orientation\":\"v\",\"showlegend\":true,\"text\":[\"Charmander\",\"Charmeleon\",\"Squirtle\",\"Wartortle\",\"Blastoise\",\"Caterpie\",\"Metapod\",\"Rattata\",\"Raticate\",\"Ekans\",\"Arbok\",\"Pikachu\",\"Raichu\",\"Sandshrew\",\"Sandslash\",\"Nidoran\\u2640\",\"Nidorina\",\"Nidoran\\u2642\",\"Nidorino\",\"Clefairy\",\"Clefable\",\"Vulpix\",\"Ninetales\",\"Diglett\",\"Dugtrio\",\"Meowth\",\"Persian\",\"Psyduck\",\"Golduck\",\"Mankey\",\"Primeape\",\"Growlithe\",\"Arcanine\",\"Poliwag\",\"Poliwhirl\",\"Abra\",\"Kadabra\",\"Alakazam\",\"Machop\",\"Machoke\",\"Machamp\",\"Ponyta\",\"Rapidash\",\"Seel\",\"Grimer\",\"Muk\",\"Shellder\",\"Drowzee\",\"Hypno\",\"Krabby\",\"Kingler\",\"Voltorb\",\"Electrode\",\"Cubone\",\"Marowak\",\"Hitmonlee\",\"Hitmonchan\",\"Lickitung\",\"Koffing\",\"Weezing\",\"Chansey\",\"Tangela\",\"Kangaskhan\",\"Horsea\",\"Seadra\",\"Goldeen\",\"Seaking\",\"Staryu\",\"Electabuzz\",\"Magmar\",\"Pinsir\",\"Tauros\",\"Magikarp\",\"Ditto\",\"Eevee\",\"Vaporeon\",\"Jolteon\",\"Flareon\",\"Porygon\",\"Snorlax\",\"Dratini\",\"Dragonair\",\"Mewtwo\",\"Mew\"],\"x\":[-4.007596969604492,-4.413737773895264,0.7966622114181519,1.7302063703536987,2.2631564140319824,-2.2110142707824707,-2.1994056701660156,-1.6037445068359375,-2.62900972366333,-6.3920464515686035,-7.262239456176758,-1.2691164016723633,-1.8804341554641724,-8.821792602539062,-8.507685661315918,-6.691610813140869,-7.15151309967041,-6.3917670249938965,-6.887848377227783,-6.700742244720459,-6.708493709564209,-4.317385673522949,-3.7533035278320312,-8.178058624267578,-7.995998859405518,-1.7767791748046875,-2.5381150245666504,0.9272511005401611,2.2063207626342773,-6.283779144287109,-5.827238082885742,-3.7862157821655273,-4.1909589767456055,0.7175142168998718,1.009170413017273,-10.256986618041992,-10.555602073669434,-11.008214950561523,-6.549496650695801,-6.401397228240967,-6.2985100746154785,-3.808382511138916,-4.099053382873535,1.305402159690857,-6.4380645751953125,-7.679202556610107,-0.14573584496974945,-10.390015602111816,-10.965696334838867,0.05863712728023529,0.9703471064567566,-1.2213075160980225,-1.5004626512527466,-8.790579795837402,-8.5890474319458,-5.773821830749512,-5.8437910079956055,-2.7759130001068115,-7.2912917137146,-7.822657585144043,-3.4645912647247314,3.2849631309509277,-3.2679481506347656,0.15812435746192932,2.1887729167938232,0.462723046541214,1.6142526865005493,1.4049540758132935,-1.8779579401016235,-4.600762367248535,-2.5001842975616455,-3.0994627475738525,-0.03559287264943123,-1.938154697418213,-2.2726869583129883,2.628382444381714,-1.8153966665267944,-4.7239460945129395,-2.7832415103912354,-3.7372024059295654,-4.592924118041992,-4.588672637939453,-12.036945343017578,-11.430074691772461],\"xaxis\":\"x\",\"y\":[3.1912777423858643,3.7409911155700684,2.605257987976074,2.322061538696289,1.3769645690917969,0.29102787375450134,0.27746525406837463,-3.404195547103882,-3.0131208896636963,-1.3324693441390991,-2.127969741821289,7.07417106628418,7.549504280090332,4.512341499328613,4.943828105926514,-0.8037798404693604,-1.3514430522918701,-1.0235154628753662,-1.7340757846832275,1.9495251178741455,1.969264268875122,3.16642165184021,4.581401348114014,4.220127105712891,4.4968037605285645,-3.1449413299560547,-2.732774019241333,3.049783229827881,1.930345058441162,7.3523454666137695,7.842350959777832,3.4452712535858154,4.89119291305542,3.6320629119873047,2.0150697231292725,1.2887557744979858,1.3289717435836792,1.3526793718338013,7.348329544067383,7.773645877838135,8.328368186950684,3.9361379146575928,4.492746353149414,2.766360282897949,-1.783765196800232,-2.3081085681915283,2.5092382431030273,0.6660450100898743,0.7807227969169617,1.706673502922058,1.0519237518310547,7.142775535583496,7.789402484893799,4.562861919403076,4.9524383544921875,8.382163047790527,8.362256050109863,-4.098404884338379,-1.0042953491210938,-1.7708956003189087,-4.787238121032715,4.613425254821777,-3.139094352722168,3.1235978603363037,3.170427083969116,2.2735393047332764,1.557148814201355,3.4140357971191406,7.587588787078857,4.345576286315918,0.6462465524673462,-2.7023696899414062,3.785808801651001,-3.8777928352355957,-3.717026710510254,2.104569911956787,7.926758766174316,4.877816200256348,-3.9126269817352295,-3.8464770317077637,0.815016508102417,0.8243056535720825,1.7513532638549805,1.1449525356292725],\"yaxis\":\"y\",\"type\":\"scatter\"},{\"customdata\":[[5,6,6,\"Charizard\",\"Fire\",\"Flying\",534,78,84,78,109,85,100,1,false],[11,15,12,\"Butterfree\",\"Bug\",\"Flying\",395,60,45,50,90,80,70,1,false],[15,20,16,\"Pidgey\",\"Normal\",\"Flying\",251,40,45,40,35,35,56,1,false],[16,21,17,\"Pidgeotto\",\"Normal\",\"Flying\",349,63,60,55,50,50,71,1,false],[17,22,18,\"Pidgeot\",\"Normal\",\"Flying\",479,83,80,75,70,70,101,1,false],[20,26,21,\"Spearow\",\"Normal\",\"Flying\",262,40,60,30,31,31,70,1,false],[21,27,22,\"Fearow\",\"Normal\",\"Flying\",442,65,90,65,61,61,100,1,false],[40,46,41,\"Zubat\",\"Poison\",\"Flying\",245,40,45,35,30,40,55,1,false],[41,47,42,\"Golbat\",\"Poison\",\"Flying\",455,75,80,70,65,75,90,1,false],[82,90,83,\"Farfetch'd\",\"Normal\",\"Flying\",352,52,65,55,58,62,60,1,false],[83,91,84,\"Doduo\",\"Normal\",\"Flying\",310,35,85,45,35,35,75,1,false],[84,92,85,\"Dodrio\",\"Normal\",\"Flying\",460,60,110,70,60,60,100,1,false],[122,132,123,\"Scyther\",\"Bug\",\"Flying\",500,70,110,80,55,80,105,1,false],[129,140,130,\"Gyarados\",\"Water\",\"Flying\",540,95,125,79,60,100,81,1,false],[141,153,142,\"Aerodactyl\",\"Rock\",\"Flying\",515,80,105,65,60,75,130,1,false],[143,156,144,\"Articuno\",\"Ice\",\"Flying\",580,90,85,100,95,125,85,1,true],[144,157,145,\"Zapdos\",\"Electric\",\"Flying\",580,90,90,85,125,90,100,1,true],[145,158,146,\"Moltres\",\"Fire\",\"Flying\",580,90,100,90,125,85,90,1,true],[148,161,149,\"Dragonite\",\"Dragon\",\"Flying\",600,91,134,95,100,100,80,1,false]],\"hovertemplate\":\"<b>%{hovertext}</b><br><br>Type 2=%{customdata[5]}<br>t-SNE dimension 1=%{x}<br>t-SNE dimension 2=%{y}<br>Name=%{customdata[3]}<br>level_0=%{customdata[0]}<br>index=%{customdata[1]}<br>#=%{customdata[2]}<br>Type 1=%{customdata[4]}<br>Total=%{customdata[6]}<br>HP=%{customdata[7]}<br>Attack=%{customdata[8]}<br>Defense=%{customdata[9]}<br>Sp. Atk=%{customdata[10]}<br>Sp. Def=%{customdata[11]}<br>Speed=%{customdata[12]}<br>Generation=%{customdata[13]}<br>Legendary=%{customdata[14]}<extra></extra>\",\"hovertext\":[\"Charizard\",\"Butterfree\",\"Pidgey\",\"Pidgeotto\",\"Pidgeot\",\"Spearow\",\"Fearow\",\"Zubat\",\"Golbat\",\"Farfetch'd\",\"Doduo\",\"Dodrio\",\"Scyther\",\"Gyarados\",\"Aerodactyl\",\"Articuno\",\"Zapdos\",\"Moltres\",\"Dragonite\"],\"legendgroup\":\"Flying\",\"marker\":{\"color\":\"#00cc96\",\"symbol\":\"circle\"},\"mode\":\"markers+text\",\"name\":\"Flying\",\"orientation\":\"v\",\"showlegend\":true,\"text\":[\"Charizard\",\"Butterfree\",\"Pidgey\",\"Pidgeotto\",\"Pidgeot\",\"Spearow\",\"Fearow\",\"Zubat\",\"Golbat\",\"Farfetch'd\",\"Doduo\",\"Dodrio\",\"Scyther\",\"Gyarados\",\"Aerodactyl\",\"Articuno\",\"Zapdos\",\"Moltres\",\"Dragonite\"],\"x\":[4.439121723175049,4.930185317993164,0.6309354305267334,1.1521269083023071,1.9894741773605347,0.8289931416511536,1.8728082180023193,1.8802919387817383,2.132871627807617,1.1952998638153076,1.2412408590316772,2.026059150695801,4.804583549499512,3.8431127071380615,3.248147487640381,5.314170837402344,5.206244945526123,4.793299198150635,3.737093687057495],\"xaxis\":\"x\",\"y\":[-6.94641637802124,-5.1294264793396,-7.173145294189453,-6.92950963973999,-6.816481590270996,-7.526260852813721,-7.113518714904785,-4.850299835205078,-4.935186862945557,-6.734018802642822,-7.625522136688232,-7.343883991241455,-5.167529106140137,-3.749290943145752,-6.419066429138184,-7.850609302520752,-7.931609153747559,-7.362118244171143,-5.66710901260376],\"yaxis\":\"y\",\"type\":\"scatter\"},{\"customdata\":[[30,36,31,\"Nidoqueen\",\"Poison\",\"Ground\",505,90,92,87,75,85,76,1,false],[33,39,34,\"Nidoking\",\"Poison\",\"Ground\",505,81,102,77,85,75,85,1,false],[73,80,74,\"Geodude\",\"Rock\",\"Ground\",300,40,80,100,30,30,20,1,false],[74,81,75,\"Graveler\",\"Rock\",\"Ground\",390,55,95,115,45,45,35,1,false],[75,82,76,\"Golem\",\"Rock\",\"Ground\",495,80,120,130,55,65,45,1,false],[94,103,95,\"Onix\",\"Rock\",\"Ground\",385,35,45,160,30,45,70,1,false]],\"hovertemplate\":\"<b>%{hovertext}</b><br><br>Type 2=%{customdata[5]}<br>t-SNE dimension 1=%{x}<br>t-SNE dimension 2=%{y}<br>Name=%{customdata[3]}<br>level_0=%{customdata[0]}<br>index=%{customdata[1]}<br>#=%{customdata[2]}<br>Type 1=%{customdata[4]}<br>Total=%{customdata[6]}<br>HP=%{customdata[7]}<br>Attack=%{customdata[8]}<br>Defense=%{customdata[9]}<br>Sp. Atk=%{customdata[10]}<br>Sp. Def=%{customdata[11]}<br>Speed=%{customdata[12]}<br>Generation=%{customdata[13]}<br>Legendary=%{customdata[14]}<extra></extra>\",\"hovertext\":[\"Nidoqueen\",\"Nidoking\",\"Geodude\",\"Graveler\",\"Golem\",\"Onix\"],\"legendgroup\":\"Ground\",\"marker\":{\"color\":\"#ab63fa\",\"symbol\":\"circle\"},\"mode\":\"markers+text\",\"name\":\"Ground\",\"orientation\":\"v\",\"showlegend\":true,\"text\":[\"Nidoqueen\",\"Nidoking\",\"Geodude\",\"Graveler\",\"Golem\",\"Onix\"],\"x\":[-7.65940523147583,-7.661901950836182,-7.038389682769775,-6.976135730743408,-6.9369215965271,-7.068241119384766],\"xaxis\":\"x\",\"y\":[-5.261404991149902,-5.26013708114624,-8.287483215332031,-8.221010208129883,-8.105046272277832,-8.34922981262207],\"yaxis\":\"y\",\"type\":\"scatter\"},{\"customdata\":[[38,44,39,\"Jigglypuff\",\"Normal\",\"Fairy\",270,115,45,20,45,25,20,1,false],[39,45,40,\"Wigglytuff\",\"Normal\",\"Fairy\",435,140,70,45,85,50,45,1,false],[121,131,122,\"Mr. Mime\",\"Psychic\",\"Fairy\",460,40,45,65,100,120,90,1,false]],\"hovertemplate\":\"<b>%{hovertext}</b><br><br>Type 2=%{customdata[5]}<br>t-SNE dimension 1=%{x}<br>t-SNE dimension 2=%{y}<br>Name=%{customdata[3]}<br>level_0=%{customdata[0]}<br>index=%{customdata[1]}<br>#=%{customdata[2]}<br>Type 1=%{customdata[4]}<br>Total=%{customdata[6]}<br>HP=%{customdata[7]}<br>Attack=%{customdata[8]}<br>Defense=%{customdata[9]}<br>Sp. Atk=%{customdata[10]}<br>Sp. Def=%{customdata[11]}<br>Speed=%{customdata[12]}<br>Generation=%{customdata[13]}<br>Legendary=%{customdata[14]}<extra></extra>\",\"hovertext\":[\"Jigglypuff\",\"Wigglytuff\",\"Mr. Mime\"],\"legendgroup\":\"Fairy\",\"marker\":{\"color\":\"#FFA15A\",\"symbol\":\"circle\"},\"mode\":\"markers+text\",\"name\":\"Fairy\",\"orientation\":\"v\",\"showlegend\":true,\"text\":[\"Jigglypuff\",\"Wigglytuff\",\"Mr. Mime\"],\"x\":[-1.4485105276107788,-1.4668877124786377,-11.636857032775879],\"xaxis\":\"x\",\"y\":[-6.686080455780029,-6.67164945602417,-0.11870008707046509],\"yaxis\":\"y\",\"type\":\"scatter\"},{\"customdata\":[[45,51,46,\"Paras\",\"Bug\",\"Grass\",285,35,70,55,45,55,25,1,false],[46,52,47,\"Parasect\",\"Bug\",\"Grass\",405,60,95,80,60,80,30,1,false]],\"hovertemplate\":\"<b>%{hovertext}</b><br><br>Type 2=%{customdata[5]}<br>t-SNE dimension 1=%{x}<br>t-SNE dimension 2=%{y}<br>Name=%{customdata[3]}<br>level_0=%{customdata[0]}<br>index=%{customdata[1]}<br>#=%{customdata[2]}<br>Type 1=%{customdata[4]}<br>Total=%{customdata[6]}<br>HP=%{customdata[7]}<br>Attack=%{customdata[8]}<br>Defense=%{customdata[9]}<br>Sp. Atk=%{customdata[10]}<br>Sp. Def=%{customdata[11]}<br>Speed=%{customdata[12]}<br>Generation=%{customdata[13]}<br>Legendary=%{customdata[14]}<extra></extra>\",\"hovertext\":[\"Paras\",\"Parasect\"],\"legendgroup\":\"Grass\",\"marker\":{\"color\":\"#19d3f3\",\"symbol\":\"circle\"},\"mode\":\"markers+text\",\"name\":\"Grass\",\"orientation\":\"v\",\"showlegend\":true,\"text\":[\"Paras\",\"Parasect\"],\"x\":[7.923327922821045,7.926668643951416],\"xaxis\":\"x\",\"y\":[5.316516399383545,5.31110143661499],\"yaxis\":\"y\",\"type\":\"scatter\"},{\"customdata\":[[61,67,62,\"Poliwrath\",\"Water\",\"Fighting\",510,90,95,95,70,90,70,1,false]],\"hovertemplate\":\"<b>%{hovertext}</b><br><br>Type 2=%{customdata[5]}<br>t-SNE dimension 1=%{x}<br>t-SNE dimension 2=%{y}<br>Name=%{customdata[3]}<br>level_0=%{customdata[0]}<br>index=%{customdata[1]}<br>#=%{customdata[2]}<br>Type 1=%{customdata[4]}<br>Total=%{customdata[6]}<br>HP=%{customdata[7]}<br>Attack=%{customdata[8]}<br>Defense=%{customdata[9]}<br>Sp. Atk=%{customdata[10]}<br>Sp. Def=%{customdata[11]}<br>Speed=%{customdata[12]}<br>Generation=%{customdata[13]}<br>Legendary=%{customdata[14]}<extra></extra>\",\"hovertext\":[\"Poliwrath\"],\"legendgroup\":\"Fighting\",\"marker\":{\"color\":\"#FF6692\",\"symbol\":\"circle\"},\"mode\":\"markers+text\",\"name\":\"Fighting\",\"orientation\":\"v\",\"showlegend\":true,\"text\":[\"Poliwrath\"],\"x\":[3.853292226791382],\"xaxis\":\"x\",\"y\":[0.8437879085540771],\"yaxis\":\"y\",\"type\":\"scatter\"},{\"customdata\":[[78,85,79,\"Slowpoke\",\"Water\",\"Psychic\",315,90,65,65,40,40,15,1,false],[79,86,80,\"Slowbro\",\"Water\",\"Psychic\",490,95,75,110,100,80,30,1,false],[101,110,102,\"Exeggcute\",\"Grass\",\"Psychic\",325,60,40,80,60,45,40,1,false],[102,111,103,\"Exeggutor\",\"Grass\",\"Psychic\",520,95,95,85,125,65,55,1,false],[120,130,121,\"Starmie\",\"Water\",\"Psychic\",520,60,75,85,100,85,115,1,false],[123,133,124,\"Jynx\",\"Ice\",\"Psychic\",455,65,50,35,115,95,95,1,false]],\"hovertemplate\":\"<b>%{hovertext}</b><br><br>Type 2=%{customdata[5]}<br>t-SNE dimension 1=%{x}<br>t-SNE dimension 2=%{y}<br>Name=%{customdata[3]}<br>level_0=%{customdata[0]}<br>index=%{customdata[1]}<br>#=%{customdata[2]}<br>Type 1=%{customdata[4]}<br>Total=%{customdata[6]}<br>HP=%{customdata[7]}<br>Attack=%{customdata[8]}<br>Defense=%{customdata[9]}<br>Sp. Atk=%{customdata[10]}<br>Sp. Def=%{customdata[11]}<br>Speed=%{customdata[12]}<br>Generation=%{customdata[13]}<br>Legendary=%{customdata[14]}<extra></extra>\",\"hovertext\":[\"Slowpoke\",\"Slowbro\",\"Exeggcute\",\"Exeggutor\",\"Starmie\",\"Jynx\"],\"legendgroup\":\"Psychic\",\"marker\":{\"color\":\"#B6E880\",\"symbol\":\"circle\"},\"mode\":\"markers+text\",\"name\":\"Psychic\",\"orientation\":\"v\",\"showlegend\":true,\"text\":[\"Slowpoke\",\"Slowbro\",\"Exeggcute\",\"Exeggutor\",\"Starmie\",\"Jynx\"],\"x\":[5.039031505584717,5.242059707641602,8.015301704406738,7.9736714363098145,5.448714733123779,6.537182807922363],\"xaxis\":\"x\",\"y\":[2.3409340381622314,2.1381466388702393,2.3437883853912354,2.348297595977783,2.0386078357696533,2.48197340965271],\"yaxis\":\"y\",\"type\":\"scatter\"},{\"customdata\":[[80,88,81,\"Magnemite\",\"Electric\",\"Steel\",325,25,35,70,95,55,45,1,false],[81,89,82,\"Magneton\",\"Electric\",\"Steel\",465,50,60,95,120,70,70,1,false]],\"hovertemplate\":\"<b>%{hovertext}</b><br><br>Type 2=%{customdata[5]}<br>t-SNE dimension 1=%{x}<br>t-SNE dimension 2=%{y}<br>Name=%{customdata[3]}<br>level_0=%{customdata[0]}<br>index=%{customdata[1]}<br>#=%{customdata[2]}<br>Type 1=%{customdata[4]}<br>Total=%{customdata[6]}<br>HP=%{customdata[7]}<br>Attack=%{customdata[8]}<br>Defense=%{customdata[9]}<br>Sp. Atk=%{customdata[10]}<br>Sp. Def=%{customdata[11]}<br>Speed=%{customdata[12]}<br>Generation=%{customdata[13]}<br>Legendary=%{customdata[14]}<extra></extra>\",\"hovertext\":[\"Magnemite\",\"Magneton\"],\"legendgroup\":\"Steel\",\"marker\":{\"color\":\"#FF97FF\",\"symbol\":\"circle\"},\"mode\":\"markers+text\",\"name\":\"Steel\",\"orientation\":\"v\",\"showlegend\":true,\"text\":[\"Magnemite\",\"Magneton\"],\"x\":[1.0172042846679688,1.0065956115722656],\"xaxis\":\"x\",\"y\":[8.63024616241455,8.629434585571289],\"yaxis\":\"y\",\"type\":\"scatter\"},{\"customdata\":[[86,94,87,\"Dewgong\",\"Water\",\"Ice\",475,90,70,80,70,95,70,1,false],[90,98,91,\"Cloyster\",\"Water\",\"Ice\",525,50,95,180,85,45,70,1,false],[130,142,131,\"Lapras\",\"Water\",\"Ice\",535,130,85,80,85,95,60,1,false]],\"hovertemplate\":\"<b>%{hovertext}</b><br><br>Type 2=%{customdata[5]}<br>t-SNE dimension 1=%{x}<br>t-SNE dimension 2=%{y}<br>Name=%{customdata[3]}<br>level_0=%{customdata[0]}<br>index=%{customdata[1]}<br>#=%{customdata[2]}<br>Type 1=%{customdata[4]}<br>Total=%{customdata[6]}<br>HP=%{customdata[7]}<br>Attack=%{customdata[8]}<br>Defense=%{customdata[9]}<br>Sp. Atk=%{customdata[10]}<br>Sp. Def=%{customdata[11]}<br>Speed=%{customdata[12]}<br>Generation=%{customdata[13]}<br>Legendary=%{customdata[14]}<extra></extra>\",\"hovertext\":[\"Dewgong\",\"Cloyster\",\"Lapras\"],\"legendgroup\":\"Ice\",\"marker\":{\"color\":\"#FECB52\",\"symbol\":\"circle\"},\"mode\":\"markers+text\",\"name\":\"Ice\",\"orientation\":\"v\",\"showlegend\":true,\"text\":[\"Dewgong\",\"Cloyster\",\"Lapras\"],\"x\":[3.9545528888702393,3.7230887413024902,3.9541079998016357],\"xaxis\":\"x\",\"y\":[-0.5169774293899536,-0.6061301827430725,-0.5285832285881042],\"yaxis\":\"y\",\"type\":\"scatter\"},{\"customdata\":[[110,119,111,\"Rhyhorn\",\"Ground\",\"Rock\",345,80,85,95,30,30,25,1,false],[111,120,112,\"Rhydon\",\"Ground\",\"Rock\",485,105,130,120,45,45,40,1,false]],\"hovertemplate\":\"<b>%{hovertext}</b><br><br>Type 2=%{customdata[5]}<br>t-SNE dimension 1=%{x}<br>t-SNE dimension 2=%{y}<br>Name=%{customdata[3]}<br>level_0=%{customdata[0]}<br>index=%{customdata[1]}<br>#=%{customdata[2]}<br>Type 1=%{customdata[4]}<br>Total=%{customdata[6]}<br>HP=%{customdata[7]}<br>Attack=%{customdata[8]}<br>Defense=%{customdata[9]}<br>Sp. Atk=%{customdata[10]}<br>Sp. Def=%{customdata[11]}<br>Speed=%{customdata[12]}<br>Generation=%{customdata[13]}<br>Legendary=%{customdata[14]}<extra></extra>\",\"hovertext\":[\"Rhyhorn\",\"Rhydon\"],\"legendgroup\":\"Rock\",\"marker\":{\"color\":\"#636efa\",\"symbol\":\"circle\"},\"mode\":\"markers+text\",\"name\":\"Rock\",\"orientation\":\"v\",\"showlegend\":true,\"text\":[\"Rhyhorn\",\"Rhydon\"],\"x\":[-10.612896919250488,-10.621301651000977],\"xaxis\":\"x\",\"y\":[6.203160285949707,6.2174530029296875],\"yaxis\":\"y\",\"type\":\"scatter\"},{\"customdata\":[[137,149,138,\"Omanyte\",\"Rock\",\"Water\",355,35,40,100,90,55,35,1,false],[138,150,139,\"Omastar\",\"Rock\",\"Water\",495,70,60,125,115,70,55,1,false],[139,151,140,\"Kabuto\",\"Rock\",\"Water\",355,30,80,90,55,45,55,1,false],[140,152,141,\"Kabutops\",\"Rock\",\"Water\",495,60,115,105,65,70,80,1,false]],\"hovertemplate\":\"<b>%{hovertext}</b><br><br>Type 2=%{customdata[5]}<br>t-SNE dimension 1=%{x}<br>t-SNE dimension 2=%{y}<br>Name=%{customdata[3]}<br>level_0=%{customdata[0]}<br>index=%{customdata[1]}<br>#=%{customdata[2]}<br>Type 1=%{customdata[4]}<br>Total=%{customdata[6]}<br>HP=%{customdata[7]}<br>Attack=%{customdata[8]}<br>Defense=%{customdata[9]}<br>Sp. Atk=%{customdata[10]}<br>Sp. Def=%{customdata[11]}<br>Speed=%{customdata[12]}<br>Generation=%{customdata[13]}<br>Legendary=%{customdata[14]}<extra></extra>\",\"hovertext\":[\"Omanyte\",\"Omastar\",\"Kabuto\",\"Kabutops\"],\"legendgroup\":\"Water\",\"marker\":{\"color\":\"#EF553B\",\"symbol\":\"circle\"},\"mode\":\"markers+text\",\"name\":\"Water\",\"orientation\":\"v\",\"showlegend\":true,\"text\":[\"Omanyte\",\"Omastar\",\"Kabuto\",\"Kabutops\"],\"x\":[-5.239394187927246,-5.161862850189209,-5.226126670837402,-5.107755184173584],\"xaxis\":\"x\",\"y\":[-9.725212097167969,-9.732190132141113,-9.606818199157715,-9.585237503051758],\"yaxis\":\"y\",\"type\":\"scatter\"}],                        {\"template\":{\"data\":{\"histogram2dcontour\":[{\"type\":\"histogram2dcontour\",\"colorbar\":{\"outlinewidth\":0,\"ticks\":\"\"},\"colorscale\":[[0.0,\"#0d0887\"],[0.1111111111111111,\"#46039f\"],[0.2222222222222222,\"#7201a8\"],[0.3333333333333333,\"#9c179e\"],[0.4444444444444444,\"#bd3786\"],[0.5555555555555556,\"#d8576b\"],[0.6666666666666666,\"#ed7953\"],[0.7777777777777778,\"#fb9f3a\"],[0.8888888888888888,\"#fdca26\"],[1.0,\"#f0f921\"]]}],\"choropleth\":[{\"type\":\"choropleth\",\"colorbar\":{\"outlinewidth\":0,\"ticks\":\"\"}}],\"histogram2d\":[{\"type\":\"histogram2d\",\"colorbar\":{\"outlinewidth\":0,\"ticks\":\"\"},\"colorscale\":[[0.0,\"#0d0887\"],[0.1111111111111111,\"#46039f\"],[0.2222222222222222,\"#7201a8\"],[0.3333333333333333,\"#9c179e\"],[0.4444444444444444,\"#bd3786\"],[0.5555555555555556,\"#d8576b\"],[0.6666666666666666,\"#ed7953\"],[0.7777777777777778,\"#fb9f3a\"],[0.8888888888888888,\"#fdca26\"],[1.0,\"#f0f921\"]]}],\"heatmap\":[{\"type\":\"heatmap\",\"colorbar\":{\"outlinewidth\":0,\"ticks\":\"\"},\"colorscale\":[[0.0,\"#0d0887\"],[0.1111111111111111,\"#46039f\"],[0.2222222222222222,\"#7201a8\"],[0.3333333333333333,\"#9c179e\"],[0.4444444444444444,\"#bd3786\"],[0.5555555555555556,\"#d8576b\"],[0.6666666666666666,\"#ed7953\"],[0.7777777777777778,\"#fb9f3a\"],[0.8888888888888888,\"#fdca26\"],[1.0,\"#f0f921\"]]}],\"heatmapgl\":[{\"type\":\"heatmapgl\",\"colorbar\":{\"outlinewidth\":0,\"ticks\":\"\"},\"colorscale\":[[0.0,\"#0d0887\"],[0.1111111111111111,\"#46039f\"],[0.2222222222222222,\"#7201a8\"],[0.3333333333333333,\"#9c179e\"],[0.4444444444444444,\"#bd3786\"],[0.5555555555555556,\"#d8576b\"],[0.6666666666666666,\"#ed7953\"],[0.7777777777777778,\"#fb9f3a\"],[0.8888888888888888,\"#fdca26\"],[1.0,\"#f0f921\"]]}],\"contourcarpet\":[{\"type\":\"contourcarpet\",\"colorbar\":{\"outlinewidth\":0,\"ticks\":\"\"}}],\"contour\":[{\"type\":\"contour\",\"colorbar\":{\"outlinewidth\":0,\"ticks\":\"\"},\"colorscale\":[[0.0,\"#0d0887\"],[0.1111111111111111,\"#46039f\"],[0.2222222222222222,\"#7201a8\"],[0.3333333333333333,\"#9c179e\"],[0.4444444444444444,\"#bd3786\"],[0.5555555555555556,\"#d8576b\"],[0.6666666666666666,\"#ed7953\"],[0.7777777777777778,\"#fb9f3a\"],[0.8888888888888888,\"#fdca26\"],[1.0,\"#f0f921\"]]}],\"surface\":[{\"type\":\"surface\",\"colorbar\":{\"outlinewidth\":0,\"ticks\":\"\"},\"colorscale\":[[0.0,\"#0d0887\"],[0.1111111111111111,\"#46039f\"],[0.2222222222222222,\"#7201a8\"],[0.3333333333333333,\"#9c179e\"],[0.4444444444444444,\"#bd3786\"],[0.5555555555555556,\"#d8576b\"],[0.6666666666666666,\"#ed7953\"],[0.7777777777777778,\"#fb9f3a\"],[0.8888888888888888,\"#fdca26\"],[1.0,\"#f0f921\"]]}],\"mesh3d\":[{\"type\":\"mesh3d\",\"colorbar\":{\"outlinewidth\":0,\"ticks\":\"\"}}],\"scatter\":[{\"fillpattern\":{\"fillmode\":\"overlay\",\"size\":10,\"solidity\":0.2},\"type\":\"scatter\"}],\"parcoords\":[{\"type\":\"parcoords\",\"line\":{\"colorbar\":{\"outlinewidth\":0,\"ticks\":\"\"}}}],\"scatterpolargl\":[{\"type\":\"scatterpolargl\",\"marker\":{\"colorbar\":{\"outlinewidth\":0,\"ticks\":\"\"}}}],\"bar\":[{\"error_x\":{\"color\":\"#2a3f5f\"},\"error_y\":{\"color\":\"#2a3f5f\"},\"marker\":{\"line\":{\"color\":\"#E5ECF6\",\"width\":0.5},\"pattern\":{\"fillmode\":\"overlay\",\"size\":10,\"solidity\":0.2}},\"type\":\"bar\"}],\"scattergeo\":[{\"type\":\"scattergeo\",\"marker\":{\"colorbar\":{\"outlinewidth\":0,\"ticks\":\"\"}}}],\"scatterpolar\":[{\"type\":\"scatterpolar\",\"marker\":{\"colorbar\":{\"outlinewidth\":0,\"ticks\":\"\"}}}],\"histogram\":[{\"marker\":{\"pattern\":{\"fillmode\":\"overlay\",\"size\":10,\"solidity\":0.2}},\"type\":\"histogram\"}],\"scattergl\":[{\"type\":\"scattergl\",\"marker\":{\"colorbar\":{\"outlinewidth\":0,\"ticks\":\"\"}}}],\"scatter3d\":[{\"type\":\"scatter3d\",\"line\":{\"colorbar\":{\"outlinewidth\":0,\"ticks\":\"\"}},\"marker\":{\"colorbar\":{\"outlinewidth\":0,\"ticks\":\"\"}}}],\"scattermapbox\":[{\"type\":\"scattermapbox\",\"marker\":{\"colorbar\":{\"outlinewidth\":0,\"ticks\":\"\"}}}],\"scatterternary\":[{\"type\":\"scatterternary\",\"marker\":{\"colorbar\":{\"outlinewidth\":0,\"ticks\":\"\"}}}],\"scattercarpet\":[{\"type\":\"scattercarpet\",\"marker\":{\"colorbar\":{\"outlinewidth\":0,\"ticks\":\"\"}}}],\"carpet\":[{\"aaxis\":{\"endlinecolor\":\"#2a3f5f\",\"gridcolor\":\"white\",\"linecolor\":\"white\",\"minorgridcolor\":\"white\",\"startlinecolor\":\"#2a3f5f\"},\"baxis\":{\"endlinecolor\":\"#2a3f5f\",\"gridcolor\":\"white\",\"linecolor\":\"white\",\"minorgridcolor\":\"white\",\"startlinecolor\":\"#2a3f5f\"},\"type\":\"carpet\"}],\"table\":[{\"cells\":{\"fill\":{\"color\":\"#EBF0F8\"},\"line\":{\"color\":\"white\"}},\"header\":{\"fill\":{\"color\":\"#C8D4E3\"},\"line\":{\"color\":\"white\"}},\"type\":\"table\"}],\"barpolar\":[{\"marker\":{\"line\":{\"color\":\"#E5ECF6\",\"width\":0.5},\"pattern\":{\"fillmode\":\"overlay\",\"size\":10,\"solidity\":0.2}},\"type\":\"barpolar\"}],\"pie\":[{\"automargin\":true,\"type\":\"pie\"}]},\"layout\":{\"autotypenumbers\":\"strict\",\"colorway\":[\"#636efa\",\"#EF553B\",\"#00cc96\",\"#ab63fa\",\"#FFA15A\",\"#19d3f3\",\"#FF6692\",\"#B6E880\",\"#FF97FF\",\"#FECB52\"],\"font\":{\"color\":\"#2a3f5f\"},\"hovermode\":\"closest\",\"hoverlabel\":{\"align\":\"left\"},\"paper_bgcolor\":\"white\",\"plot_bgcolor\":\"#E5ECF6\",\"polar\":{\"bgcolor\":\"#E5ECF6\",\"angularaxis\":{\"gridcolor\":\"white\",\"linecolor\":\"white\",\"ticks\":\"\"},\"radialaxis\":{\"gridcolor\":\"white\",\"linecolor\":\"white\",\"ticks\":\"\"}},\"ternary\":{\"bgcolor\":\"#E5ECF6\",\"aaxis\":{\"gridcolor\":\"white\",\"linecolor\":\"white\",\"ticks\":\"\"},\"baxis\":{\"gridcolor\":\"white\",\"linecolor\":\"white\",\"ticks\":\"\"},\"caxis\":{\"gridcolor\":\"white\",\"linecolor\":\"white\",\"ticks\":\"\"}},\"coloraxis\":{\"colorbar\":{\"outlinewidth\":0,\"ticks\":\"\"}},\"colorscale\":{\"sequential\":[[0.0,\"#0d0887\"],[0.1111111111111111,\"#46039f\"],[0.2222222222222222,\"#7201a8\"],[0.3333333333333333,\"#9c179e\"],[0.4444444444444444,\"#bd3786\"],[0.5555555555555556,\"#d8576b\"],[0.6666666666666666,\"#ed7953\"],[0.7777777777777778,\"#fb9f3a\"],[0.8888888888888888,\"#fdca26\"],[1.0,\"#f0f921\"]],\"sequentialminus\":[[0.0,\"#0d0887\"],[0.1111111111111111,\"#46039f\"],[0.2222222222222222,\"#7201a8\"],[0.3333333333333333,\"#9c179e\"],[0.4444444444444444,\"#bd3786\"],[0.5555555555555556,\"#d8576b\"],[0.6666666666666666,\"#ed7953\"],[0.7777777777777778,\"#fb9f3a\"],[0.8888888888888888,\"#fdca26\"],[1.0,\"#f0f921\"]],\"diverging\":[[0,\"#8e0152\"],[0.1,\"#c51b7d\"],[0.2,\"#de77ae\"],[0.3,\"#f1b6da\"],[0.4,\"#fde0ef\"],[0.5,\"#f7f7f7\"],[0.6,\"#e6f5d0\"],[0.7,\"#b8e186\"],[0.8,\"#7fbc41\"],[0.9,\"#4d9221\"],[1,\"#276419\"]]},\"xaxis\":{\"gridcolor\":\"white\",\"linecolor\":\"white\",\"ticks\":\"\",\"title\":{\"standoff\":15},\"zerolinecolor\":\"white\",\"automargin\":true,\"zerolinewidth\":2},\"yaxis\":{\"gridcolor\":\"white\",\"linecolor\":\"white\",\"ticks\":\"\",\"title\":{\"standoff\":15},\"zerolinecolor\":\"white\",\"automargin\":true,\"zerolinewidth\":2},\"scene\":{\"xaxis\":{\"backgroundcolor\":\"#E5ECF6\",\"gridcolor\":\"white\",\"linecolor\":\"white\",\"showbackground\":true,\"ticks\":\"\",\"zerolinecolor\":\"white\",\"gridwidth\":2},\"yaxis\":{\"backgroundcolor\":\"#E5ECF6\",\"gridcolor\":\"white\",\"linecolor\":\"white\",\"showbackground\":true,\"ticks\":\"\",\"zerolinecolor\":\"white\",\"gridwidth\":2},\"zaxis\":{\"backgroundcolor\":\"#E5ECF6\",\"gridcolor\":\"white\",\"linecolor\":\"white\",\"showbackground\":true,\"ticks\":\"\",\"zerolinecolor\":\"white\",\"gridwidth\":2}},\"shapedefaults\":{\"line\":{\"color\":\"#2a3f5f\"}},\"annotationdefaults\":{\"arrowcolor\":\"#2a3f5f\",\"arrowhead\":0,\"arrowwidth\":1},\"geo\":{\"bgcolor\":\"white\",\"landcolor\":\"#E5ECF6\",\"subunitcolor\":\"white\",\"showland\":true,\"showlakes\":true,\"lakecolor\":\"white\"},\"title\":{\"x\":0.05},\"mapbox\":{\"style\":\"light\"}}},\"xaxis\":{\"anchor\":\"y\",\"domain\":[0.0,1.0],\"title\":{\"text\":\"t-SNE dimension 1\"}},\"yaxis\":{\"anchor\":\"x\",\"domain\":[0.0,1.0],\"title\":{\"text\":\"t-SNE dimension 2\"}},\"legend\":{\"title\":{\"text\":\"Type 2\"},\"tracegroupgap\":0},\"margin\":{\"t\":60},\"title\":{\"font\":{\"size\":22},\"text\":\"Visualizaci\\u00f3n de Pokemon usando t-SNE <br> Coloreados por tipo secundario\",\"x\":0.5,\"xref\":\"paper\"}},                        {\"responsive\": true}                    ).then(function(){\n",
       "                            \n",
       "var gd = document.getElementById('02b66002-95da-4c7d-86a8-3d64d12e4df6');\n",
       "var x = new MutationObserver(function (mutations, observer) {{\n",
       "        var display = window.getComputedStyle(gd).display;\n",
       "        if (!display || display === 'none') {{\n",
       "            console.log([gd, 'removed!']);\n",
       "            Plotly.purge(gd);\n",
       "            observer.disconnect();\n",
       "        }}\n",
       "}});\n",
       "\n",
       "// Listen for the removal of the full notebook cells\n",
       "var notebookContainer = gd.closest('#notebook-container');\n",
       "if (notebookContainer) {{\n",
       "    x.observe(notebookContainer, {childList: true});\n",
       "}}\n",
       "\n",
       "// Listen for the clearing of the current output cell\n",
       "var outputEl = gd.closest('.output');\n",
       "if (outputEl) {{\n",
       "    x.observe(outputEl, {childList: true});\n",
       "}}\n",
       "\n",
       "                        })                };                });            </script>        </div>"
      ]
     },
     "metadata": {},
     "output_type": "display_data"
    }
   ],
   "source": [
    "fig = px.scatter(df, \"t-SNE dimension 1\", \"t-SNE dimension 2\", hover_data = primera_gen_inicial.columns, hover_name = \"Name\", color = \"Type 2\")\n",
    "# Para graficar con nombres descomentar linea siguiente\n",
    "#fig = px.scatter(df, \"t-SNE dimension 1\", \"t-SNE dimension 2\", hover_data = primera_gen_inicial.columns, hover_name = \"Name\", text = \"Name\", color = \"Type 2\")\n",
    "\n",
    "fig.update_layout(\n",
    "    title=dict(\n",
    "        text=\"Visualización de Pokemon usando t-SNE <br> Coloreados por tipo secundario\",\n",
    "        font=dict(size=22),\n",
    "        x=0.5,\n",
    "        xref=\"paper\"\n",
    "    )\n",
    ")\n",
    "fig.write_image(\"images/by_type_2.svg\")\n",
    "fig.write_html(\"html/by_type_2.html\")\n",
    "fig.show()"
   ]
  },
  {
   "cell_type": "markdown",
   "id": "3b4615d0",
   "metadata": {},
   "source": [
    "# Gráfico 3D\n",
    "\n",
    "- Plotly permite graficar en 3D facilmente.\n",
    "- Se entrena el algoritmo t-SNE con 3 componentes.\n",
    "- Se visualizan resultados, coloreando por **tipo principal** y con tamaño de esfera relativa al **poder total**.\n",
    "- **Poder total** hace referencia a la suma de todas las estadisticas (ataque, defensa, etc).\n"
   ]
  },
  {
   "cell_type": "code",
   "execution_count": 71,
   "id": "6c2a6c47",
   "metadata": {},
   "outputs": [],
   "source": [
    "tsne_3 = TSNE(n_components=3, init=\"pca\", learning_rate=\"auto\", random_state = 42)\n",
    "primera_gen_3d = tsne_3.fit_transform(primera_gen.to_numpy())\n",
    "df_tsne_3 = pd.DataFrame(primera_gen_3d, columns = [\"t-SNE dimension 1\", \"t-SNE dimension 2\", \"t-SNE dimension 3\"])\n",
    "\n",
    "df_3d = pd.concat([primera_gen_inicial, df_tsne_3], axis=1)\n",
    "fig = px.scatter_3d(df_3d, \"t-SNE dimension 1\", \"t-SNE dimension 2\", \"t-SNE dimension 3\", hover_data = primera_gen_inicial.columns, hover_name = \"Name\", text = \"Name\", color = \"Type 1\", size = \"Total\")\n",
    "\n",
    "\n",
    "fig.update_layout(\n",
    "    title=dict(\n",
    "        text=\"Visualización 3D de Pokemon usando t-SNE <br> Coloreados por tipo principal y tamaño por poder total\",\n",
    "        font=dict(size=22),\n",
    "        x=0.5,\n",
    "        xref=\"paper\"\n",
    "    )\n",
    ")\n",
    "\n",
    "fig.write_html(\"html/pokemon_3d.html\")"
   ]
  },
  {
   "cell_type": "code",
   "execution_count": null,
   "id": "d448e8a5",
   "metadata": {},
   "outputs": [],
   "source": []
  }
 ],
 "metadata": {
  "kernelspec": {
   "display_name": "Python 3 (ipykernel)",
   "language": "python",
   "name": "python3"
  },
  "language_info": {
   "codemirror_mode": {
    "name": "ipython",
    "version": 3
   },
   "file_extension": ".py",
   "mimetype": "text/x-python",
   "name": "python",
   "nbconvert_exporter": "python",
   "pygments_lexer": "ipython3",
   "version": "3.11.4"
  }
 },
 "nbformat": 4,
 "nbformat_minor": 5
}
